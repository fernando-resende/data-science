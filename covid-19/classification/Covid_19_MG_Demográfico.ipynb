{
  "nbformat": 4,
  "nbformat_minor": 0,
  "metadata": {
    "colab": {
      "name": "Covid-19 - MG - Demográfico",
      "provenance": [],
      "collapsed_sections": [],
      "toc_visible": true
    },
    "kernelspec": {
      "name": "python3",
      "display_name": "Python 3"
    }
  },
  "cells": [
    {
      "cell_type": "markdown",
      "metadata": {
        "id": "BF1PtxSMpNHY"
      },
      "source": [
        "# Análise e predição de recuperação e óbitos da Covid-19 em Minas Gerais"
      ]
    },
    {
      "cell_type": "markdown",
      "metadata": {
        "id": "-NzchZU8Obsy"
      },
      "source": [
        "## Orientação\n",
        "Este notebook foi criado no ambiente *Google Colab*, portanto para garantir o correto funcionamento recomenda-se que seja executado neste ambiente."
      ]
    },
    {
      "cell_type": "markdown",
      "metadata": {
        "id": "SWP6Tq77pvFo"
      },
      "source": [
        "## Introdução\n",
        "Trabalho de conclusão de curso de pós graduação em Ciência de dados e Big Data na PUC Minas - Virtual."
      ]
    },
    {
      "cell_type": "markdown",
      "metadata": {
        "id": "8faZjvEBpx0k"
      },
      "source": [
        "## Objetivo\n",
        "Analisar os dados de óbitos e recuperações nas cidades e regiões de Minas Gerais e gerar modelos de machine learning (ML) para prever se determinado paciente infectado evoluirá para óbito ou recuperação."
      ]
    },
    {
      "cell_type": "markdown",
      "metadata": {
        "id": "vqdsZOcKpz0I"
      },
      "source": [
        "## Preparação do ambiente\n",
        "Importações de bibliotecas"
      ]
    },
    {
      "cell_type": "code",
      "metadata": {
        "id": "24_p4wmZiHyS"
      },
      "source": [
        "import pandas as pd\n",
        "import numpy as np\n",
        "import datetime as dt\n",
        "import seaborn as sns\n",
        "import matplotlib.pyplot as plt\n",
        "from sklearn.preprocessing import LabelEncoder\n",
        "from sklearn.tree import DecisionTreeClassifier\n",
        "\n",
        "np.random.seed(9483) # semente padrão para estado aleatório\n",
        "sns.set_theme() # tema padrão do seaborn\n",
        "plt.rc(\"figure\", figsize=(12,8)) # tamanho padrão de plotagem\n",
        "color_palette = 'Reds_r' # paleta de cores padrão para os gráficos\n",
        "fig_size = {'w':8,'h':5} # tamanho padrão para uso nos gráficos"
      ],
      "execution_count": 1,
      "outputs": []
    },
    {
      "cell_type": "markdown",
      "metadata": {
        "id": "9gDsrjWlqpWI"
      },
      "source": [
        "## Obtenção dos dados"
      ]
    },
    {
      "cell_type": "markdown",
      "metadata": {
        "id": "2T-Ch2YJswYe"
      },
      "source": [
        "### Secretaria de Estado de Saúde de Minas Gerais - SES"
      ]
    },
    {
      "cell_type": "markdown",
      "metadata": {
        "id": "GuyTIVl3kKcv"
      },
      "source": [
        "Serão obtidos dados de recuperados, em acompanhamento e óbitos causados pela Covid-19 nos municípios de Minas Gerais.\n",
        "\n",
        "Os dados são disponibilizados publicamente pela Secretaria de Estado de Saúde de Minas Gerais - SES, em formato *xlsx*, disponível em [https://coronavirus.saude.mg.gov.br/images/microdados/xlsx_sistemas.xlsx](https://coronavirus.saude.mg.gov.br/images/microdados/xlsx_sistemas.xlsx).\n",
        "\n",
        "O arquivo é uma pasta de trabalho com apenas uma planilha, contendo informações específicas sobre os infectados da Covid-19 nos municípios.\n",
        "\n",
        "Para este trabalho serão considerados os dados atualizados em 23/04/2021. O arquivo está disponível em ['https://github.com/fernando-resende/data-science/blob/main/covid-19/classification/datasets/xlsx_sistemas.xlsx?raw=true']('https://github.com/fernando-resende/data-science/blob/main/covid-19/classification/datasets/xlsx_sistemas.xlsx?raw=true').\n",
        "\n",
        "Caso prefira avaliar os dados atuais, passe *True* como valor do parâmetro *download_from_source* na função *get_covid_dataframe*.\n",
        "\n",
        "**Atenção:** arquivo grande, leva em média mais de 30 segundos para ser carregado."
      ]
    },
    {
      "cell_type": "code",
      "metadata": {
        "id": "hHvM7MTjOxqx"
      },
      "source": [
        "# Se download_from_source = True, baixará os arquivos da fonte original\n",
        "def get_covid_dataframe(download_from_source = False):\n",
        "  if not download_from_source:\n",
        "    covid_file_path = 'https://github.com/fernando-resende/data-science/blob/main/covid-19/classification/datasets/xlsx_sistemas.xlsx?raw=true'\n",
        "  else:\n",
        "    covid_file_path = 'https://coronavirus.saude.mg.gov.br/images/microdados/xlsx_sistemas.xlsx'\n",
        "  return pd.read_excel(covid_file_path)"
      ],
      "execution_count": 2,
      "outputs": []
    },
    {
      "cell_type": "code",
      "metadata": {
        "id": "C_8cmYn8jPn3"
      },
      "source": [
        "covid_demographic_mg = get_covid_dataframe()"
      ],
      "execution_count": 3,
      "outputs": []
    },
    {
      "cell_type": "markdown",
      "metadata": {
        "id": "ojoNgEy25ACQ"
      },
      "source": [
        "Exibindo amostras aleatórias dos datasets"
      ]
    },
    {
      "cell_type": "code",
      "metadata": {
        "colab": {
          "base_uri": "https://localhost:8080/",
          "height": 343
        },
        "id": "wGW-blzpwbMm",
        "outputId": "bc62efa9-ca0c-44c4-bff7-53f9aa9fac5b"
      },
      "source": [
        "covid_demographic_mg.sample(5)"
      ],
      "execution_count": 4,
      "outputs": [
        {
          "output_type": "execute_result",
          "data": {
            "text/html": [
              "<div>\n",
              "<style scoped>\n",
              "    .dataframe tbody tr th:only-of-type {\n",
              "        vertical-align: middle;\n",
              "    }\n",
              "\n",
              "    .dataframe tbody tr th {\n",
              "        vertical-align: top;\n",
              "    }\n",
              "\n",
              "    .dataframe thead th {\n",
              "        text-align: right;\n",
              "    }\n",
              "</style>\n",
              "<table border=\"1\" class=\"dataframe\">\n",
              "  <thead>\n",
              "    <tr style=\"text-align: right;\">\n",
              "      <th></th>\n",
              "      <th>ID</th>\n",
              "      <th>URS</th>\n",
              "      <th>MICRO</th>\n",
              "      <th>MACRO</th>\n",
              "      <th>DATA_NOTIFICACAO</th>\n",
              "      <th>CLASSIFICACAO_CASO</th>\n",
              "      <th>SEXO</th>\n",
              "      <th>IDADE</th>\n",
              "      <th>FAIXA_ETARIA</th>\n",
              "      <th>MUNICIPIO_RESIDENCIA</th>\n",
              "      <th>CODIGO</th>\n",
              "      <th>EVOLUCAO</th>\n",
              "      <th>DATA_EVOLUCAO</th>\n",
              "      <th>INTERNACAO</th>\n",
              "      <th>UTI</th>\n",
              "      <th>RACA</th>\n",
              "      <th>COMORBIDADE</th>\n",
              "      <th>DATA_ATUALIZACAO</th>\n",
              "      <th>ORIGEM_DA_INFORMACAO</th>\n",
              "    </tr>\n",
              "  </thead>\n",
              "  <tbody>\n",
              "    <tr>\n",
              "      <th>363567</th>\n",
              "      <td>363568</td>\n",
              "      <td>PASSOS</td>\n",
              "      <td>PASSOS</td>\n",
              "      <td>SUL</td>\n",
              "      <td>25/01/2021</td>\n",
              "      <td>CASO CONFIRMADO</td>\n",
              "      <td>MASCULINO</td>\n",
              "      <td>24.0</td>\n",
              "      <td>20 A 29 ANOS</td>\n",
              "      <td>NOVA RESENDE</td>\n",
              "      <td>314510.0</td>\n",
              "      <td>RECUPERADO</td>\n",
              "      <td>NaN</td>\n",
              "      <td>NAO</td>\n",
              "      <td>NAO</td>\n",
              "      <td>BRANCA</td>\n",
              "      <td>NAO INFORMADO</td>\n",
              "      <td>23/04/2021</td>\n",
              "      <td>ESUS</td>\n",
              "    </tr>\n",
              "    <tr>\n",
              "      <th>49559</th>\n",
              "      <td>49560</td>\n",
              "      <td>BELO HORIZONTE</td>\n",
              "      <td>BELO HORIZONTE/NOVA LIMA/CAETE</td>\n",
              "      <td>CENTRO</td>\n",
              "      <td>26/08/2020</td>\n",
              "      <td>CASO CONFIRMADO</td>\n",
              "      <td>MASCULINO</td>\n",
              "      <td>55.0</td>\n",
              "      <td>50 A 59 ANOS</td>\n",
              "      <td>BELO HORIZONTE</td>\n",
              "      <td>310620.0</td>\n",
              "      <td>RECUPERADO</td>\n",
              "      <td>NaN</td>\n",
              "      <td>SIM</td>\n",
              "      <td>NAO</td>\n",
              "      <td>NAO INFORMADO</td>\n",
              "      <td>SIM</td>\n",
              "      <td>23/04/2021</td>\n",
              "      <td>SIVEP</td>\n",
              "    </tr>\n",
              "    <tr>\n",
              "      <th>451542</th>\n",
              "      <td>451543</td>\n",
              "      <td>VARGINHA</td>\n",
              "      <td>TRES PONTAS</td>\n",
              "      <td>SUL</td>\n",
              "      <td>22/03/2021</td>\n",
              "      <td>CASO CONFIRMADO</td>\n",
              "      <td>MASCULINO</td>\n",
              "      <td>58.0</td>\n",
              "      <td>50 A 59 ANOS</td>\n",
              "      <td>TRES PONTAS</td>\n",
              "      <td>316940.0</td>\n",
              "      <td>EM ACOMPANHAMENTO</td>\n",
              "      <td>NaN</td>\n",
              "      <td>NAO</td>\n",
              "      <td>NAO</td>\n",
              "      <td>PARDA</td>\n",
              "      <td>NAO INFORMADO</td>\n",
              "      <td>23/04/2021</td>\n",
              "      <td>ESUS</td>\n",
              "    </tr>\n",
              "    <tr>\n",
              "      <th>54996</th>\n",
              "      <td>54997</td>\n",
              "      <td>BELO HORIZONTE</td>\n",
              "      <td>BELO HORIZONTE/NOVA LIMA/CAETE</td>\n",
              "      <td>CENTRO</td>\n",
              "      <td>27/11/2020</td>\n",
              "      <td>CASO CONFIRMADO</td>\n",
              "      <td>FEMININO</td>\n",
              "      <td>47.0</td>\n",
              "      <td>40 A 49 ANOS</td>\n",
              "      <td>BELO HORIZONTE</td>\n",
              "      <td>310620.0</td>\n",
              "      <td>RECUPERADO</td>\n",
              "      <td>NaN</td>\n",
              "      <td>SIM</td>\n",
              "      <td>NAO</td>\n",
              "      <td>PARDA</td>\n",
              "      <td>NAO</td>\n",
              "      <td>23/04/2021</td>\n",
              "      <td>SIVEP</td>\n",
              "    </tr>\n",
              "    <tr>\n",
              "      <th>167850</th>\n",
              "      <td>167851</td>\n",
              "      <td>DIVINOPOLIS</td>\n",
              "      <td>PARA DE MINAS</td>\n",
              "      <td>OESTE</td>\n",
              "      <td>07/11/2020</td>\n",
              "      <td>CASO CONFIRMADO</td>\n",
              "      <td>FEMININO</td>\n",
              "      <td>82.0</td>\n",
              "      <td>80 A 89 ANOS</td>\n",
              "      <td>PARA DE MINAS</td>\n",
              "      <td>314710.0</td>\n",
              "      <td>RECUPERADO</td>\n",
              "      <td>NaN</td>\n",
              "      <td>NAO</td>\n",
              "      <td>NAO</td>\n",
              "      <td>PARDA</td>\n",
              "      <td>NAO INFORMADO</td>\n",
              "      <td>23/04/2021</td>\n",
              "      <td>ESUS</td>\n",
              "    </tr>\n",
              "  </tbody>\n",
              "</table>\n",
              "</div>"
            ],
            "text/plain": [
              "            ID             URS  ... DATA_ATUALIZACAO ORIGEM_DA_INFORMACAO\n",
              "363567  363568          PASSOS  ...       23/04/2021                 ESUS\n",
              "49559    49560  BELO HORIZONTE  ...       23/04/2021                SIVEP\n",
              "451542  451543        VARGINHA  ...       23/04/2021                 ESUS\n",
              "54996    54997  BELO HORIZONTE  ...       23/04/2021                SIVEP\n",
              "167850  167851     DIVINOPOLIS  ...       23/04/2021                 ESUS\n",
              "\n",
              "[5 rows x 19 columns]"
            ]
          },
          "metadata": {
            "tags": []
          },
          "execution_count": 4
        }
      ]
    },
    {
      "cell_type": "markdown",
      "metadata": {
        "id": "ALZAlxJbt1lB"
      },
      "source": [
        "### Web Scraping"
      ]
    },
    {
      "cell_type": "markdown",
      "metadata": {
        "id": "0PhscMg4ecZk"
      },
      "source": [
        "Um dos requisitos do trabalho é utilizar técnica de web scraping para obter dados e enriquecer o(s) dataset(s).\n",
        "\n",
        "Será utilizada uma fonte de dados com informações sobre a população estimada, salário médio e Índice de Desenvolvimento Humano Municipal (IDHM) nas cidades do estado de Minas Gerais.\n",
        "\n",
        "Os dados serão obtidos do site do Instituto Brasileiro de Geografia e Estatística - IBGE, disponíveis no seguinte endereço [https://cidades.ibge.gov.br/brasil/sintese/mg?indicadores=29171,30255,29765](https://cidades.ibge.gov.br/brasil/sintese/mg?indicadores=29171,30255,29765).\n",
        "\n",
        "A fonte de dados em questão é apresentada em forma de tabela, porém os dados são carregados dinamicamente. Dessa forma, o uso da biblioteca *requests* para obter a página web diretamente da fonte não atende, pois não consegue tratar carregamentos dinâmicos, resultando em uma tabela vazia quando utilizada.\n",
        "\n",
        "Dessa forma, optou-se por gerar um arquivo HTML estático e disponibilizá-lo no GitHub, para então fazer uso das bibliotecas *requests* e *BeautifullSoup*. Arquivo disponível em [https://github.com/fernando-resende/data-science/blob/main/covid-19/classification/datasets/IBGE_Municipios_MG.html](https://github.com/fernando-resende/data-science/blob/main/covid-19/classification/datasets/IBGE_Municipios_MG.html).\n",
        "\n",
        "Ainda há a opção de obter os dados diretamente da fonte pelo uso da biblioteca *Selenium*, que suporta páginas com conteúdo dinâmico, caso queira passe *True* como valor do parâmetro *download_from_source* na função *web_scraping_mg_cities*.\n",
        "\n",
        "Caso opte pela obtenção dos dados da fonte original, serão feitas instalações, importações e configurações necessárias para execução no ambiente Google Colab. \n",
        "\n",
        "**Atenção:** a inicialização da sessão pelo *web driver* do *Selenium*, geração dinâmica dos dados, coleta e conversão em dataframe leva, em média, mais de 45 segundos. Caso o resultado da execução sejam apenas duas colunas sem conteúdo, pode ser que o site esteja fora do ar, como ocorrido em 05/02/2021, neste caso deve-se executar novamente a célula ou utilizar a fonte alternativa (GitHub)."
      ]
    },
    {
      "cell_type": "code",
      "metadata": {
        "id": "aLsT-Y6nigm7"
      },
      "source": [
        "def web_scraping_mg_cities(download_from_source = False):\n",
        "  if not download_from_source:\n",
        "    # Site do IBGE em manutenção em 05/02/2020\n",
        "    # Contornando com arquivo do Github com a tabela dos municípios\n",
        "    from bs4 import BeautifulSoup\n",
        "    import requests\n",
        "\n",
        "    try:\n",
        "      response = requests.get('https://raw.githubusercontent.com/fernando-resende/data-science/main/covid-19/classification/datasets/IBGE_Municipios_MG.html')\n",
        "      municipios_html = BeautifulSoup(response.text, 'html.parser')\n",
        "\n",
        "      table_elements = municipios_html.select('tbody')\n",
        "      data_list_IBGE = []\n",
        "\n",
        "      for element in table_elements:\n",
        "        row = []\n",
        "        for cell in element.select('tr > *'):\n",
        "          row.append(cell.text)\n",
        "        data_list_IBGE.append(row)\n",
        "\n",
        "      cities = pd.DataFrame(data_list_IBGE)\n",
        "      cities.columns = [x.text for x in municipios_html.select('thead > tr > th')]\n",
        "    except requests.exceptions.RequestException as e:\n",
        "      print(\"Ocorreu um erro.\\nExecute novamente a célula ou alterere a variável 'download_from_source' para obter os dados da fonte original.\")\n",
        "      print(\"Detalhes:\\n\",e)\n",
        "      return None\n",
        "\n",
        "  else:\n",
        "    # https://stackoverflow.com/questions/51046454/how-can-we-use-selenium-webdriver-in-colab-research-google-com\n",
        "    !pip install selenium\n",
        "    !apt-get update \n",
        "    !apt install chromium-chromedriver\n",
        "\n",
        "    from selenium import webdriver\n",
        "    chrome_options = webdriver.ChromeOptions()\n",
        "    chrome_options.add_argument('--headless')\n",
        "    chrome_options.add_argument('--no-sandbox')\n",
        "    chrome_options.add_argument('--disable-dev-shm-usage')\n",
        "    web_driver = webdriver.Chrome('chromedriver',chrome_options=chrome_options)\n",
        "\n",
        "    web_driver.get(\"https://cidades.ibge.gov.br/brasil/sintese/mg?indicadores=29171,30255,29765\")\n",
        "    table_elements = web_driver.find_elements_by_css_selector('#municipios > :not(tfoot)')\n",
        "\n",
        "    # Em algumas situações o web driver não consegue carregar o conteúdo gerado dinamicamente, nesse caso executa-se novamente\n",
        "    if (len(table_elements)<3):\n",
        "      table_elements = get_IBGE_table(web_driver)\n",
        "      if (len(table_elements)<3):\n",
        "        table_elements = None\n",
        "\n",
        "    data_list_IBGE = []\n",
        "\n",
        "    if table_elements != None:\n",
        "      for element in table_elements:\n",
        "        row = []\n",
        "        for cell in element.find_elements_by_css_selector('tr > *'):\n",
        "          row.append(cell.text)\n",
        "        data_list_IBGE.append(row)\n",
        "\n",
        "      cities = pd.DataFrame(data_list_IBGE)\n",
        "      cities.columns = cities.loc[0]\n",
        "      cities = cities.drop(0)\n",
        "\n",
        "  return cities"
      ],
      "execution_count": 5,
      "outputs": []
    },
    {
      "cell_type": "code",
      "metadata": {
        "colab": {
          "base_uri": "https://localhost:8080/",
          "height": 238
        },
        "id": "2dHFqFNLb4uV",
        "outputId": "eaa05d1f-4bf3-4872-bab4-01a03c9405d6"
      },
      "source": [
        "ibge_cities_mg = web_scraping_mg_cities()\n",
        "ibge_cities_mg.head()"
      ],
      "execution_count": 6,
      "outputs": [
        {
          "output_type": "execute_result",
          "data": {
            "text/html": [
              "<div>\n",
              "<style scoped>\n",
              "    .dataframe tbody tr th:only-of-type {\n",
              "        vertical-align: middle;\n",
              "    }\n",
              "\n",
              "    .dataframe tbody tr th {\n",
              "        vertical-align: top;\n",
              "    }\n",
              "\n",
              "    .dataframe thead th {\n",
              "        text-align: right;\n",
              "    }\n",
              "</style>\n",
              "<table border=\"1\" class=\"dataframe\">\n",
              "  <thead>\n",
              "    <tr style=\"text-align: right;\">\n",
              "      <th></th>\n",
              "      <th>Municípios</th>\n",
              "      <th>Gentílico</th>\n",
              "      <th>População estimada</th>\n",
              "      <th>Salário médio mensal dos trabalhadores formais</th>\n",
              "      <th>Índice de Desenvolvimento Humano Municipal (IDHM)</th>\n",
              "    </tr>\n",
              "  </thead>\n",
              "  <tbody>\n",
              "    <tr>\n",
              "      <th>0</th>\n",
              "      <td>Abadia dos Dourados</td>\n",
              "      <td>mineiro</td>\n",
              "      <td>7006 pessoas</td>\n",
              "      <td>1,4 salários mínimos</td>\n",
              "      <td>0,689</td>\n",
              "    </tr>\n",
              "    <tr>\n",
              "      <th>1</th>\n",
              "      <td>Abaeté</td>\n",
              "      <td>mineiro</td>\n",
              "      <td>23250 pessoas</td>\n",
              "      <td>1,9 salários mínimos</td>\n",
              "      <td>0,698</td>\n",
              "    </tr>\n",
              "    <tr>\n",
              "      <th>2</th>\n",
              "      <td>Abre Campo</td>\n",
              "      <td>mineiro</td>\n",
              "      <td>13444 pessoas</td>\n",
              "      <td>1,5 salários mínimos</td>\n",
              "      <td>0,654</td>\n",
              "    </tr>\n",
              "    <tr>\n",
              "      <th>3</th>\n",
              "      <td>Acaiaca</td>\n",
              "      <td>mineiro</td>\n",
              "      <td>3994 pessoas</td>\n",
              "      <td>1,6 salários mínimos</td>\n",
              "      <td>0,630</td>\n",
              "    </tr>\n",
              "    <tr>\n",
              "      <th>4</th>\n",
              "      <td>Açucena</td>\n",
              "      <td>mineiro</td>\n",
              "      <td>9368 pessoas</td>\n",
              "      <td>1,5 salários mínimos</td>\n",
              "      <td>0,610</td>\n",
              "    </tr>\n",
              "  </tbody>\n",
              "</table>\n",
              "</div>"
            ],
            "text/plain": [
              "            Municípios  ... Índice de Desenvolvimento Humano Municipal (IDHM)\n",
              "0  Abadia dos Dourados  ...                                            0,689 \n",
              "1               Abaeté  ...                                            0,698 \n",
              "2           Abre Campo  ...                                            0,654 \n",
              "3              Acaiaca  ...                                            0,630 \n",
              "4              Açucena  ...                                            0,610 \n",
              "\n",
              "[5 rows x 5 columns]"
            ]
          },
          "metadata": {
            "tags": []
          },
          "execution_count": 6
        }
      ]
    },
    {
      "cell_type": "markdown",
      "metadata": {
        "id": "o9d3_wF1qflI"
      },
      "source": [
        "## Tratamento dos dados\n",
        "Serão verificadas descrições dos dataframes, se existem valores ausentes e outras verificações julgadas relevantes.\n",
        "\n",
        "Remoções, inserções, ajustes e outras ações nos dataframes poderão ser realizados durante o processo de tratamento."
      ]
    },
    {
      "cell_type": "markdown",
      "metadata": {
        "id": "-m7F3ituuRr4"
      },
      "source": [
        "### Dados da covid-19\n",
        "Verificando informações do dataset."
      ]
    },
    {
      "cell_type": "code",
      "metadata": {
        "colab": {
          "base_uri": "https://localhost:8080/"
        },
        "id": "kEX_yDvHqloW",
        "outputId": "11871c4a-3d9b-4a8d-82df-2fb511004007"
      },
      "source": [
        "print('Descrição do dataset demográfico da covid-19 em MG\\n')\n",
        "print(covid_demographic_mg.info())"
      ],
      "execution_count": 7,
      "outputs": [
        {
          "output_type": "stream",
          "text": [
            "Descrição do dataset demográfico da covid-19 em MG\n",
            "\n",
            "<class 'pandas.core.frame.DataFrame'>\n",
            "RangeIndex: 555700 entries, 0 to 555699\n",
            "Data columns (total 19 columns):\n",
            " #   Column                Non-Null Count   Dtype  \n",
            "---  ------                --------------   -----  \n",
            " 0   ID                    555700 non-null  int64  \n",
            " 1   URS                   554531 non-null  object \n",
            " 2   MICRO                 554531 non-null  object \n",
            " 3   MACRO                 554531 non-null  object \n",
            " 4   DATA_NOTIFICACAO      555402 non-null  object \n",
            " 5   CLASSIFICACAO_CASO    555700 non-null  object \n",
            " 6   SEXO                  555700 non-null  object \n",
            " 7   IDADE                 554513 non-null  float64\n",
            " 8   FAIXA_ETARIA          554513 non-null  object \n",
            " 9   MUNICIPIO_RESIDENCIA  555700 non-null  object \n",
            " 10  CODIGO                554773 non-null  float64\n",
            " 11  EVOLUCAO              555700 non-null  object \n",
            " 12  DATA_EVOLUCAO         44271 non-null   object \n",
            " 13  INTERNACAO            555700 non-null  object \n",
            " 14  UTI                   555700 non-null  object \n",
            " 15  RACA                  555700 non-null  object \n",
            " 16  COMORBIDADE           555700 non-null  object \n",
            " 17  DATA_ATUALIZACAO      555700 non-null  object \n",
            " 18  ORIGEM_DA_INFORMACAO  555700 non-null  object \n",
            "dtypes: float64(2), int64(1), object(16)\n",
            "memory usage: 80.6+ MB\n",
            "None\n"
          ],
          "name": "stdout"
        }
      ]
    },
    {
      "cell_type": "markdown",
      "metadata": {
        "id": "2ayJt4DOaL5m"
      },
      "source": [
        "Observa-se que o dataframe possui valores ausentes em praticamente todas as colunas.\n",
        "\n",
        "Em especial há a coluna \"*DATA_EVOLUÇÃO*\" que apresenta maior quantidade de dados ausentes.\n",
        "\n",
        "Antes de iniciar o tratamento de dados ausentes serão removidas as linhas de pessoas em acompanhamento pois o objetivo é prever recuperação e óbito apenas. Os dados obtidos dessa ação serão inseridos em um novo dataframe."
      ]
    },
    {
      "cell_type": "code",
      "metadata": {
        "colab": {
          "base_uri": "https://localhost:8080/",
          "height": 309
        },
        "id": "6jnmVHVXP3fl",
        "outputId": "b9d5db7b-da0e-4c34-ec39-2aad38bf2d0b"
      },
      "source": [
        "cases_evolution_mg = pd.DataFrame(covid_demographic_mg.query(\"EVOLUCAO != 'EM ACOMPANHAMENTO'\"))\n",
        "cases_evolution_mg.head()"
      ],
      "execution_count": 8,
      "outputs": [
        {
          "output_type": "execute_result",
          "data": {
            "text/html": [
              "<div>\n",
              "<style scoped>\n",
              "    .dataframe tbody tr th:only-of-type {\n",
              "        vertical-align: middle;\n",
              "    }\n",
              "\n",
              "    .dataframe tbody tr th {\n",
              "        vertical-align: top;\n",
              "    }\n",
              "\n",
              "    .dataframe thead th {\n",
              "        text-align: right;\n",
              "    }\n",
              "</style>\n",
              "<table border=\"1\" class=\"dataframe\">\n",
              "  <thead>\n",
              "    <tr style=\"text-align: right;\">\n",
              "      <th></th>\n",
              "      <th>ID</th>\n",
              "      <th>URS</th>\n",
              "      <th>MICRO</th>\n",
              "      <th>MACRO</th>\n",
              "      <th>DATA_NOTIFICACAO</th>\n",
              "      <th>CLASSIFICACAO_CASO</th>\n",
              "      <th>SEXO</th>\n",
              "      <th>IDADE</th>\n",
              "      <th>FAIXA_ETARIA</th>\n",
              "      <th>MUNICIPIO_RESIDENCIA</th>\n",
              "      <th>CODIGO</th>\n",
              "      <th>EVOLUCAO</th>\n",
              "      <th>DATA_EVOLUCAO</th>\n",
              "      <th>INTERNACAO</th>\n",
              "      <th>UTI</th>\n",
              "      <th>RACA</th>\n",
              "      <th>COMORBIDADE</th>\n",
              "      <th>DATA_ATUALIZACAO</th>\n",
              "      <th>ORIGEM_DA_INFORMACAO</th>\n",
              "    </tr>\n",
              "  </thead>\n",
              "  <tbody>\n",
              "    <tr>\n",
              "      <th>4</th>\n",
              "      <td>5</td>\n",
              "      <td>ITUIUTABA</td>\n",
              "      <td>ITUIUTABA</td>\n",
              "      <td>TRIANGULO DO NORTE</td>\n",
              "      <td>20/05/2020</td>\n",
              "      <td>CASO CONFIRMADO</td>\n",
              "      <td>FEMININO</td>\n",
              "      <td>39.0</td>\n",
              "      <td>30 A 39 ANOS</td>\n",
              "      <td>ITUIUTABA</td>\n",
              "      <td>313420.0</td>\n",
              "      <td>RECUPERADO</td>\n",
              "      <td>21/05/2020</td>\n",
              "      <td>SIM</td>\n",
              "      <td>NAO</td>\n",
              "      <td>NAO INFORMADO</td>\n",
              "      <td>SIM</td>\n",
              "      <td>23/04/2021</td>\n",
              "      <td>SIVEP</td>\n",
              "    </tr>\n",
              "    <tr>\n",
              "      <th>8</th>\n",
              "      <td>9</td>\n",
              "      <td>UBA</td>\n",
              "      <td>UBA</td>\n",
              "      <td>SUDESTE</td>\n",
              "      <td>20/05/2020</td>\n",
              "      <td>CASO CONFIRMADO</td>\n",
              "      <td>MASCULINO</td>\n",
              "      <td>75.0</td>\n",
              "      <td>70 A 79 ANOS</td>\n",
              "      <td>UBA</td>\n",
              "      <td>316990.0</td>\n",
              "      <td>RECUPERADO</td>\n",
              "      <td>05/06/2020</td>\n",
              "      <td>NAO INFORMADO</td>\n",
              "      <td>NAO INFORMADO</td>\n",
              "      <td>BRANCA</td>\n",
              "      <td>NAO INFORMADO</td>\n",
              "      <td>23/04/2021</td>\n",
              "      <td>SIVEP</td>\n",
              "    </tr>\n",
              "    <tr>\n",
              "      <th>12</th>\n",
              "      <td>13</td>\n",
              "      <td>TEOFILO OTONI</td>\n",
              "      <td>TEOFILO OTONI/MALACACHETA</td>\n",
              "      <td>NORDESTE</td>\n",
              "      <td>14/06/2020</td>\n",
              "      <td>CASO CONFIRMADO</td>\n",
              "      <td>MASCULINO</td>\n",
              "      <td>63.0</td>\n",
              "      <td>60 A 69 ANOS</td>\n",
              "      <td>TEOFILO OTONI</td>\n",
              "      <td>316860.0</td>\n",
              "      <td>RECUPERADO</td>\n",
              "      <td>NaN</td>\n",
              "      <td>SIM</td>\n",
              "      <td>NAO</td>\n",
              "      <td>BRANCA</td>\n",
              "      <td>NAO INFORMADO</td>\n",
              "      <td>23/04/2021</td>\n",
              "      <td>SIVEP</td>\n",
              "    </tr>\n",
              "    <tr>\n",
              "      <th>13</th>\n",
              "      <td>14</td>\n",
              "      <td>BELO HORIZONTE</td>\n",
              "      <td>CONTAGEM</td>\n",
              "      <td>CENTRO</td>\n",
              "      <td>14/06/2020</td>\n",
              "      <td>CASO CONFIRMADO</td>\n",
              "      <td>MASCULINO</td>\n",
              "      <td>8.0</td>\n",
              "      <td>1 A 9 ANOS</td>\n",
              "      <td>CONTAGEM</td>\n",
              "      <td>311860.0</td>\n",
              "      <td>RECUPERADO</td>\n",
              "      <td>NaN</td>\n",
              "      <td>SIM</td>\n",
              "      <td>NAO</td>\n",
              "      <td>AMARELA</td>\n",
              "      <td>NAO INFORMADO</td>\n",
              "      <td>23/04/2021</td>\n",
              "      <td>SIVEP</td>\n",
              "    </tr>\n",
              "    <tr>\n",
              "      <th>14</th>\n",
              "      <td>15</td>\n",
              "      <td>BELO HORIZONTE</td>\n",
              "      <td>VESPASIANO</td>\n",
              "      <td>CENTRO</td>\n",
              "      <td>14/06/2020</td>\n",
              "      <td>CASO CONFIRMADO</td>\n",
              "      <td>FEMININO</td>\n",
              "      <td>45.0</td>\n",
              "      <td>40 A 49 ANOS</td>\n",
              "      <td>PEDRO LEOPOLDO</td>\n",
              "      <td>314930.0</td>\n",
              "      <td>RECUPERADO</td>\n",
              "      <td>NaN</td>\n",
              "      <td>NAO</td>\n",
              "      <td>NAO</td>\n",
              "      <td>BRANCA</td>\n",
              "      <td>NAO INFORMADO</td>\n",
              "      <td>23/04/2021</td>\n",
              "      <td>SIVEP</td>\n",
              "    </tr>\n",
              "  </tbody>\n",
              "</table>\n",
              "</div>"
            ],
            "text/plain": [
              "    ID             URS  ... DATA_ATUALIZACAO ORIGEM_DA_INFORMACAO\n",
              "4    5       ITUIUTABA  ...       23/04/2021                SIVEP\n",
              "8    9             UBA  ...       23/04/2021                SIVEP\n",
              "12  13   TEOFILO OTONI  ...       23/04/2021                SIVEP\n",
              "13  14  BELO HORIZONTE  ...       23/04/2021                SIVEP\n",
              "14  15  BELO HORIZONTE  ...       23/04/2021                SIVEP\n",
              "\n",
              "[5 rows x 19 columns]"
            ]
          },
          "metadata": {
            "tags": []
          },
          "execution_count": 8
        }
      ]
    },
    {
      "cell_type": "markdown",
      "metadata": {
        "id": "YELZIx81Y0MK"
      },
      "source": [
        "Após visualização dos primeiros registros do dataframe nota-se que nem todos os casos recuperados possuem o dado da data de evolução. Será que o mesmo ocorre para os óbitos?"
      ]
    },
    {
      "cell_type": "code",
      "metadata": {
        "colab": {
          "base_uri": "https://localhost:8080/",
          "height": 309
        },
        "id": "7gqQBlVpZDqy",
        "outputId": "689205f0-393a-4de0-fb52-7b1497b71bb9"
      },
      "source": [
        "cases_evolution_mg.loc[(cases_evolution_mg['EVOLUCAO'] == 'OBITO') & (cases_evolution_mg['DATA_EVOLUCAO'].isna())].head()"
      ],
      "execution_count": 9,
      "outputs": [
        {
          "output_type": "execute_result",
          "data": {
            "text/html": [
              "<div>\n",
              "<style scoped>\n",
              "    .dataframe tbody tr th:only-of-type {\n",
              "        vertical-align: middle;\n",
              "    }\n",
              "\n",
              "    .dataframe tbody tr th {\n",
              "        vertical-align: top;\n",
              "    }\n",
              "\n",
              "    .dataframe thead th {\n",
              "        text-align: right;\n",
              "    }\n",
              "</style>\n",
              "<table border=\"1\" class=\"dataframe\">\n",
              "  <thead>\n",
              "    <tr style=\"text-align: right;\">\n",
              "      <th></th>\n",
              "      <th>ID</th>\n",
              "      <th>URS</th>\n",
              "      <th>MICRO</th>\n",
              "      <th>MACRO</th>\n",
              "      <th>DATA_NOTIFICACAO</th>\n",
              "      <th>CLASSIFICACAO_CASO</th>\n",
              "      <th>SEXO</th>\n",
              "      <th>IDADE</th>\n",
              "      <th>FAIXA_ETARIA</th>\n",
              "      <th>MUNICIPIO_RESIDENCIA</th>\n",
              "      <th>CODIGO</th>\n",
              "      <th>EVOLUCAO</th>\n",
              "      <th>DATA_EVOLUCAO</th>\n",
              "      <th>INTERNACAO</th>\n",
              "      <th>UTI</th>\n",
              "      <th>RACA</th>\n",
              "      <th>COMORBIDADE</th>\n",
              "      <th>DATA_ATUALIZACAO</th>\n",
              "      <th>ORIGEM_DA_INFORMACAO</th>\n",
              "    </tr>\n",
              "  </thead>\n",
              "  <tbody>\n",
              "    <tr>\n",
              "      <th>525052</th>\n",
              "      <td>1168054</td>\n",
              "      <td>PONTE NOVA</td>\n",
              "      <td>VICOSA</td>\n",
              "      <td>LESTE DO SUL</td>\n",
              "      <td>21/01/2021</td>\n",
              "      <td>CASO CONFIRMADO</td>\n",
              "      <td>FEMININO</td>\n",
              "      <td>89.0</td>\n",
              "      <td>80 A 89 ANOS</td>\n",
              "      <td>VICOSA</td>\n",
              "      <td>317130.0</td>\n",
              "      <td>OBITO</td>\n",
              "      <td>NaN</td>\n",
              "      <td>SIM</td>\n",
              "      <td>SIM</td>\n",
              "      <td>BRANCA</td>\n",
              "      <td>SIM</td>\n",
              "      <td>23/04/2021</td>\n",
              "      <td>SIVEP</td>\n",
              "    </tr>\n",
              "    <tr>\n",
              "      <th>525146</th>\n",
              "      <td>1168148</td>\n",
              "      <td>CORONEL FABRICIANO</td>\n",
              "      <td>IPATINGA</td>\n",
              "      <td>VALE DO ACO</td>\n",
              "      <td>18/02/2021</td>\n",
              "      <td>CASO CONFIRMADO</td>\n",
              "      <td>FEMININO</td>\n",
              "      <td>92.0</td>\n",
              "      <td>90 OU MAIS</td>\n",
              "      <td>SANTANA DO PARAISO</td>\n",
              "      <td>315895.0</td>\n",
              "      <td>OBITO</td>\n",
              "      <td>NaN</td>\n",
              "      <td>SIM</td>\n",
              "      <td>NAO</td>\n",
              "      <td>BRANCA</td>\n",
              "      <td>NAO</td>\n",
              "      <td>23/04/2021</td>\n",
              "      <td>SIVEP</td>\n",
              "    </tr>\n",
              "    <tr>\n",
              "      <th>525954</th>\n",
              "      <td>1168956</td>\n",
              "      <td>PATOS DE MINAS</td>\n",
              "      <td>SAO GOTARDO</td>\n",
              "      <td>NOROESTE</td>\n",
              "      <td>04/03/2021</td>\n",
              "      <td>CASO CONFIRMADO</td>\n",
              "      <td>FEMININO</td>\n",
              "      <td>81.0</td>\n",
              "      <td>80 A 89 ANOS</td>\n",
              "      <td>CARMO DO PARANAIBA</td>\n",
              "      <td>311430.0</td>\n",
              "      <td>OBITO</td>\n",
              "      <td>NaN</td>\n",
              "      <td>SIM</td>\n",
              "      <td>NAO</td>\n",
              "      <td>BRANCA</td>\n",
              "      <td>NAO</td>\n",
              "      <td>23/04/2021</td>\n",
              "      <td>SIVEP</td>\n",
              "    </tr>\n",
              "    <tr>\n",
              "      <th>526068</th>\n",
              "      <td>1169070</td>\n",
              "      <td>VARGINHA</td>\n",
              "      <td>VARGINHA</td>\n",
              "      <td>SUL</td>\n",
              "      <td>13/03/2021</td>\n",
              "      <td>CASO CONFIRMADO</td>\n",
              "      <td>MASCULINO</td>\n",
              "      <td>76.0</td>\n",
              "      <td>70 A 79 ANOS</td>\n",
              "      <td>SAO GONCALO DO SAPUCAI</td>\n",
              "      <td>316200.0</td>\n",
              "      <td>OBITO</td>\n",
              "      <td>NaN</td>\n",
              "      <td>SIM</td>\n",
              "      <td>NAO</td>\n",
              "      <td>PARDA</td>\n",
              "      <td>NAO</td>\n",
              "      <td>23/04/2021</td>\n",
              "      <td>SIVEP</td>\n",
              "    </tr>\n",
              "    <tr>\n",
              "      <th>526355</th>\n",
              "      <td>1169357</td>\n",
              "      <td>UBA</td>\n",
              "      <td>UBA</td>\n",
              "      <td>SUDESTE</td>\n",
              "      <td>19/04/2021</td>\n",
              "      <td>CASO CONFIRMADO</td>\n",
              "      <td>FEMININO</td>\n",
              "      <td>73.0</td>\n",
              "      <td>70 A 79 ANOS</td>\n",
              "      <td>SAO GERALDO</td>\n",
              "      <td>316150.0</td>\n",
              "      <td>OBITO</td>\n",
              "      <td>NaN</td>\n",
              "      <td>SIM</td>\n",
              "      <td>NAO</td>\n",
              "      <td>BRANCA</td>\n",
              "      <td>SIM</td>\n",
              "      <td>23/04/2021</td>\n",
              "      <td>SIVEP</td>\n",
              "    </tr>\n",
              "  </tbody>\n",
              "</table>\n",
              "</div>"
            ],
            "text/plain": [
              "             ID                 URS  ... DATA_ATUALIZACAO ORIGEM_DA_INFORMACAO\n",
              "525052  1168054          PONTE NOVA  ...       23/04/2021                SIVEP\n",
              "525146  1168148  CORONEL FABRICIANO  ...       23/04/2021                SIVEP\n",
              "525954  1168956      PATOS DE MINAS  ...       23/04/2021                SIVEP\n",
              "526068  1169070            VARGINHA  ...       23/04/2021                SIVEP\n",
              "526355  1169357                 UBA  ...       23/04/2021                SIVEP\n",
              "\n",
              "[5 rows x 19 columns]"
            ]
          },
          "metadata": {
            "tags": []
          },
          "execution_count": 9
        }
      ]
    },
    {
      "cell_type": "markdown",
      "metadata": {
        "id": "2YV2SNCoYU90"
      },
      "source": [
        "O fenômeno também ocorre para os casos de óbitos e a coluna \"*DATA_EVOLUCAO*\" será descartada pois, além de conter muitos dados ausentes, o dado em si não é relevante para o trabalho.\n",
        "\n",
        "Com o intuito de identificar as demais colunas candidatas a serem descartadas, serão avaliados os registros únicos em cada coluna."
      ]
    },
    {
      "cell_type": "code",
      "metadata": {
        "id": "_BhiW3jTSTdb",
        "colab": {
          "base_uri": "https://localhost:8080/"
        },
        "outputId": "e2a4768c-9d73-46f8-97eb-eb90464b2005"
      },
      "source": [
        "cases_evolution_mg.nunique()"
      ],
      "execution_count": 10,
      "outputs": [
        {
          "output_type": "execute_result",
          "data": {
            "text/plain": [
              "ID                      491296\n",
              "URS                         28\n",
              "MICRO                       89\n",
              "MACRO                       14\n",
              "DATA_NOTIFICACAO           435\n",
              "CLASSIFICACAO_CASO           1\n",
              "SEXO                         3\n",
              "IDADE                      162\n",
              "FAIXA_ETARIA                11\n",
              "MUNICIPIO_RESIDENCIA      1089\n",
              "CODIGO                     980\n",
              "EVOLUCAO                     2\n",
              "DATA_EVOLUCAO              402\n",
              "INTERNACAO                   3\n",
              "UTI                          3\n",
              "RACA                         6\n",
              "COMORBIDADE                  3\n",
              "DATA_ATUALIZACAO             1\n",
              "ORIGEM_DA_INFORMACAO         4\n",
              "dtype: int64"
            ]
          },
          "metadata": {
            "tags": []
          },
          "execution_count": 10
        }
      ]
    },
    {
      "cell_type": "markdown",
      "metadata": {
        "id": "CyUIsGHgYYy5"
      },
      "source": [
        "Após avaliação nota-se que as colunas \"*CLASSIFICACAO_CASO*\" e \"*DATA_ATUALIZACAO*\" apresentam valores únicos e são fortes candidatas a serem removidas pois não agregam informações relevantes."
      ]
    },
    {
      "cell_type": "code",
      "metadata": {
        "colab": {
          "base_uri": "https://localhost:8080/",
          "height": 173
        },
        "id": "sCjZOiNSMhDy",
        "outputId": "a657008a-4020-4324-886e-0e0e9e42aab3"
      },
      "source": [
        "cases_evolution_mg[['CLASSIFICACAO_CASO','DATA_ATUALIZACAO']].describe()"
      ],
      "execution_count": 11,
      "outputs": [
        {
          "output_type": "execute_result",
          "data": {
            "text/html": [
              "<div>\n",
              "<style scoped>\n",
              "    .dataframe tbody tr th:only-of-type {\n",
              "        vertical-align: middle;\n",
              "    }\n",
              "\n",
              "    .dataframe tbody tr th {\n",
              "        vertical-align: top;\n",
              "    }\n",
              "\n",
              "    .dataframe thead th {\n",
              "        text-align: right;\n",
              "    }\n",
              "</style>\n",
              "<table border=\"1\" class=\"dataframe\">\n",
              "  <thead>\n",
              "    <tr style=\"text-align: right;\">\n",
              "      <th></th>\n",
              "      <th>CLASSIFICACAO_CASO</th>\n",
              "      <th>DATA_ATUALIZACAO</th>\n",
              "    </tr>\n",
              "  </thead>\n",
              "  <tbody>\n",
              "    <tr>\n",
              "      <th>count</th>\n",
              "      <td>491296</td>\n",
              "      <td>491296</td>\n",
              "    </tr>\n",
              "    <tr>\n",
              "      <th>unique</th>\n",
              "      <td>1</td>\n",
              "      <td>1</td>\n",
              "    </tr>\n",
              "    <tr>\n",
              "      <th>top</th>\n",
              "      <td>CASO CONFIRMADO</td>\n",
              "      <td>23/04/2021</td>\n",
              "    </tr>\n",
              "    <tr>\n",
              "      <th>freq</th>\n",
              "      <td>491296</td>\n",
              "      <td>491296</td>\n",
              "    </tr>\n",
              "  </tbody>\n",
              "</table>\n",
              "</div>"
            ],
            "text/plain": [
              "       CLASSIFICACAO_CASO DATA_ATUALIZACAO\n",
              "count              491296           491296\n",
              "unique                  1                1\n",
              "top       CASO CONFIRMADO       23/04/2021\n",
              "freq               491296           491296"
            ]
          },
          "metadata": {
            "tags": []
          },
          "execution_count": 11
        }
      ]
    },
    {
      "cell_type": "markdown",
      "metadata": {
        "id": "qUbDAqSsgRnP"
      },
      "source": [
        "Além das colunas citadas anteriormente, a coluna \"*ID*\" corresponde ao idenficiador de cada caso e não agrega informações relevantes para este trabalho, portanto será removida.\n",
        "\n",
        "A coluna \"*IDADE*\" também será descartada pois já existem agurpamentos na coluna \"*FAIXA_ETARIA*\", o que melhora o desempenho dos modelos de Machine Learning (ML) a serem criados posteriormente.\n",
        "\n",
        "Removendo colunas desnecessárias:"
      ]
    },
    {
      "cell_type": "code",
      "metadata": {
        "colab": {
          "base_uri": "https://localhost:8080/",
          "height": 309
        },
        "id": "YGU2Uv-ahCH1",
        "outputId": "f9f8b7b4-0ee7-4a4e-df13-8b82b4b11b7b"
      },
      "source": [
        "cases_evolution_mg.drop(['ID','CLASSIFICACAO_CASO','IDADE','DATA_EVOLUCAO','DATA_ATUALIZACAO'], axis=1, inplace=True)\n",
        "cases_evolution_mg.head()"
      ],
      "execution_count": 12,
      "outputs": [
        {
          "output_type": "execute_result",
          "data": {
            "text/html": [
              "<div>\n",
              "<style scoped>\n",
              "    .dataframe tbody tr th:only-of-type {\n",
              "        vertical-align: middle;\n",
              "    }\n",
              "\n",
              "    .dataframe tbody tr th {\n",
              "        vertical-align: top;\n",
              "    }\n",
              "\n",
              "    .dataframe thead th {\n",
              "        text-align: right;\n",
              "    }\n",
              "</style>\n",
              "<table border=\"1\" class=\"dataframe\">\n",
              "  <thead>\n",
              "    <tr style=\"text-align: right;\">\n",
              "      <th></th>\n",
              "      <th>URS</th>\n",
              "      <th>MICRO</th>\n",
              "      <th>MACRO</th>\n",
              "      <th>DATA_NOTIFICACAO</th>\n",
              "      <th>SEXO</th>\n",
              "      <th>FAIXA_ETARIA</th>\n",
              "      <th>MUNICIPIO_RESIDENCIA</th>\n",
              "      <th>CODIGO</th>\n",
              "      <th>EVOLUCAO</th>\n",
              "      <th>INTERNACAO</th>\n",
              "      <th>UTI</th>\n",
              "      <th>RACA</th>\n",
              "      <th>COMORBIDADE</th>\n",
              "      <th>ORIGEM_DA_INFORMACAO</th>\n",
              "    </tr>\n",
              "  </thead>\n",
              "  <tbody>\n",
              "    <tr>\n",
              "      <th>4</th>\n",
              "      <td>ITUIUTABA</td>\n",
              "      <td>ITUIUTABA</td>\n",
              "      <td>TRIANGULO DO NORTE</td>\n",
              "      <td>20/05/2020</td>\n",
              "      <td>FEMININO</td>\n",
              "      <td>30 A 39 ANOS</td>\n",
              "      <td>ITUIUTABA</td>\n",
              "      <td>313420.0</td>\n",
              "      <td>RECUPERADO</td>\n",
              "      <td>SIM</td>\n",
              "      <td>NAO</td>\n",
              "      <td>NAO INFORMADO</td>\n",
              "      <td>SIM</td>\n",
              "      <td>SIVEP</td>\n",
              "    </tr>\n",
              "    <tr>\n",
              "      <th>8</th>\n",
              "      <td>UBA</td>\n",
              "      <td>UBA</td>\n",
              "      <td>SUDESTE</td>\n",
              "      <td>20/05/2020</td>\n",
              "      <td>MASCULINO</td>\n",
              "      <td>70 A 79 ANOS</td>\n",
              "      <td>UBA</td>\n",
              "      <td>316990.0</td>\n",
              "      <td>RECUPERADO</td>\n",
              "      <td>NAO INFORMADO</td>\n",
              "      <td>NAO INFORMADO</td>\n",
              "      <td>BRANCA</td>\n",
              "      <td>NAO INFORMADO</td>\n",
              "      <td>SIVEP</td>\n",
              "    </tr>\n",
              "    <tr>\n",
              "      <th>12</th>\n",
              "      <td>TEOFILO OTONI</td>\n",
              "      <td>TEOFILO OTONI/MALACACHETA</td>\n",
              "      <td>NORDESTE</td>\n",
              "      <td>14/06/2020</td>\n",
              "      <td>MASCULINO</td>\n",
              "      <td>60 A 69 ANOS</td>\n",
              "      <td>TEOFILO OTONI</td>\n",
              "      <td>316860.0</td>\n",
              "      <td>RECUPERADO</td>\n",
              "      <td>SIM</td>\n",
              "      <td>NAO</td>\n",
              "      <td>BRANCA</td>\n",
              "      <td>NAO INFORMADO</td>\n",
              "      <td>SIVEP</td>\n",
              "    </tr>\n",
              "    <tr>\n",
              "      <th>13</th>\n",
              "      <td>BELO HORIZONTE</td>\n",
              "      <td>CONTAGEM</td>\n",
              "      <td>CENTRO</td>\n",
              "      <td>14/06/2020</td>\n",
              "      <td>MASCULINO</td>\n",
              "      <td>1 A 9 ANOS</td>\n",
              "      <td>CONTAGEM</td>\n",
              "      <td>311860.0</td>\n",
              "      <td>RECUPERADO</td>\n",
              "      <td>SIM</td>\n",
              "      <td>NAO</td>\n",
              "      <td>AMARELA</td>\n",
              "      <td>NAO INFORMADO</td>\n",
              "      <td>SIVEP</td>\n",
              "    </tr>\n",
              "    <tr>\n",
              "      <th>14</th>\n",
              "      <td>BELO HORIZONTE</td>\n",
              "      <td>VESPASIANO</td>\n",
              "      <td>CENTRO</td>\n",
              "      <td>14/06/2020</td>\n",
              "      <td>FEMININO</td>\n",
              "      <td>40 A 49 ANOS</td>\n",
              "      <td>PEDRO LEOPOLDO</td>\n",
              "      <td>314930.0</td>\n",
              "      <td>RECUPERADO</td>\n",
              "      <td>NAO</td>\n",
              "      <td>NAO</td>\n",
              "      <td>BRANCA</td>\n",
              "      <td>NAO INFORMADO</td>\n",
              "      <td>SIVEP</td>\n",
              "    </tr>\n",
              "  </tbody>\n",
              "</table>\n",
              "</div>"
            ],
            "text/plain": [
              "               URS  ... ORIGEM_DA_INFORMACAO\n",
              "4        ITUIUTABA  ...                SIVEP\n",
              "8              UBA  ...                SIVEP\n",
              "12   TEOFILO OTONI  ...                SIVEP\n",
              "13  BELO HORIZONTE  ...                SIVEP\n",
              "14  BELO HORIZONTE  ...                SIVEP\n",
              "\n",
              "[5 rows x 14 columns]"
            ]
          },
          "metadata": {
            "tags": []
          },
          "execution_count": 12
        }
      ]
    },
    {
      "cell_type": "code",
      "metadata": {
        "colab": {
          "base_uri": "https://localhost:8080/",
          "height": 390
        },
        "id": "CzgLEVBhWHJd",
        "outputId": "d0ad8d8e-92b2-46e4-a17a-7d62c5096111"
      },
      "source": [
        "cases_evolution_mg.groupby('FAIXA_ETARIA').count()['EVOLUCAO'].reset_index().sort_values('FAIXA_ETARIA')"
      ],
      "execution_count": 13,
      "outputs": [
        {
          "output_type": "execute_result",
          "data": {
            "text/html": [
              "<div>\n",
              "<style scoped>\n",
              "    .dataframe tbody tr th:only-of-type {\n",
              "        vertical-align: middle;\n",
              "    }\n",
              "\n",
              "    .dataframe tbody tr th {\n",
              "        vertical-align: top;\n",
              "    }\n",
              "\n",
              "    .dataframe thead th {\n",
              "        text-align: right;\n",
              "    }\n",
              "</style>\n",
              "<table border=\"1\" class=\"dataframe\">\n",
              "  <thead>\n",
              "    <tr style=\"text-align: right;\">\n",
              "      <th></th>\n",
              "      <th>FAIXA_ETARIA</th>\n",
              "      <th>EVOLUCAO</th>\n",
              "    </tr>\n",
              "  </thead>\n",
              "  <tbody>\n",
              "    <tr>\n",
              "      <th>0</th>\n",
              "      <td>1 A 9 ANOS</td>\n",
              "      <td>10968</td>\n",
              "    </tr>\n",
              "    <tr>\n",
              "      <th>1</th>\n",
              "      <td>10 A 19 ANOS</td>\n",
              "      <td>25526</td>\n",
              "    </tr>\n",
              "    <tr>\n",
              "      <th>2</th>\n",
              "      <td>20 A 29 ANOS</td>\n",
              "      <td>83504</td>\n",
              "    </tr>\n",
              "    <tr>\n",
              "      <th>3</th>\n",
              "      <td>30 A 39 ANOS</td>\n",
              "      <td>105395</td>\n",
              "    </tr>\n",
              "    <tr>\n",
              "      <th>4</th>\n",
              "      <td>40 A 49 ANOS</td>\n",
              "      <td>89178</td>\n",
              "    </tr>\n",
              "    <tr>\n",
              "      <th>5</th>\n",
              "      <td>50 A 59 ANOS</td>\n",
              "      <td>71266</td>\n",
              "    </tr>\n",
              "    <tr>\n",
              "      <th>6</th>\n",
              "      <td>60 A 69 ANOS</td>\n",
              "      <td>50821</td>\n",
              "    </tr>\n",
              "    <tr>\n",
              "      <th>7</th>\n",
              "      <td>70 A 79 ANOS</td>\n",
              "      <td>30628</td>\n",
              "    </tr>\n",
              "    <tr>\n",
              "      <th>8</th>\n",
              "      <td>80 A 89 ANOS</td>\n",
              "      <td>16521</td>\n",
              "    </tr>\n",
              "    <tr>\n",
              "      <th>9</th>\n",
              "      <td>90 OU MAIS</td>\n",
              "      <td>4078</td>\n",
              "    </tr>\n",
              "    <tr>\n",
              "      <th>10</th>\n",
              "      <td>&lt;1ANO</td>\n",
              "      <td>3000</td>\n",
              "    </tr>\n",
              "  </tbody>\n",
              "</table>\n",
              "</div>"
            ],
            "text/plain": [
              "    FAIXA_ETARIA  EVOLUCAO\n",
              "0     1 A 9 ANOS     10968\n",
              "1   10 A 19 ANOS     25526\n",
              "2   20 A 29 ANOS     83504\n",
              "3   30 A 39 ANOS    105395\n",
              "4   40 A 49 ANOS     89178\n",
              "5   50 A 59 ANOS     71266\n",
              "6   60 A 69 ANOS     50821\n",
              "7   70 A 79 ANOS     30628\n",
              "8   80 A 89 ANOS     16521\n",
              "9     90 OU MAIS      4078\n",
              "10         <1ANO      3000"
            ]
          },
          "metadata": {
            "tags": []
          },
          "execution_count": 13
        }
      ]
    },
    {
      "cell_type": "code",
      "metadata": {
        "colab": {
          "base_uri": "https://localhost:8080/",
          "height": 390
        },
        "id": "fcGjVMaQajY-",
        "outputId": "88f3f3c3-f68b-490c-ff0c-3425d193da2b"
      },
      "source": [
        "cases_evolution_mg.FAIXA_ETARIA = cases_evolution_mg.FAIXA_ETARIA.str.replace('<1ANO','0 A 11 MESES')\n",
        "cases_evolution_mg.groupby('FAIXA_ETARIA').count()['EVOLUCAO'].reset_index().sort_values('FAIXA_ETARIA')"
      ],
      "execution_count": 14,
      "outputs": [
        {
          "output_type": "execute_result",
          "data": {
            "text/html": [
              "<div>\n",
              "<style scoped>\n",
              "    .dataframe tbody tr th:only-of-type {\n",
              "        vertical-align: middle;\n",
              "    }\n",
              "\n",
              "    .dataframe tbody tr th {\n",
              "        vertical-align: top;\n",
              "    }\n",
              "\n",
              "    .dataframe thead th {\n",
              "        text-align: right;\n",
              "    }\n",
              "</style>\n",
              "<table border=\"1\" class=\"dataframe\">\n",
              "  <thead>\n",
              "    <tr style=\"text-align: right;\">\n",
              "      <th></th>\n",
              "      <th>FAIXA_ETARIA</th>\n",
              "      <th>EVOLUCAO</th>\n",
              "    </tr>\n",
              "  </thead>\n",
              "  <tbody>\n",
              "    <tr>\n",
              "      <th>0</th>\n",
              "      <td>0 A 11 MESES</td>\n",
              "      <td>3000</td>\n",
              "    </tr>\n",
              "    <tr>\n",
              "      <th>1</th>\n",
              "      <td>1 A 9 ANOS</td>\n",
              "      <td>10968</td>\n",
              "    </tr>\n",
              "    <tr>\n",
              "      <th>2</th>\n",
              "      <td>10 A 19 ANOS</td>\n",
              "      <td>25526</td>\n",
              "    </tr>\n",
              "    <tr>\n",
              "      <th>3</th>\n",
              "      <td>20 A 29 ANOS</td>\n",
              "      <td>83504</td>\n",
              "    </tr>\n",
              "    <tr>\n",
              "      <th>4</th>\n",
              "      <td>30 A 39 ANOS</td>\n",
              "      <td>105395</td>\n",
              "    </tr>\n",
              "    <tr>\n",
              "      <th>5</th>\n",
              "      <td>40 A 49 ANOS</td>\n",
              "      <td>89178</td>\n",
              "    </tr>\n",
              "    <tr>\n",
              "      <th>6</th>\n",
              "      <td>50 A 59 ANOS</td>\n",
              "      <td>71266</td>\n",
              "    </tr>\n",
              "    <tr>\n",
              "      <th>7</th>\n",
              "      <td>60 A 69 ANOS</td>\n",
              "      <td>50821</td>\n",
              "    </tr>\n",
              "    <tr>\n",
              "      <th>8</th>\n",
              "      <td>70 A 79 ANOS</td>\n",
              "      <td>30628</td>\n",
              "    </tr>\n",
              "    <tr>\n",
              "      <th>9</th>\n",
              "      <td>80 A 89 ANOS</td>\n",
              "      <td>16521</td>\n",
              "    </tr>\n",
              "    <tr>\n",
              "      <th>10</th>\n",
              "      <td>90 OU MAIS</td>\n",
              "      <td>4078</td>\n",
              "    </tr>\n",
              "  </tbody>\n",
              "</table>\n",
              "</div>"
            ],
            "text/plain": [
              "    FAIXA_ETARIA  EVOLUCAO\n",
              "0   0 A 11 MESES      3000\n",
              "1     1 A 9 ANOS     10968\n",
              "2   10 A 19 ANOS     25526\n",
              "3   20 A 29 ANOS     83504\n",
              "4   30 A 39 ANOS    105395\n",
              "5   40 A 49 ANOS     89178\n",
              "6   50 A 59 ANOS     71266\n",
              "7   60 A 69 ANOS     50821\n",
              "8   70 A 79 ANOS     30628\n",
              "9   80 A 89 ANOS     16521\n",
              "10    90 OU MAIS      4078"
            ]
          },
          "metadata": {
            "tags": []
          },
          "execution_count": 14
        }
      ]
    },
    {
      "cell_type": "code",
      "metadata": {
        "colab": {
          "base_uri": "https://localhost:8080/"
        },
        "id": "YLRVL-_RkV0N",
        "outputId": "d435df51-4c6b-49fb-93e7-0b5fa4796219"
      },
      "source": [
        "cases_evolution_mg.info()"
      ],
      "execution_count": 15,
      "outputs": [
        {
          "output_type": "stream",
          "text": [
            "<class 'pandas.core.frame.DataFrame'>\n",
            "Int64Index: 491296 entries, 4 to 555699\n",
            "Data columns (total 14 columns):\n",
            " #   Column                Non-Null Count   Dtype  \n",
            "---  ------                --------------   -----  \n",
            " 0   URS                   490316 non-null  object \n",
            " 1   MICRO                 490316 non-null  object \n",
            " 2   MACRO                 490316 non-null  object \n",
            " 3   DATA_NOTIFICACAO      491023 non-null  object \n",
            " 4   SEXO                  491296 non-null  object \n",
            " 5   FAIXA_ETARIA          490885 non-null  object \n",
            " 6   MUNICIPIO_RESIDENCIA  491296 non-null  object \n",
            " 7   CODIGO                490558 non-null  float64\n",
            " 8   EVOLUCAO              491296 non-null  object \n",
            " 9   INTERNACAO            491296 non-null  object \n",
            " 10  UTI                   491296 non-null  object \n",
            " 11  RACA                  491296 non-null  object \n",
            " 12  COMORBIDADE           491296 non-null  object \n",
            " 13  ORIGEM_DA_INFORMACAO  491296 non-null  object \n",
            "dtypes: float64(1), object(13)\n",
            "memory usage: 56.2+ MB\n"
          ],
          "name": "stdout"
        }
      ]
    },
    {
      "cell_type": "markdown",
      "metadata": {
        "id": "Uqp8B6mRmZ3x"
      },
      "source": [
        "Após nova verificação das informações do dataframe, ainda existem diversos valores ausentes.\n",
        "\n",
        "A princípio serão removidos os registros que não contém código do município (\"*CODIGO*\") e faixa etária (\"*FAIXA_ETARIA*\") definidos, pois provavelmente serão atributos chave para os modelos de ML futuros."
      ]
    },
    {
      "cell_type": "code",
      "metadata": {
        "colab": {
          "base_uri": "https://localhost:8080/"
        },
        "id": "oFCvUXU7mvS0",
        "outputId": "c6a74bc8-a981-4224-da23-55c6eda8fde8"
      },
      "source": [
        "cases_evolution_mg.dropna(subset=['CODIGO','FAIXA_ETARIA'], inplace=True)\n",
        "cases_evolution_mg.info()"
      ],
      "execution_count": 16,
      "outputs": [
        {
          "output_type": "stream",
          "text": [
            "<class 'pandas.core.frame.DataFrame'>\n",
            "Int64Index: 490151 entries, 4 to 555699\n",
            "Data columns (total 14 columns):\n",
            " #   Column                Non-Null Count   Dtype  \n",
            "---  ------                --------------   -----  \n",
            " 0   URS                   489909 non-null  object \n",
            " 1   MICRO                 489909 non-null  object \n",
            " 2   MACRO                 489909 non-null  object \n",
            " 3   DATA_NOTIFICACAO      490151 non-null  object \n",
            " 4   SEXO                  490151 non-null  object \n",
            " 5   FAIXA_ETARIA          490151 non-null  object \n",
            " 6   MUNICIPIO_RESIDENCIA  490151 non-null  object \n",
            " 7   CODIGO                490151 non-null  float64\n",
            " 8   EVOLUCAO              490151 non-null  object \n",
            " 9   INTERNACAO            490151 non-null  object \n",
            " 10  UTI                   490151 non-null  object \n",
            " 11  RACA                  490151 non-null  object \n",
            " 12  COMORBIDADE           490151 non-null  object \n",
            " 13  ORIGEM_DA_INFORMACAO  490151 non-null  object \n",
            "dtypes: float64(1), object(13)\n",
            "memory usage: 56.1+ MB\n"
          ],
          "name": "stdout"
        }
      ]
    },
    {
      "cell_type": "markdown",
      "metadata": {
        "id": "w9beP6y6oPsV"
      },
      "source": [
        "Ainda restaram dados de Unidade Regional de Saúde (URS) além de micro e macro regiões. Vajamos a que se referem."
      ]
    },
    {
      "cell_type": "code",
      "metadata": {
        "colab": {
          "base_uri": "https://localhost:8080/",
          "height": 430
        },
        "id": "MD4fTX4bDEyd",
        "outputId": "52bd29d0-32e0-4fde-8c2c-21016020fb54"
      },
      "source": [
        "missing_cases = cases_evolution_mg[cases_evolution_mg.isna().any(axis=1)]\n",
        "#missing_cases.describe(datetime_is_numeric=True, include='all')\n",
        "missing_cases.tail(10)"
      ],
      "execution_count": 17,
      "outputs": [
        {
          "output_type": "execute_result",
          "data": {
            "text/html": [
              "<div>\n",
              "<style scoped>\n",
              "    .dataframe tbody tr th:only-of-type {\n",
              "        vertical-align: middle;\n",
              "    }\n",
              "\n",
              "    .dataframe tbody tr th {\n",
              "        vertical-align: top;\n",
              "    }\n",
              "\n",
              "    .dataframe thead th {\n",
              "        text-align: right;\n",
              "    }\n",
              "</style>\n",
              "<table border=\"1\" class=\"dataframe\">\n",
              "  <thead>\n",
              "    <tr style=\"text-align: right;\">\n",
              "      <th></th>\n",
              "      <th>URS</th>\n",
              "      <th>MICRO</th>\n",
              "      <th>MACRO</th>\n",
              "      <th>DATA_NOTIFICACAO</th>\n",
              "      <th>SEXO</th>\n",
              "      <th>FAIXA_ETARIA</th>\n",
              "      <th>MUNICIPIO_RESIDENCIA</th>\n",
              "      <th>CODIGO</th>\n",
              "      <th>EVOLUCAO</th>\n",
              "      <th>INTERNACAO</th>\n",
              "      <th>UTI</th>\n",
              "      <th>RACA</th>\n",
              "      <th>COMORBIDADE</th>\n",
              "      <th>ORIGEM_DA_INFORMACAO</th>\n",
              "    </tr>\n",
              "  </thead>\n",
              "  <tbody>\n",
              "    <tr>\n",
              "      <th>554574</th>\n",
              "      <td>NaN</td>\n",
              "      <td>NaN</td>\n",
              "      <td>NaN</td>\n",
              "      <td>21/12/2020</td>\n",
              "      <td>FEMININO</td>\n",
              "      <td>40 A 49 ANOS</td>\n",
              "      <td>VOLTA REDONDA</td>\n",
              "      <td>330630.0</td>\n",
              "      <td>OBITO</td>\n",
              "      <td>SIM</td>\n",
              "      <td>SIM</td>\n",
              "      <td>BRANCA</td>\n",
              "      <td>SIM</td>\n",
              "      <td>SIVEP</td>\n",
              "    </tr>\n",
              "    <tr>\n",
              "      <th>554893</th>\n",
              "      <td>NaN</td>\n",
              "      <td>NaN</td>\n",
              "      <td>NaN</td>\n",
              "      <td>11/05/2020</td>\n",
              "      <td>FEMININO</td>\n",
              "      <td>70 A 79 ANOS</td>\n",
              "      <td>NOVA IGUACU</td>\n",
              "      <td>330350.0</td>\n",
              "      <td>OBITO</td>\n",
              "      <td>SIM</td>\n",
              "      <td>SIM</td>\n",
              "      <td>BRANCA</td>\n",
              "      <td>NAO</td>\n",
              "      <td>SIVEP</td>\n",
              "    </tr>\n",
              "    <tr>\n",
              "      <th>554923</th>\n",
              "      <td>NaN</td>\n",
              "      <td>NaN</td>\n",
              "      <td>NaN</td>\n",
              "      <td>12/01/2021</td>\n",
              "      <td>MASCULINO</td>\n",
              "      <td>50 A 59 ANOS</td>\n",
              "      <td>SAPUCAIA</td>\n",
              "      <td>330540.0</td>\n",
              "      <td>OBITO</td>\n",
              "      <td>SIM</td>\n",
              "      <td>SIM</td>\n",
              "      <td>NAO INFORMADO</td>\n",
              "      <td>NAO</td>\n",
              "      <td>SIVEP</td>\n",
              "    </tr>\n",
              "    <tr>\n",
              "      <th>555178</th>\n",
              "      <td>NaN</td>\n",
              "      <td>NaN</td>\n",
              "      <td>NaN</td>\n",
              "      <td>20/01/2021</td>\n",
              "      <td>FEMININO</td>\n",
              "      <td>60 A 69 ANOS</td>\n",
              "      <td>RIO DE JANEIRO</td>\n",
              "      <td>330455.0</td>\n",
              "      <td>OBITO</td>\n",
              "      <td>SIM</td>\n",
              "      <td>SIM</td>\n",
              "      <td>PARDA</td>\n",
              "      <td>SIM</td>\n",
              "      <td>SIVEP</td>\n",
              "    </tr>\n",
              "    <tr>\n",
              "      <th>555243</th>\n",
              "      <td>NaN</td>\n",
              "      <td>NaN</td>\n",
              "      <td>NaN</td>\n",
              "      <td>05/05/2020</td>\n",
              "      <td>MASCULINO</td>\n",
              "      <td>60 A 69 ANOS</td>\n",
              "      <td>SAO PAULO</td>\n",
              "      <td>355030.0</td>\n",
              "      <td>OBITO</td>\n",
              "      <td>SIM</td>\n",
              "      <td>SIM</td>\n",
              "      <td>BRANCA</td>\n",
              "      <td>NAO</td>\n",
              "      <td>SIVEP</td>\n",
              "    </tr>\n",
              "    <tr>\n",
              "      <th>555296</th>\n",
              "      <td>NaN</td>\n",
              "      <td>NaN</td>\n",
              "      <td>NaN</td>\n",
              "      <td>13/10/2020</td>\n",
              "      <td>FEMININO</td>\n",
              "      <td>70 A 79 ANOS</td>\n",
              "      <td>SAO JOSE DO RIO PRETO</td>\n",
              "      <td>354980.0</td>\n",
              "      <td>OBITO</td>\n",
              "      <td>SIM</td>\n",
              "      <td>SIM</td>\n",
              "      <td>PARDA</td>\n",
              "      <td>SIM</td>\n",
              "      <td>SIVEP</td>\n",
              "    </tr>\n",
              "    <tr>\n",
              "      <th>555299</th>\n",
              "      <td>NaN</td>\n",
              "      <td>NaN</td>\n",
              "      <td>NaN</td>\n",
              "      <td>28/05/2020</td>\n",
              "      <td>MASCULINO</td>\n",
              "      <td>50 A 59 ANOS</td>\n",
              "      <td>BELEM</td>\n",
              "      <td>150140.0</td>\n",
              "      <td>OBITO</td>\n",
              "      <td>SIM</td>\n",
              "      <td>SIM</td>\n",
              "      <td>NAO INFORMADO</td>\n",
              "      <td>SIM</td>\n",
              "      <td>SIVEP</td>\n",
              "    </tr>\n",
              "    <tr>\n",
              "      <th>555464</th>\n",
              "      <td>NaN</td>\n",
              "      <td>NaN</td>\n",
              "      <td>NaN</td>\n",
              "      <td>30/09/2020</td>\n",
              "      <td>MASCULINO</td>\n",
              "      <td>70 A 79 ANOS</td>\n",
              "      <td>SAPUCAIA</td>\n",
              "      <td>330540.0</td>\n",
              "      <td>OBITO</td>\n",
              "      <td>SIM</td>\n",
              "      <td>SIM</td>\n",
              "      <td>BRANCA</td>\n",
              "      <td>SIM</td>\n",
              "      <td>SIVEP</td>\n",
              "    </tr>\n",
              "    <tr>\n",
              "      <th>555638</th>\n",
              "      <td>NaN</td>\n",
              "      <td>NaN</td>\n",
              "      <td>NaN</td>\n",
              "      <td>18/12/2020</td>\n",
              "      <td>FEMININO</td>\n",
              "      <td>60 A 69 ANOS</td>\n",
              "      <td>CANELA</td>\n",
              "      <td>430440.0</td>\n",
              "      <td>OBITO</td>\n",
              "      <td>SIM</td>\n",
              "      <td>SIM</td>\n",
              "      <td>PARDA</td>\n",
              "      <td>NAO</td>\n",
              "      <td>SIVEP</td>\n",
              "    </tr>\n",
              "    <tr>\n",
              "      <th>555697</th>\n",
              "      <td>NaN</td>\n",
              "      <td>NaN</td>\n",
              "      <td>NaN</td>\n",
              "      <td>18/05/2020</td>\n",
              "      <td>FEMININO</td>\n",
              "      <td>70 A 79 ANOS</td>\n",
              "      <td>SAO PAULO</td>\n",
              "      <td>355030.0</td>\n",
              "      <td>OBITO</td>\n",
              "      <td>SIM</td>\n",
              "      <td>SIM</td>\n",
              "      <td>BRANCA</td>\n",
              "      <td>SIM</td>\n",
              "      <td>SIVEP</td>\n",
              "    </tr>\n",
              "  </tbody>\n",
              "</table>\n",
              "</div>"
            ],
            "text/plain": [
              "        URS MICRO MACRO  ...           RACA COMORBIDADE ORIGEM_DA_INFORMACAO\n",
              "554574  NaN   NaN   NaN  ...         BRANCA         SIM                SIVEP\n",
              "554893  NaN   NaN   NaN  ...         BRANCA         NAO                SIVEP\n",
              "554923  NaN   NaN   NaN  ...  NAO INFORMADO         NAO                SIVEP\n",
              "555178  NaN   NaN   NaN  ...          PARDA         SIM                SIVEP\n",
              "555243  NaN   NaN   NaN  ...         BRANCA         NAO                SIVEP\n",
              "555296  NaN   NaN   NaN  ...          PARDA         SIM                SIVEP\n",
              "555299  NaN   NaN   NaN  ...  NAO INFORMADO         SIM                SIVEP\n",
              "555464  NaN   NaN   NaN  ...         BRANCA         SIM                SIVEP\n",
              "555638  NaN   NaN   NaN  ...          PARDA         NAO                SIVEP\n",
              "555697  NaN   NaN   NaN  ...         BRANCA         SIM                SIVEP\n",
              "\n",
              "[10 rows x 14 columns]"
            ]
          },
          "metadata": {
            "tags": []
          },
          "execution_count": 17
        }
      ]
    },
    {
      "cell_type": "markdown",
      "metadata": {
        "id": "D2nexNKIbBu1"
      },
      "source": [
        "Analisando o dataframe, nota-se que são referentes a casos registrados em outros estados ou até mesmo países.\n",
        "\n",
        "Serão descartados pois o objetivo deste trabalho é a análise dos casos no estado de Minas Gerais."
      ]
    },
    {
      "cell_type": "code",
      "metadata": {
        "colab": {
          "base_uri": "https://localhost:8080/"
        },
        "id": "aniMPUj-gm5J",
        "outputId": "9507ac2f-de96-460d-e35f-95ef08aa6d96"
      },
      "source": [
        "cases_evolution_mg.dropna(inplace=True)\n",
        "cases_evolution_mg.info()"
      ],
      "execution_count": 18,
      "outputs": [
        {
          "output_type": "stream",
          "text": [
            "<class 'pandas.core.frame.DataFrame'>\n",
            "Int64Index: 489909 entries, 4 to 555699\n",
            "Data columns (total 14 columns):\n",
            " #   Column                Non-Null Count   Dtype  \n",
            "---  ------                --------------   -----  \n",
            " 0   URS                   489909 non-null  object \n",
            " 1   MICRO                 489909 non-null  object \n",
            " 2   MACRO                 489909 non-null  object \n",
            " 3   DATA_NOTIFICACAO      489909 non-null  object \n",
            " 4   SEXO                  489909 non-null  object \n",
            " 5   FAIXA_ETARIA          489909 non-null  object \n",
            " 6   MUNICIPIO_RESIDENCIA  489909 non-null  object \n",
            " 7   CODIGO                489909 non-null  float64\n",
            " 8   EVOLUCAO              489909 non-null  object \n",
            " 9   INTERNACAO            489909 non-null  object \n",
            " 10  UTI                   489909 non-null  object \n",
            " 11  RACA                  489909 non-null  object \n",
            " 12  COMORBIDADE           489909 non-null  object \n",
            " 13  ORIGEM_DA_INFORMACAO  489909 non-null  object \n",
            "dtypes: float64(1), object(13)\n",
            "memory usage: 56.1+ MB\n"
          ],
          "name": "stdout"
        }
      ]
    },
    {
      "cell_type": "markdown",
      "metadata": {
        "id": "M0DRmDUtnxy8"
      },
      "source": [
        "Removendo caracteres especiais dos nomes dos municípios."
      ]
    },
    {
      "cell_type": "code",
      "metadata": {
        "id": "Mk6ajtSwn4U0"
      },
      "source": [
        "# https://stackoverflow.com/a/46197147\n",
        "cases_evolution_mg['MUNICIPIO_RESIDENCIA'] = cases_evolution_mg['MUNICIPIO_RESIDENCIA'].str.normalize('NFKD').str.encode('ascii', errors='ignore').str.decode('utf-8').str.upper()\n",
        "cases_evolution_mg['MUNICIPIO_RESIDENCIA'] = cases_evolution_mg['MUNICIPIO_RESIDENCIA'].replace('-', ' ', regex=True)\n",
        "cases_evolution_mg['MUNICIPIO_RESIDENCIA'] = cases_evolution_mg['MUNICIPIO_RESIDENCIA'].replace('\\'', ' ', regex=True)"
      ],
      "execution_count": 19,
      "outputs": []
    },
    {
      "cell_type": "markdown",
      "metadata": {
        "id": "ZhMe7C5Gx9Tt"
      },
      "source": [
        "Reiniciando o índice e alterando os tipos de dados das colunas para mais adequados."
      ]
    },
    {
      "cell_type": "code",
      "metadata": {
        "colab": {
          "base_uri": "https://localhost:8080/"
        },
        "id": "wfThv7OryHGk",
        "outputId": "309e84ec-3650-488f-c7f8-4f20b1a9dabf"
      },
      "source": [
        "cases_evolution_mg.reset_index(drop=True, inplace=True)\n",
        "cases_evolution_mg = cases_evolution_mg.convert_dtypes()\n",
        "# Não foi identificado corretamente o tipo da coluna DATA_NOTIFICACAO, definindo manualmente\n",
        "cases_evolution_mg.DATA_NOTIFICACAO = pd.to_datetime(cases_evolution_mg.DATA_NOTIFICACAO)\n",
        "cases_evolution_mg.info()"
      ],
      "execution_count": 20,
      "outputs": [
        {
          "output_type": "stream",
          "text": [
            "<class 'pandas.core.frame.DataFrame'>\n",
            "RangeIndex: 489909 entries, 0 to 489908\n",
            "Data columns (total 14 columns):\n",
            " #   Column                Non-Null Count   Dtype         \n",
            "---  ------                --------------   -----         \n",
            " 0   URS                   489909 non-null  string        \n",
            " 1   MICRO                 489909 non-null  string        \n",
            " 2   MACRO                 489909 non-null  string        \n",
            " 3   DATA_NOTIFICACAO      489909 non-null  datetime64[ns]\n",
            " 4   SEXO                  489909 non-null  string        \n",
            " 5   FAIXA_ETARIA          489909 non-null  string        \n",
            " 6   MUNICIPIO_RESIDENCIA  489909 non-null  string        \n",
            " 7   CODIGO                489909 non-null  Int64         \n",
            " 8   EVOLUCAO              489909 non-null  string        \n",
            " 9   INTERNACAO            489909 non-null  string        \n",
            " 10  UTI                   489909 non-null  string        \n",
            " 11  RACA                  489909 non-null  string        \n",
            " 12  COMORBIDADE           489909 non-null  string        \n",
            " 13  ORIGEM_DA_INFORMACAO  489909 non-null  string        \n",
            "dtypes: Int64(1), datetime64[ns](1), string(12)\n",
            "memory usage: 52.8 MB\n"
          ],
          "name": "stdout"
        }
      ]
    },
    {
      "cell_type": "markdown",
      "metadata": {
        "id": "LOwQfF2BJzjR"
      },
      "source": [
        "O primeiro caso confirmado de Covid-19 em Minas Gerais foi em 06/03/2020 conforme publicado pela [Secretatia de Estado da Saúde](https://https://www.saude.mg.gov.br/component/gmg/story/12233-confirmacao-do-primeiro-caso-de-coronavirus-covid-19-em-minas-gerais)."
      ]
    },
    {
      "cell_type": "code",
      "metadata": {
        "colab": {
          "base_uri": "https://localhost:8080/",
          "height": 609
        },
        "id": "cShDUOTfKc5t",
        "outputId": "e9f03a30-fbad-472a-9156-d4785692f35e"
      },
      "source": [
        "first_case_date = pd.to_datetime('2020-03-06')\n",
        "cases_evolution_mg.query('DATA_NOTIFICACAO < \"' + first_case_date.strftime('%Y-%m-%d') + '\"')"
      ],
      "execution_count": 21,
      "outputs": [
        {
          "output_type": "execute_result",
          "data": {
            "text/html": [
              "<div>\n",
              "<style scoped>\n",
              "    .dataframe tbody tr th:only-of-type {\n",
              "        vertical-align: middle;\n",
              "    }\n",
              "\n",
              "    .dataframe tbody tr th {\n",
              "        vertical-align: top;\n",
              "    }\n",
              "\n",
              "    .dataframe thead th {\n",
              "        text-align: right;\n",
              "    }\n",
              "</style>\n",
              "<table border=\"1\" class=\"dataframe\">\n",
              "  <thead>\n",
              "    <tr style=\"text-align: right;\">\n",
              "      <th></th>\n",
              "      <th>URS</th>\n",
              "      <th>MICRO</th>\n",
              "      <th>MACRO</th>\n",
              "      <th>DATA_NOTIFICACAO</th>\n",
              "      <th>SEXO</th>\n",
              "      <th>FAIXA_ETARIA</th>\n",
              "      <th>MUNICIPIO_RESIDENCIA</th>\n",
              "      <th>CODIGO</th>\n",
              "      <th>EVOLUCAO</th>\n",
              "      <th>INTERNACAO</th>\n",
              "      <th>UTI</th>\n",
              "      <th>RACA</th>\n",
              "      <th>COMORBIDADE</th>\n",
              "      <th>ORIGEM_DA_INFORMACAO</th>\n",
              "    </tr>\n",
              "  </thead>\n",
              "  <tbody>\n",
              "    <tr>\n",
              "      <th>45</th>\n",
              "      <td>JUIZ DE FORA</td>\n",
              "      <td>JUIZ DE FORA</td>\n",
              "      <td>SUDESTE</td>\n",
              "      <td>2020-02-06</td>\n",
              "      <td>MASCULINO</td>\n",
              "      <td>20 A 29 ANOS</td>\n",
              "      <td>JUIZ DE FORA</td>\n",
              "      <td>313670</td>\n",
              "      <td>RECUPERADO</td>\n",
              "      <td>SIM</td>\n",
              "      <td>SIM</td>\n",
              "      <td>NAO INFORMADO</td>\n",
              "      <td>NAO INFORMADO</td>\n",
              "      <td>SIVEP</td>\n",
              "    </tr>\n",
              "    <tr>\n",
              "      <th>53</th>\n",
              "      <td>JUIZ DE FORA</td>\n",
              "      <td>JUIZ DE FORA</td>\n",
              "      <td>SUDESTE</td>\n",
              "      <td>2020-02-06</td>\n",
              "      <td>MASCULINO</td>\n",
              "      <td>10 A 19 ANOS</td>\n",
              "      <td>JUIZ DE FORA</td>\n",
              "      <td>313670</td>\n",
              "      <td>RECUPERADO</td>\n",
              "      <td>SIM</td>\n",
              "      <td>NAO</td>\n",
              "      <td>NAO INFORMADO</td>\n",
              "      <td>NAO</td>\n",
              "      <td>SIVEP</td>\n",
              "    </tr>\n",
              "    <tr>\n",
              "      <th>134</th>\n",
              "      <td>CORONEL FABRICIANO</td>\n",
              "      <td>IPATINGA</td>\n",
              "      <td>VALE DO ACO</td>\n",
              "      <td>2020-02-06</td>\n",
              "      <td>FEMININO</td>\n",
              "      <td>40 A 49 ANOS</td>\n",
              "      <td>IPATINGA</td>\n",
              "      <td>313130</td>\n",
              "      <td>RECUPERADO</td>\n",
              "      <td>SIM</td>\n",
              "      <td>NAO</td>\n",
              "      <td>PARDA</td>\n",
              "      <td>NAO INFORMADO</td>\n",
              "      <td>SIVEP</td>\n",
              "    </tr>\n",
              "    <tr>\n",
              "      <th>167</th>\n",
              "      <td>BELO HORIZONTE</td>\n",
              "      <td>CONTAGEM</td>\n",
              "      <td>CENTRO</td>\n",
              "      <td>2020-01-06</td>\n",
              "      <td>MASCULINO</td>\n",
              "      <td>30 A 39 ANOS</td>\n",
              "      <td>CONTAGEM</td>\n",
              "      <td>311860</td>\n",
              "      <td>RECUPERADO</td>\n",
              "      <td>SIM</td>\n",
              "      <td>NAO</td>\n",
              "      <td>BRANCA</td>\n",
              "      <td>NAO INFORMADO</td>\n",
              "      <td>SIVEP</td>\n",
              "    </tr>\n",
              "    <tr>\n",
              "      <th>169</th>\n",
              "      <td>BELO HORIZONTE</td>\n",
              "      <td>BELO HORIZONTE/NOVA LIMA/CAETE</td>\n",
              "      <td>CENTRO</td>\n",
              "      <td>2020-01-06</td>\n",
              "      <td>MASCULINO</td>\n",
              "      <td>70 A 79 ANOS</td>\n",
              "      <td>RIBEIRAO DAS NEVES</td>\n",
              "      <td>315460</td>\n",
              "      <td>RECUPERADO</td>\n",
              "      <td>SIM</td>\n",
              "      <td>NAO</td>\n",
              "      <td>NAO INFORMADO</td>\n",
              "      <td>NAO INFORMADO</td>\n",
              "      <td>SIVEP</td>\n",
              "    </tr>\n",
              "    <tr>\n",
              "      <th>...</th>\n",
              "      <td>...</td>\n",
              "      <td>...</td>\n",
              "      <td>...</td>\n",
              "      <td>...</td>\n",
              "      <td>...</td>\n",
              "      <td>...</td>\n",
              "      <td>...</td>\n",
              "      <td>...</td>\n",
              "      <td>...</td>\n",
              "      <td>...</td>\n",
              "      <td>...</td>\n",
              "      <td>...</td>\n",
              "      <td>...</td>\n",
              "      <td>...</td>\n",
              "    </tr>\n",
              "    <tr>\n",
              "      <th>489727</th>\n",
              "      <td>BELO HORIZONTE</td>\n",
              "      <td>BELO HORIZONTE/NOVA LIMA/CAETE</td>\n",
              "      <td>CENTRO</td>\n",
              "      <td>2020-01-08</td>\n",
              "      <td>MASCULINO</td>\n",
              "      <td>30 A 39 ANOS</td>\n",
              "      <td>BELO HORIZONTE</td>\n",
              "      <td>310620</td>\n",
              "      <td>OBITO</td>\n",
              "      <td>SIM</td>\n",
              "      <td>SIM</td>\n",
              "      <td>BRANCA</td>\n",
              "      <td>SIM</td>\n",
              "      <td>SIVEP</td>\n",
              "    </tr>\n",
              "    <tr>\n",
              "      <th>489772</th>\n",
              "      <td>TEOFILO OTONI</td>\n",
              "      <td>TEOFILO OTONI/MALACACHETA</td>\n",
              "      <td>NORDESTE</td>\n",
              "      <td>2020-02-07</td>\n",
              "      <td>MASCULINO</td>\n",
              "      <td>60 A 69 ANOS</td>\n",
              "      <td>ATALEIA</td>\n",
              "      <td>310470</td>\n",
              "      <td>OBITO</td>\n",
              "      <td>SIM</td>\n",
              "      <td>SIM</td>\n",
              "      <td>PARDA</td>\n",
              "      <td>NAO</td>\n",
              "      <td>SIVEP</td>\n",
              "    </tr>\n",
              "    <tr>\n",
              "      <th>489813</th>\n",
              "      <td>UBERLANDIA</td>\n",
              "      <td>UBERLANDIA/ARAGUARI</td>\n",
              "      <td>TRIANGULO DO NORTE</td>\n",
              "      <td>2020-02-06</td>\n",
              "      <td>MASCULINO</td>\n",
              "      <td>30 A 39 ANOS</td>\n",
              "      <td>UBERLANDIA</td>\n",
              "      <td>317020</td>\n",
              "      <td>OBITO</td>\n",
              "      <td>SIM</td>\n",
              "      <td>NAO</td>\n",
              "      <td>PARDA</td>\n",
              "      <td>NAO</td>\n",
              "      <td>SIVEP</td>\n",
              "    </tr>\n",
              "    <tr>\n",
              "      <th>489832</th>\n",
              "      <td>POUSO ALEGRE</td>\n",
              "      <td>POCOS DE CALDAS</td>\n",
              "      <td>SUL</td>\n",
              "      <td>2020-02-12</td>\n",
              "      <td>MASCULINO</td>\n",
              "      <td>60 A 69 ANOS</td>\n",
              "      <td>POCOS DE CALDAS</td>\n",
              "      <td>315180</td>\n",
              "      <td>OBITO</td>\n",
              "      <td>SIM</td>\n",
              "      <td>SIM</td>\n",
              "      <td>BRANCA</td>\n",
              "      <td>NAO</td>\n",
              "      <td>SIVEP</td>\n",
              "    </tr>\n",
              "    <tr>\n",
              "      <th>489854</th>\n",
              "      <td>BELO HORIZONTE</td>\n",
              "      <td>BELO HORIZONTE/NOVA LIMA/CAETE</td>\n",
              "      <td>CENTRO</td>\n",
              "      <td>2020-01-10</td>\n",
              "      <td>FEMININO</td>\n",
              "      <td>50 A 59 ANOS</td>\n",
              "      <td>BELO HORIZONTE</td>\n",
              "      <td>310620</td>\n",
              "      <td>OBITO</td>\n",
              "      <td>SIM</td>\n",
              "      <td>SIM</td>\n",
              "      <td>PARDA</td>\n",
              "      <td>SIM</td>\n",
              "      <td>SIVEP</td>\n",
              "    </tr>\n",
              "  </tbody>\n",
              "</table>\n",
              "<p>17895 rows × 14 columns</p>\n",
              "</div>"
            ],
            "text/plain": [
              "                       URS  ... ORIGEM_DA_INFORMACAO\n",
              "45            JUIZ DE FORA  ...                SIVEP\n",
              "53            JUIZ DE FORA  ...                SIVEP\n",
              "134     CORONEL FABRICIANO  ...                SIVEP\n",
              "167         BELO HORIZONTE  ...                SIVEP\n",
              "169         BELO HORIZONTE  ...                SIVEP\n",
              "...                    ...  ...                  ...\n",
              "489727      BELO HORIZONTE  ...                SIVEP\n",
              "489772       TEOFILO OTONI  ...                SIVEP\n",
              "489813          UBERLANDIA  ...                SIVEP\n",
              "489832        POUSO ALEGRE  ...                SIVEP\n",
              "489854      BELO HORIZONTE  ...                SIVEP\n",
              "\n",
              "[17895 rows x 14 columns]"
            ]
          },
          "metadata": {
            "tags": []
          },
          "execution_count": 21
        }
      ]
    },
    {
      "cell_type": "markdown",
      "metadata": {
        "id": "SMg0mjd_NbFh"
      },
      "source": [
        "Muitos casos com datas anteriores à 06/03/2020, provavelmente de dados informados incorretamente ou armazenamento em diversos padrões pelos sistemas podendo ter invertido dia com mês, o que pode ter gerado a falha durante a integração de dados.\n",
        "\n",
        "Datas anteriores a 06/03/2021 não serão descartadas de imediato, porém terão o dia e mês invertidos, gerando uma nova data, desde que o dia da data atual no datarame não seja maior que 12, pois ao alterar para mês seria gerado erro.\n",
        "\n",
        "Se mesmo assim restarem datas anteriores, serão removidas."
      ]
    },
    {
      "cell_type": "code",
      "metadata": {
        "id": "mzi7Jq-4Ns83"
      },
      "source": [
        "#def correct_dates_before(date, reference):\n",
        "#  try:\n",
        "#    if date < reference:\n",
        "#      date = pd.to_datetime(dt.datetime.strftime(date, '%Y-%d-%m'))\n",
        "#  except:\n",
        "#    date\n",
        "df = cases_evolution_mg.copy()\n",
        "cases_evolution_mg.DATA_NOTIFICACAO = cases_evolution_mg.DATA_NOTIFICACAO.apply(lambda d: pd.to_datetime(dt.datetime.strftime(d, '%Y-%d-%m')) if (d < first_case_date) & (d.day <= 12) else d)\n",
        "cases_evolution_mg.drop(cases_evolution_mg.query('DATA_NOTIFICACAO < \"' + first_case_date.strftime('%Y-%m-%d') + '\"').index, inplace=True)"
      ],
      "execution_count": 22,
      "outputs": []
    },
    {
      "cell_type": "markdown",
      "metadata": {
        "id": "FcKS24Nqn4aN"
      },
      "source": [
        "Verificando novamente registros anteriores à 06/03/2020."
      ]
    },
    {
      "cell_type": "code",
      "metadata": {
        "colab": {
          "base_uri": "https://localhost:8080/",
          "height": 69
        },
        "id": "QpSugsDGMNgc",
        "outputId": "90c713c6-f2d4-4875-99a7-f03d9662083b"
      },
      "source": [
        "cases_evolution_mg.query('DATA_NOTIFICACAO < \"' + first_case_date.strftime('%Y-%m-%d') + '\"')"
      ],
      "execution_count": 23,
      "outputs": [
        {
          "output_type": "execute_result",
          "data": {
            "text/html": [
              "<div>\n",
              "<style scoped>\n",
              "    .dataframe tbody tr th:only-of-type {\n",
              "        vertical-align: middle;\n",
              "    }\n",
              "\n",
              "    .dataframe tbody tr th {\n",
              "        vertical-align: top;\n",
              "    }\n",
              "\n",
              "    .dataframe thead th {\n",
              "        text-align: right;\n",
              "    }\n",
              "</style>\n",
              "<table border=\"1\" class=\"dataframe\">\n",
              "  <thead>\n",
              "    <tr style=\"text-align: right;\">\n",
              "      <th></th>\n",
              "      <th>URS</th>\n",
              "      <th>MICRO</th>\n",
              "      <th>MACRO</th>\n",
              "      <th>DATA_NOTIFICACAO</th>\n",
              "      <th>SEXO</th>\n",
              "      <th>FAIXA_ETARIA</th>\n",
              "      <th>MUNICIPIO_RESIDENCIA</th>\n",
              "      <th>CODIGO</th>\n",
              "      <th>EVOLUCAO</th>\n",
              "      <th>INTERNACAO</th>\n",
              "      <th>UTI</th>\n",
              "      <th>RACA</th>\n",
              "      <th>COMORBIDADE</th>\n",
              "      <th>ORIGEM_DA_INFORMACAO</th>\n",
              "    </tr>\n",
              "  </thead>\n",
              "  <tbody>\n",
              "  </tbody>\n",
              "</table>\n",
              "</div>"
            ],
            "text/plain": [
              "Empty DataFrame\n",
              "Columns: [URS, MICRO, MACRO, DATA_NOTIFICACAO, SEXO, FAIXA_ETARIA, MUNICIPIO_RESIDENCIA, CODIGO, EVOLUCAO, INTERNACAO, UTI, RACA, COMORBIDADE, ORIGEM_DA_INFORMACAO]\n",
              "Index: []"
            ]
          },
          "metadata": {
            "tags": []
          },
          "execution_count": 23
        }
      ]
    },
    {
      "cell_type": "markdown",
      "metadata": {
        "id": "RkYHZPaYFKw2"
      },
      "source": [
        "Abaixo foi definida uma função de cálculo de casos por local em função da data.\n",
        "\n",
        "Consegue-se avaliar dia a dia a quantidade de casos por local.\n",
        "\n",
        "**Retorna um *dataframe*** com as novas colunas calculadas."
      ]
    },
    {
      "cell_type": "code",
      "metadata": {
        "id": "xrKoPh6CNAex"
      },
      "source": [
        "def total_cases_by_place(dataframe, place_cols: list(), date_col: str):\n",
        "  df = dataframe.copy()\n",
        "\n",
        "  for place_col in place_cols:\n",
        "    print('Counting by ' + place_col)\n",
        "    df.sort_values([place_col, date_col], inplace=True)\n",
        "    df.insert(len(df.columns), \"CASOS_DIA_\" + place_col, df.groupby([place_col,date_col])[date_col].transform('count'))\n",
        "\n",
        "  df.sort_values(date_col, inplace=True)\n",
        "  df.reset_index(drop=True, inplace=True)\n",
        "  print('Finished')\n",
        "  return df"
      ],
      "execution_count": 24,
      "outputs": []
    },
    {
      "cell_type": "code",
      "metadata": {
        "colab": {
          "base_uri": "https://localhost:8080/"
        },
        "id": "2drAgble-llQ",
        "outputId": "ee433c9f-1e89-4cac-be42-010f57d66198"
      },
      "source": [
        "cases_evolution_mg = total_cases_by_place(cases_evolution_mg, ['URS','MACRO','MICRO','MUNICIPIO_RESIDENCIA'], 'DATA_NOTIFICACAO')"
      ],
      "execution_count": 25,
      "outputs": [
        {
          "output_type": "stream",
          "text": [
            "Counting by URS\n",
            "Counting by MACRO\n",
            "Counting by MICRO\n",
            "Counting by MUNICIPIO_RESIDENCIA\n",
            "Finished\n"
          ],
          "name": "stdout"
        }
      ]
    },
    {
      "cell_type": "code",
      "metadata": {
        "colab": {
          "base_uri": "https://localhost:8080/",
          "height": 309
        },
        "id": "1pdz3JZrrHGd",
        "outputId": "91f4db7e-ec75-418b-ba4d-b40e29b6b6d2"
      },
      "source": [
        "cases_evolution_mg.query('MUNICIPIO_RESIDENCIA == \"ENTRE RIOS DE MINAS\"')[['DATA_NOTIFICACAO','MUNICIPIO_RESIDENCIA','CASOS_DIA_MUNICIPIO_RESIDENCIA','CASOS_DIA_MICRO','CASOS_DIA_MACRO','CASOS_DIA_URS']].head()"
      ],
      "execution_count": 26,
      "outputs": [
        {
          "output_type": "execute_result",
          "data": {
            "text/html": [
              "<div>\n",
              "<style scoped>\n",
              "    .dataframe tbody tr th:only-of-type {\n",
              "        vertical-align: middle;\n",
              "    }\n",
              "\n",
              "    .dataframe tbody tr th {\n",
              "        vertical-align: top;\n",
              "    }\n",
              "\n",
              "    .dataframe thead th {\n",
              "        text-align: right;\n",
              "    }\n",
              "</style>\n",
              "<table border=\"1\" class=\"dataframe\">\n",
              "  <thead>\n",
              "    <tr style=\"text-align: right;\">\n",
              "      <th></th>\n",
              "      <th>DATA_NOTIFICACAO</th>\n",
              "      <th>MUNICIPIO_RESIDENCIA</th>\n",
              "      <th>CASOS_DIA_MUNICIPIO_RESIDENCIA</th>\n",
              "      <th>CASOS_DIA_MICRO</th>\n",
              "      <th>CASOS_DIA_MACRO</th>\n",
              "      <th>CASOS_DIA_URS</th>\n",
              "    </tr>\n",
              "  </thead>\n",
              "  <tbody>\n",
              "    <tr>\n",
              "      <th>5647</th>\n",
              "      <td>2020-03-09</td>\n",
              "      <td>ENTRE RIOS DE MINAS</td>\n",
              "      <td>4</td>\n",
              "      <td>8</td>\n",
              "      <td>19</td>\n",
              "      <td>4</td>\n",
              "    </tr>\n",
              "    <tr>\n",
              "      <th>5648</th>\n",
              "      <td>2020-03-09</td>\n",
              "      <td>ENTRE RIOS DE MINAS</td>\n",
              "      <td>4</td>\n",
              "      <td>8</td>\n",
              "      <td>19</td>\n",
              "      <td>4</td>\n",
              "    </tr>\n",
              "    <tr>\n",
              "      <th>5649</th>\n",
              "      <td>2020-03-09</td>\n",
              "      <td>ENTRE RIOS DE MINAS</td>\n",
              "      <td>4</td>\n",
              "      <td>8</td>\n",
              "      <td>19</td>\n",
              "      <td>4</td>\n",
              "    </tr>\n",
              "    <tr>\n",
              "      <th>5650</th>\n",
              "      <td>2020-03-09</td>\n",
              "      <td>ENTRE RIOS DE MINAS</td>\n",
              "      <td>4</td>\n",
              "      <td>8</td>\n",
              "      <td>19</td>\n",
              "      <td>4</td>\n",
              "    </tr>\n",
              "    <tr>\n",
              "      <th>9205</th>\n",
              "      <td>2020-03-12</td>\n",
              "      <td>ENTRE RIOS DE MINAS</td>\n",
              "      <td>1</td>\n",
              "      <td>21</td>\n",
              "      <td>64</td>\n",
              "      <td>11</td>\n",
              "    </tr>\n",
              "  </tbody>\n",
              "</table>\n",
              "</div>"
            ],
            "text/plain": [
              "     DATA_NOTIFICACAO MUNICIPIO_RESIDENCIA  ...  CASOS_DIA_MACRO  CASOS_DIA_URS\n",
              "5647       2020-03-09  ENTRE RIOS DE MINAS  ...               19              4\n",
              "5648       2020-03-09  ENTRE RIOS DE MINAS  ...               19              4\n",
              "5649       2020-03-09  ENTRE RIOS DE MINAS  ...               19              4\n",
              "5650       2020-03-09  ENTRE RIOS DE MINAS  ...               19              4\n",
              "9205       2020-03-12  ENTRE RIOS DE MINAS  ...               64             11\n",
              "\n",
              "[5 rows x 6 columns]"
            ]
          },
          "metadata": {
            "tags": []
          },
          "execution_count": 26
        }
      ]
    },
    {
      "cell_type": "markdown",
      "metadata": {
        "id": "CwHTmT24v2Oq"
      },
      "source": [
        "### Dados do IBGE\n",
        "Verificando agora o dataset com a população de Minas Gerais."
      ]
    },
    {
      "cell_type": "code",
      "metadata": {
        "colab": {
          "base_uri": "https://localhost:8080/"
        },
        "id": "hiwgVRdJ2fDK",
        "outputId": "07f8542c-bc03-4b7f-8302-c072d8c7b777"
      },
      "source": [
        "print('Formato:',ibge_cities_mg.shape,'\\n')\n",
        "print('Informações:')\n",
        "print(ibge_cities_mg.info())"
      ],
      "execution_count": 27,
      "outputs": [
        {
          "output_type": "stream",
          "text": [
            "Formato: (853, 5) \n",
            "\n",
            "Informações:\n",
            "<class 'pandas.core.frame.DataFrame'>\n",
            "RangeIndex: 853 entries, 0 to 852\n",
            "Data columns (total 5 columns):\n",
            " #   Column                                             Non-Null Count  Dtype \n",
            "---  ------                                             --------------  ----- \n",
            " 0   Municípios                                         853 non-null    object\n",
            " 1   Gentílico                                          853 non-null    object\n",
            " 2   População estimada                                 853 non-null    object\n",
            " 3   Salário médio mensal dos trabalhadores formais     853 non-null    object\n",
            " 4   Índice de Desenvolvimento Humano Municipal (IDHM)  853 non-null    object\n",
            "dtypes: object(5)\n",
            "memory usage: 33.4+ KB\n",
            "None\n"
          ],
          "name": "stdout"
        }
      ]
    },
    {
      "cell_type": "code",
      "metadata": {
        "colab": {
          "base_uri": "https://localhost:8080/",
          "height": 190
        },
        "id": "UPMZhMyFC4kV",
        "outputId": "f0a7be8f-28c2-40e4-afab-5e2f1c3b8e0a"
      },
      "source": [
        "ibge_cities_mg.describe()"
      ],
      "execution_count": 28,
      "outputs": [
        {
          "output_type": "execute_result",
          "data": {
            "text/html": [
              "<div>\n",
              "<style scoped>\n",
              "    .dataframe tbody tr th:only-of-type {\n",
              "        vertical-align: middle;\n",
              "    }\n",
              "\n",
              "    .dataframe tbody tr th {\n",
              "        vertical-align: top;\n",
              "    }\n",
              "\n",
              "    .dataframe thead th {\n",
              "        text-align: right;\n",
              "    }\n",
              "</style>\n",
              "<table border=\"1\" class=\"dataframe\">\n",
              "  <thead>\n",
              "    <tr style=\"text-align: right;\">\n",
              "      <th></th>\n",
              "      <th>Municípios</th>\n",
              "      <th>Gentílico</th>\n",
              "      <th>População estimada</th>\n",
              "      <th>Salário médio mensal dos trabalhadores formais</th>\n",
              "      <th>Índice de Desenvolvimento Humano Municipal (IDHM)</th>\n",
              "    </tr>\n",
              "  </thead>\n",
              "  <tbody>\n",
              "    <tr>\n",
              "      <th>count</th>\n",
              "      <td>853</td>\n",
              "      <td>853</td>\n",
              "      <td>853</td>\n",
              "      <td>853</td>\n",
              "      <td>853</td>\n",
              "    </tr>\n",
              "    <tr>\n",
              "      <th>unique</th>\n",
              "      <td>853</td>\n",
              "      <td>1</td>\n",
              "      <td>841</td>\n",
              "      <td>30</td>\n",
              "      <td>223</td>\n",
              "    </tr>\n",
              "    <tr>\n",
              "      <th>top</th>\n",
              "      <td>Teixeiras</td>\n",
              "      <td>mineiro</td>\n",
              "      <td>5369 pessoas</td>\n",
              "      <td>1,6 salários mínimos</td>\n",
              "      <td>0,674</td>\n",
              "    </tr>\n",
              "    <tr>\n",
              "      <th>freq</th>\n",
              "      <td>1</td>\n",
              "      <td>853</td>\n",
              "      <td>2</td>\n",
              "      <td>149</td>\n",
              "      <td>12</td>\n",
              "    </tr>\n",
              "  </tbody>\n",
              "</table>\n",
              "</div>"
            ],
            "text/plain": [
              "       Municípios  ... Índice de Desenvolvimento Humano Municipal (IDHM)\n",
              "count         853  ...                                               853\n",
              "unique        853  ...                                               223\n",
              "top     Teixeiras  ...                                            0,674 \n",
              "freq            1  ...                                                12\n",
              "\n",
              "[4 rows x 5 columns]"
            ]
          },
          "metadata": {
            "tags": []
          },
          "execution_count": 28
        }
      ]
    },
    {
      "cell_type": "markdown",
      "metadata": {
        "id": "JS5JVozg4aEn"
      },
      "source": [
        "Observa-se que não há valores ausentes no dataset."
      ]
    },
    {
      "cell_type": "markdown",
      "metadata": {
        "id": "Pi6eprC8pb1v"
      },
      "source": [
        "A próxima etapa é eliminar coluna \"Gentílico\" por ser irrelevante, renomear demais colunas e tratar dados como por exemplo remover texto \"pessoas\" da coluna de população estimada e alterar tipos de dados das colunas.\n",
        "\n",
        "Os municípios contém acentos que serão removidos, além de os nomes colocados em caixa alta para manter o padrão do dataset da covid-19."
      ]
    },
    {
      "cell_type": "code",
      "metadata": {
        "colab": {
          "base_uri": "https://localhost:8080/"
        },
        "id": "M602LIqqv_0P",
        "outputId": "bde63673-d4f4-4fb6-cef3-6471b07c32bb"
      },
      "source": [
        "if 'Gentílico' in ibge_cities_mg.columns: ibge_cities_mg.drop(labels='Gentílico', axis=1, inplace=True)\n",
        "ibge_cities_mg.columns = ['MUNICIPIO','POP_ESTIMADA_2020','SALARIO_MEDIO_2018','IDHM_2010']\n",
        "ibge_cities_mg['MUNICIPIO'] = ibge_cities_mg['MUNICIPIO'].str.normalize('NFKD').str.encode('ascii', errors='ignore').str.decode('utf-8').str.upper()\n",
        "ibge_cities_mg['MUNICIPIO'] = ibge_cities_mg['MUNICIPIO'].replace('SAO TOME', 'SAO THOME', regex=True)\n",
        "ibge_cities_mg['MUNICIPIO'] = ibge_cities_mg['MUNICIPIO'].replace('-', ' ', regex=True)\n",
        "ibge_cities_mg['MUNICIPIO'] = ibge_cities_mg['MUNICIPIO'].replace('\\'', ' ', regex=True).astype(str)\n",
        "ibge_cities_mg['POP_ESTIMADA_2020'] = ibge_cities_mg['POP_ESTIMADA_2020'].replace('\\D', '', regex=True).astype(int)\n",
        "ibge_cities_mg['SALARIO_MEDIO_2018'] = ibge_cities_mg['SALARIO_MEDIO_2018'].replace('[^/0-9,.]', '', regex=True).replace(',', '.', regex=True).astype(float)\n",
        "ibge_cities_mg['IDHM_2010'] = ibge_cities_mg['IDHM_2010'].replace(',', '.', regex=True).astype(float)\n",
        "ibge_cities_mg.info()"
      ],
      "execution_count": 29,
      "outputs": [
        {
          "output_type": "stream",
          "text": [
            "<class 'pandas.core.frame.DataFrame'>\n",
            "RangeIndex: 853 entries, 0 to 852\n",
            "Data columns (total 4 columns):\n",
            " #   Column              Non-Null Count  Dtype  \n",
            "---  ------              --------------  -----  \n",
            " 0   MUNICIPIO           853 non-null    object \n",
            " 1   POP_ESTIMADA_2020   853 non-null    int64  \n",
            " 2   SALARIO_MEDIO_2018  853 non-null    float64\n",
            " 3   IDHM_2010           853 non-null    float64\n",
            "dtypes: float64(2), int64(1), object(1)\n",
            "memory usage: 26.8+ KB\n"
          ],
          "name": "stdout"
        }
      ]
    },
    {
      "cell_type": "code",
      "metadata": {
        "colab": {
          "base_uri": "https://localhost:8080/",
          "height": 204
        },
        "id": "rZp3zYJL9llI",
        "outputId": "3525dcd6-1b6c-4754-bc0f-8a6b291e9cc3"
      },
      "source": [
        "ibge_cities_mg.sample(5)"
      ],
      "execution_count": 30,
      "outputs": [
        {
          "output_type": "execute_result",
          "data": {
            "text/html": [
              "<div>\n",
              "<style scoped>\n",
              "    .dataframe tbody tr th:only-of-type {\n",
              "        vertical-align: middle;\n",
              "    }\n",
              "\n",
              "    .dataframe tbody tr th {\n",
              "        vertical-align: top;\n",
              "    }\n",
              "\n",
              "    .dataframe thead th {\n",
              "        text-align: right;\n",
              "    }\n",
              "</style>\n",
              "<table border=\"1\" class=\"dataframe\">\n",
              "  <thead>\n",
              "    <tr style=\"text-align: right;\">\n",
              "      <th></th>\n",
              "      <th>MUNICIPIO</th>\n",
              "      <th>POP_ESTIMADA_2020</th>\n",
              "      <th>SALARIO_MEDIO_2018</th>\n",
              "      <th>IDHM_2010</th>\n",
              "    </tr>\n",
              "  </thead>\n",
              "  <tbody>\n",
              "    <tr>\n",
              "      <th>414</th>\n",
              "      <td>JOSE GONCALVES DE MINAS</td>\n",
              "      <td>4487</td>\n",
              "      <td>1.7</td>\n",
              "      <td>0.632</td>\n",
              "    </tr>\n",
              "    <tr>\n",
              "      <th>72</th>\n",
              "      <td>BIAS FORTES</td>\n",
              "      <td>3329</td>\n",
              "      <td>1.6</td>\n",
              "      <td>0.620</td>\n",
              "    </tr>\n",
              "    <tr>\n",
              "      <th>506</th>\n",
              "      <td>MURIAE</td>\n",
              "      <td>109392</td>\n",
              "      <td>1.9</td>\n",
              "      <td>0.734</td>\n",
              "    </tr>\n",
              "    <tr>\n",
              "      <th>484</th>\n",
              "      <td>MIRABELA</td>\n",
              "      <td>13620</td>\n",
              "      <td>1.5</td>\n",
              "      <td>0.665</td>\n",
              "    </tr>\n",
              "    <tr>\n",
              "      <th>535</th>\n",
              "      <td>ORATORIOS</td>\n",
              "      <td>4663</td>\n",
              "      <td>1.7</td>\n",
              "      <td>0.637</td>\n",
              "    </tr>\n",
              "  </tbody>\n",
              "</table>\n",
              "</div>"
            ],
            "text/plain": [
              "                   MUNICIPIO  POP_ESTIMADA_2020  SALARIO_MEDIO_2018  IDHM_2010\n",
              "414  JOSE GONCALVES DE MINAS               4487                 1.7      0.632\n",
              "72               BIAS FORTES               3329                 1.6      0.620\n",
              "506                   MURIAE             109392                 1.9      0.734\n",
              "484                 MIRABELA              13620                 1.5      0.665\n",
              "535                ORATORIOS               4663                 1.7      0.637"
            ]
          },
          "metadata": {
            "tags": []
          },
          "execution_count": 30
        }
      ]
    },
    {
      "cell_type": "markdown",
      "metadata": {
        "id": "WayR5SN1gjpE"
      },
      "source": [
        "### Enriquecendo o dataframe da covid-19\n",
        "Será enriquecido o dataframe da covid-19 com a união com o dataframe de dados do IBGE.\n",
        "\n",
        "Os dataframe do IBGE não possui o código do múnicípio, portanto a união será feita pelo nome do município."
      ]
    },
    {
      "cell_type": "code",
      "metadata": {
        "colab": {
          "base_uri": "https://localhost:8080/",
          "height": 309
        },
        "id": "MZtTuS6AOosz",
        "outputId": "38da0dba-c919-4712-a4f4-5ee69f53a2a7"
      },
      "source": [
        "# Adicionando dados do IBGE\n",
        "cases_evolution_mg.rename({'MUNICIPIO_RESIDENCIA':'MUNICIPIO','CODIGO':'CODIGO_MUNICIPIO','CASOS_DIA_MUNICIPIO_RESIDENCIA':'CASOS_DIA_MUNICIPIO'}, axis=1, inplace=True)\n",
        "cases_evolution_mg = cases_evolution_mg.merge(ibge_cities_mg, on=['MUNICIPIO'], how='left')\n",
        "cases_evolution_mg.head()"
      ],
      "execution_count": 31,
      "outputs": [
        {
          "output_type": "execute_result",
          "data": {
            "text/html": [
              "<div>\n",
              "<style scoped>\n",
              "    .dataframe tbody tr th:only-of-type {\n",
              "        vertical-align: middle;\n",
              "    }\n",
              "\n",
              "    .dataframe tbody tr th {\n",
              "        vertical-align: top;\n",
              "    }\n",
              "\n",
              "    .dataframe thead th {\n",
              "        text-align: right;\n",
              "    }\n",
              "</style>\n",
              "<table border=\"1\" class=\"dataframe\">\n",
              "  <thead>\n",
              "    <tr style=\"text-align: right;\">\n",
              "      <th></th>\n",
              "      <th>URS</th>\n",
              "      <th>MICRO</th>\n",
              "      <th>MACRO</th>\n",
              "      <th>DATA_NOTIFICACAO</th>\n",
              "      <th>SEXO</th>\n",
              "      <th>FAIXA_ETARIA</th>\n",
              "      <th>MUNICIPIO</th>\n",
              "      <th>CODIGO_MUNICIPIO</th>\n",
              "      <th>EVOLUCAO</th>\n",
              "      <th>INTERNACAO</th>\n",
              "      <th>UTI</th>\n",
              "      <th>RACA</th>\n",
              "      <th>COMORBIDADE</th>\n",
              "      <th>ORIGEM_DA_INFORMACAO</th>\n",
              "      <th>CASOS_DIA_URS</th>\n",
              "      <th>CASOS_DIA_MACRO</th>\n",
              "      <th>CASOS_DIA_MICRO</th>\n",
              "      <th>CASOS_DIA_MUNICIPIO</th>\n",
              "      <th>POP_ESTIMADA_2020</th>\n",
              "      <th>SALARIO_MEDIO_2018</th>\n",
              "      <th>IDHM_2010</th>\n",
              "    </tr>\n",
              "  </thead>\n",
              "  <tbody>\n",
              "    <tr>\n",
              "      <th>0</th>\n",
              "      <td>BELO HORIZONTE</td>\n",
              "      <td>OURO PRETO</td>\n",
              "      <td>CENTRO</td>\n",
              "      <td>2020-03-06</td>\n",
              "      <td>MASCULINO</td>\n",
              "      <td>20 A 29 ANOS</td>\n",
              "      <td>MARIANA</td>\n",
              "      <td>314000</td>\n",
              "      <td>RECUPERADO</td>\n",
              "      <td>NAO</td>\n",
              "      <td>NAO</td>\n",
              "      <td>NAO INFORMADO</td>\n",
              "      <td>NAO INFORMADO</td>\n",
              "      <td>ESUS</td>\n",
              "      <td>375</td>\n",
              "      <td>451</td>\n",
              "      <td>62</td>\n",
              "      <td>33</td>\n",
              "      <td>61288.0</td>\n",
              "      <td>2.5</td>\n",
              "      <td>0.742</td>\n",
              "    </tr>\n",
              "    <tr>\n",
              "      <th>1</th>\n",
              "      <td>BELO HORIZONTE</td>\n",
              "      <td>BETIM</td>\n",
              "      <td>CENTRO</td>\n",
              "      <td>2020-03-06</td>\n",
              "      <td>FEMININO</td>\n",
              "      <td>30 A 39 ANOS</td>\n",
              "      <td>BETIM</td>\n",
              "      <td>310670</td>\n",
              "      <td>RECUPERADO</td>\n",
              "      <td>NAO INFORMADO</td>\n",
              "      <td>NAO INFORMADO</td>\n",
              "      <td>PARDA</td>\n",
              "      <td>NAO INFORMADO</td>\n",
              "      <td>ESUS</td>\n",
              "      <td>375</td>\n",
              "      <td>451</td>\n",
              "      <td>66</td>\n",
              "      <td>41</td>\n",
              "      <td>444784.0</td>\n",
              "      <td>3.4</td>\n",
              "      <td>0.749</td>\n",
              "    </tr>\n",
              "    <tr>\n",
              "      <th>2</th>\n",
              "      <td>BELO HORIZONTE</td>\n",
              "      <td>BETIM</td>\n",
              "      <td>CENTRO</td>\n",
              "      <td>2020-03-06</td>\n",
              "      <td>MASCULINO</td>\n",
              "      <td>30 A 39 ANOS</td>\n",
              "      <td>BETIM</td>\n",
              "      <td>310670</td>\n",
              "      <td>RECUPERADO</td>\n",
              "      <td>NAO INFORMADO</td>\n",
              "      <td>NAO INFORMADO</td>\n",
              "      <td>BRANCA</td>\n",
              "      <td>NAO INFORMADO</td>\n",
              "      <td>ESUS</td>\n",
              "      <td>375</td>\n",
              "      <td>451</td>\n",
              "      <td>66</td>\n",
              "      <td>41</td>\n",
              "      <td>444784.0</td>\n",
              "      <td>3.4</td>\n",
              "      <td>0.749</td>\n",
              "    </tr>\n",
              "    <tr>\n",
              "      <th>3</th>\n",
              "      <td>BELO HORIZONTE</td>\n",
              "      <td>BETIM</td>\n",
              "      <td>CENTRO</td>\n",
              "      <td>2020-03-06</td>\n",
              "      <td>MASCULINO</td>\n",
              "      <td>50 A 59 ANOS</td>\n",
              "      <td>BETIM</td>\n",
              "      <td>310670</td>\n",
              "      <td>RECUPERADO</td>\n",
              "      <td>NAO INFORMADO</td>\n",
              "      <td>NAO INFORMADO</td>\n",
              "      <td>PARDA</td>\n",
              "      <td>NAO INFORMADO</td>\n",
              "      <td>ESUS</td>\n",
              "      <td>375</td>\n",
              "      <td>451</td>\n",
              "      <td>66</td>\n",
              "      <td>41</td>\n",
              "      <td>444784.0</td>\n",
              "      <td>3.4</td>\n",
              "      <td>0.749</td>\n",
              "    </tr>\n",
              "    <tr>\n",
              "      <th>4</th>\n",
              "      <td>BELO HORIZONTE</td>\n",
              "      <td>BETIM</td>\n",
              "      <td>CENTRO</td>\n",
              "      <td>2020-03-06</td>\n",
              "      <td>MASCULINO</td>\n",
              "      <td>1 A 9 ANOS</td>\n",
              "      <td>BETIM</td>\n",
              "      <td>310670</td>\n",
              "      <td>RECUPERADO</td>\n",
              "      <td>NAO INFORMADO</td>\n",
              "      <td>NAO INFORMADO</td>\n",
              "      <td>NAO INFORMADO</td>\n",
              "      <td>NAO INFORMADO</td>\n",
              "      <td>ESUS</td>\n",
              "      <td>375</td>\n",
              "      <td>451</td>\n",
              "      <td>66</td>\n",
              "      <td>41</td>\n",
              "      <td>444784.0</td>\n",
              "      <td>3.4</td>\n",
              "      <td>0.749</td>\n",
              "    </tr>\n",
              "  </tbody>\n",
              "</table>\n",
              "</div>"
            ],
            "text/plain": [
              "              URS       MICRO  ... SALARIO_MEDIO_2018 IDHM_2010\n",
              "0  BELO HORIZONTE  OURO PRETO  ...                2.5     0.742\n",
              "1  BELO HORIZONTE       BETIM  ...                3.4     0.749\n",
              "2  BELO HORIZONTE       BETIM  ...                3.4     0.749\n",
              "3  BELO HORIZONTE       BETIM  ...                3.4     0.749\n",
              "4  BELO HORIZONTE       BETIM  ...                3.4     0.749\n",
              "\n",
              "[5 rows x 21 columns]"
            ]
          },
          "metadata": {
            "tags": []
          },
          "execution_count": 31
        }
      ]
    },
    {
      "cell_type": "code",
      "metadata": {
        "colab": {
          "base_uri": "https://localhost:8080/"
        },
        "id": "8OXEJIDEhhrA",
        "outputId": "7ef723c5-d728-4181-8cd5-1ec0b00b4d5d"
      },
      "source": [
        "cases_evolution_mg.info()"
      ],
      "execution_count": 32,
      "outputs": [
        {
          "output_type": "stream",
          "text": [
            "<class 'pandas.core.frame.DataFrame'>\n",
            "Int64Index: 489888 entries, 0 to 489887\n",
            "Data columns (total 21 columns):\n",
            " #   Column                Non-Null Count   Dtype         \n",
            "---  ------                --------------   -----         \n",
            " 0   URS                   489888 non-null  string        \n",
            " 1   MICRO                 489888 non-null  string        \n",
            " 2   MACRO                 489888 non-null  string        \n",
            " 3   DATA_NOTIFICACAO      489888 non-null  datetime64[ns]\n",
            " 4   SEXO                  489888 non-null  string        \n",
            " 5   FAIXA_ETARIA          489888 non-null  string        \n",
            " 6   MUNICIPIO             489888 non-null  object        \n",
            " 7   CODIGO_MUNICIPIO      489888 non-null  Int64         \n",
            " 8   EVOLUCAO              489888 non-null  string        \n",
            " 9   INTERNACAO            489888 non-null  string        \n",
            " 10  UTI                   489888 non-null  string        \n",
            " 11  RACA                  489888 non-null  string        \n",
            " 12  COMORBIDADE           489888 non-null  string        \n",
            " 13  ORIGEM_DA_INFORMACAO  489888 non-null  string        \n",
            " 14  CASOS_DIA_URS         489888 non-null  int64         \n",
            " 15  CASOS_DIA_MACRO       489888 non-null  int64         \n",
            " 16  CASOS_DIA_MICRO       489888 non-null  int64         \n",
            " 17  CASOS_DIA_MUNICIPIO   489888 non-null  int64         \n",
            " 18  POP_ESTIMADA_2020     488746 non-null  float64       \n",
            " 19  SALARIO_MEDIO_2018    488746 non-null  float64       \n",
            " 20  IDHM_2010             488746 non-null  float64       \n",
            "dtypes: Int64(1), datetime64[ns](1), float64(3), int64(4), object(1), string(11)\n",
            "memory usage: 82.7+ MB\n"
          ],
          "name": "stdout"
        }
      ]
    },
    {
      "cell_type": "code",
      "metadata": {
        "colab": {
          "base_uri": "https://localhost:8080/",
          "height": 609
        },
        "id": "TjyROkQ6AjwG",
        "outputId": "aa3cfff2-a8f3-44fa-c7b7-3fabd4472c8f"
      },
      "source": [
        "missing_cases = cases_evolution_mg[cases_evolution_mg.isna().any(axis=1)]\n",
        "missing_cases"
      ],
      "execution_count": 33,
      "outputs": [
        {
          "output_type": "execute_result",
          "data": {
            "text/html": [
              "<div>\n",
              "<style scoped>\n",
              "    .dataframe tbody tr th:only-of-type {\n",
              "        vertical-align: middle;\n",
              "    }\n",
              "\n",
              "    .dataframe tbody tr th {\n",
              "        vertical-align: top;\n",
              "    }\n",
              "\n",
              "    .dataframe thead th {\n",
              "        text-align: right;\n",
              "    }\n",
              "</style>\n",
              "<table border=\"1\" class=\"dataframe\">\n",
              "  <thead>\n",
              "    <tr style=\"text-align: right;\">\n",
              "      <th></th>\n",
              "      <th>URS</th>\n",
              "      <th>MICRO</th>\n",
              "      <th>MACRO</th>\n",
              "      <th>DATA_NOTIFICACAO</th>\n",
              "      <th>SEXO</th>\n",
              "      <th>FAIXA_ETARIA</th>\n",
              "      <th>MUNICIPIO</th>\n",
              "      <th>CODIGO_MUNICIPIO</th>\n",
              "      <th>EVOLUCAO</th>\n",
              "      <th>INTERNACAO</th>\n",
              "      <th>UTI</th>\n",
              "      <th>RACA</th>\n",
              "      <th>COMORBIDADE</th>\n",
              "      <th>ORIGEM_DA_INFORMACAO</th>\n",
              "      <th>CASOS_DIA_URS</th>\n",
              "      <th>CASOS_DIA_MACRO</th>\n",
              "      <th>CASOS_DIA_MICRO</th>\n",
              "      <th>CASOS_DIA_MUNICIPIO</th>\n",
              "      <th>POP_ESTIMADA_2020</th>\n",
              "      <th>SALARIO_MEDIO_2018</th>\n",
              "      <th>IDHM_2010</th>\n",
              "    </tr>\n",
              "  </thead>\n",
              "  <tbody>\n",
              "    <tr>\n",
              "      <th>4906</th>\n",
              "      <td>POUSO ALEGRE</td>\n",
              "      <td>ITAJUBA</td>\n",
              "      <td>SUL</td>\n",
              "      <td>2020-03-08</td>\n",
              "      <td>MASCULINO</td>\n",
              "      <td>50 A 59 ANOS</td>\n",
              "      <td>BRASOPOLIS</td>\n",
              "      <td>310890</td>\n",
              "      <td>RECUPERADO</td>\n",
              "      <td>NAO</td>\n",
              "      <td>NAO</td>\n",
              "      <td>PARDA</td>\n",
              "      <td>NAO INFORMADO</td>\n",
              "      <td>ESUS</td>\n",
              "      <td>254</td>\n",
              "      <td>373</td>\n",
              "      <td>44</td>\n",
              "      <td>18</td>\n",
              "      <td>NaN</td>\n",
              "      <td>NaN</td>\n",
              "      <td>NaN</td>\n",
              "    </tr>\n",
              "    <tr>\n",
              "      <th>4909</th>\n",
              "      <td>POUSO ALEGRE</td>\n",
              "      <td>ITAJUBA</td>\n",
              "      <td>SUL</td>\n",
              "      <td>2020-03-08</td>\n",
              "      <td>MASCULINO</td>\n",
              "      <td>30 A 39 ANOS</td>\n",
              "      <td>BRASOPOLIS</td>\n",
              "      <td>310890</td>\n",
              "      <td>RECUPERADO</td>\n",
              "      <td>NAO</td>\n",
              "      <td>NAO</td>\n",
              "      <td>BRANCA</td>\n",
              "      <td>NAO INFORMADO</td>\n",
              "      <td>ESUS</td>\n",
              "      <td>254</td>\n",
              "      <td>373</td>\n",
              "      <td>44</td>\n",
              "      <td>18</td>\n",
              "      <td>NaN</td>\n",
              "      <td>NaN</td>\n",
              "      <td>NaN</td>\n",
              "    </tr>\n",
              "    <tr>\n",
              "      <th>4914</th>\n",
              "      <td>POUSO ALEGRE</td>\n",
              "      <td>ITAJUBA</td>\n",
              "      <td>SUL</td>\n",
              "      <td>2020-03-08</td>\n",
              "      <td>MASCULINO</td>\n",
              "      <td>20 A 29 ANOS</td>\n",
              "      <td>BRASOPOLIS</td>\n",
              "      <td>310890</td>\n",
              "      <td>RECUPERADO</td>\n",
              "      <td>NAO</td>\n",
              "      <td>NAO</td>\n",
              "      <td>BRANCA</td>\n",
              "      <td>NAO INFORMADO</td>\n",
              "      <td>ESUS</td>\n",
              "      <td>254</td>\n",
              "      <td>373</td>\n",
              "      <td>44</td>\n",
              "      <td>18</td>\n",
              "      <td>NaN</td>\n",
              "      <td>NaN</td>\n",
              "      <td>NaN</td>\n",
              "    </tr>\n",
              "    <tr>\n",
              "      <th>4915</th>\n",
              "      <td>POUSO ALEGRE</td>\n",
              "      <td>ITAJUBA</td>\n",
              "      <td>SUL</td>\n",
              "      <td>2020-03-08</td>\n",
              "      <td>FEMININO</td>\n",
              "      <td>20 A 29 ANOS</td>\n",
              "      <td>BRASOPOLIS</td>\n",
              "      <td>310890</td>\n",
              "      <td>RECUPERADO</td>\n",
              "      <td>NAO</td>\n",
              "      <td>NAO</td>\n",
              "      <td>BRANCA</td>\n",
              "      <td>NAO INFORMADO</td>\n",
              "      <td>ESUS</td>\n",
              "      <td>254</td>\n",
              "      <td>373</td>\n",
              "      <td>44</td>\n",
              "      <td>18</td>\n",
              "      <td>NaN</td>\n",
              "      <td>NaN</td>\n",
              "      <td>NaN</td>\n",
              "    </tr>\n",
              "    <tr>\n",
              "      <th>4916</th>\n",
              "      <td>POUSO ALEGRE</td>\n",
              "      <td>ITAJUBA</td>\n",
              "      <td>SUL</td>\n",
              "      <td>2020-03-08</td>\n",
              "      <td>MASCULINO</td>\n",
              "      <td>10 A 19 ANOS</td>\n",
              "      <td>BRASOPOLIS</td>\n",
              "      <td>310890</td>\n",
              "      <td>RECUPERADO</td>\n",
              "      <td>NAO</td>\n",
              "      <td>NAO</td>\n",
              "      <td>BRANCA</td>\n",
              "      <td>NAO INFORMADO</td>\n",
              "      <td>ESUS</td>\n",
              "      <td>254</td>\n",
              "      <td>373</td>\n",
              "      <td>44</td>\n",
              "      <td>18</td>\n",
              "      <td>NaN</td>\n",
              "      <td>NaN</td>\n",
              "      <td>NaN</td>\n",
              "    </tr>\n",
              "    <tr>\n",
              "      <th>...</th>\n",
              "      <td>...</td>\n",
              "      <td>...</td>\n",
              "      <td>...</td>\n",
              "      <td>...</td>\n",
              "      <td>...</td>\n",
              "      <td>...</td>\n",
              "      <td>...</td>\n",
              "      <td>...</td>\n",
              "      <td>...</td>\n",
              "      <td>...</td>\n",
              "      <td>...</td>\n",
              "      <td>...</td>\n",
              "      <td>...</td>\n",
              "      <td>...</td>\n",
              "      <td>...</td>\n",
              "      <td>...</td>\n",
              "      <td>...</td>\n",
              "      <td>...</td>\n",
              "      <td>...</td>\n",
              "      <td>...</td>\n",
              "      <td>...</td>\n",
              "    </tr>\n",
              "    <tr>\n",
              "      <th>489023</th>\n",
              "      <td>LEOPOLDINA</td>\n",
              "      <td>LEOPOLDINA/CATAGUASES</td>\n",
              "      <td>SUDESTE</td>\n",
              "      <td>2021-12-04</td>\n",
              "      <td>FEMININO</td>\n",
              "      <td>20 A 29 ANOS</td>\n",
              "      <td>DONA EUSEBIA</td>\n",
              "      <td>312290</td>\n",
              "      <td>RECUPERADO</td>\n",
              "      <td>NAO</td>\n",
              "      <td>NAO</td>\n",
              "      <td>PARDA</td>\n",
              "      <td>NAO INFORMADO</td>\n",
              "      <td>ESUS</td>\n",
              "      <td>14</td>\n",
              "      <td>75</td>\n",
              "      <td>12</td>\n",
              "      <td>10</td>\n",
              "      <td>NaN</td>\n",
              "      <td>NaN</td>\n",
              "      <td>NaN</td>\n",
              "    </tr>\n",
              "    <tr>\n",
              "      <th>489024</th>\n",
              "      <td>LEOPOLDINA</td>\n",
              "      <td>LEOPOLDINA/CATAGUASES</td>\n",
              "      <td>SUDESTE</td>\n",
              "      <td>2021-12-04</td>\n",
              "      <td>FEMININO</td>\n",
              "      <td>20 A 29 ANOS</td>\n",
              "      <td>DONA EUSEBIA</td>\n",
              "      <td>312290</td>\n",
              "      <td>RECUPERADO</td>\n",
              "      <td>NAO</td>\n",
              "      <td>NAO</td>\n",
              "      <td>BRANCA</td>\n",
              "      <td>NAO INFORMADO</td>\n",
              "      <td>ESUS</td>\n",
              "      <td>14</td>\n",
              "      <td>75</td>\n",
              "      <td>12</td>\n",
              "      <td>10</td>\n",
              "      <td>NaN</td>\n",
              "      <td>NaN</td>\n",
              "      <td>NaN</td>\n",
              "    </tr>\n",
              "    <tr>\n",
              "      <th>489025</th>\n",
              "      <td>LEOPOLDINA</td>\n",
              "      <td>LEOPOLDINA/CATAGUASES</td>\n",
              "      <td>SUDESTE</td>\n",
              "      <td>2021-12-04</td>\n",
              "      <td>FEMININO</td>\n",
              "      <td>60 A 69 ANOS</td>\n",
              "      <td>DONA EUSEBIA</td>\n",
              "      <td>312290</td>\n",
              "      <td>RECUPERADO</td>\n",
              "      <td>NAO</td>\n",
              "      <td>NAO</td>\n",
              "      <td>PARDA</td>\n",
              "      <td>NAO INFORMADO</td>\n",
              "      <td>ESUS</td>\n",
              "      <td>14</td>\n",
              "      <td>75</td>\n",
              "      <td>12</td>\n",
              "      <td>10</td>\n",
              "      <td>NaN</td>\n",
              "      <td>NaN</td>\n",
              "      <td>NaN</td>\n",
              "    </tr>\n",
              "    <tr>\n",
              "      <th>489026</th>\n",
              "      <td>LEOPOLDINA</td>\n",
              "      <td>LEOPOLDINA/CATAGUASES</td>\n",
              "      <td>SUDESTE</td>\n",
              "      <td>2021-12-04</td>\n",
              "      <td>MASCULINO</td>\n",
              "      <td>30 A 39 ANOS</td>\n",
              "      <td>DONA EUSEBIA</td>\n",
              "      <td>312290</td>\n",
              "      <td>RECUPERADO</td>\n",
              "      <td>NAO</td>\n",
              "      <td>NAO</td>\n",
              "      <td>PARDA</td>\n",
              "      <td>NAO INFORMADO</td>\n",
              "      <td>ESUS</td>\n",
              "      <td>14</td>\n",
              "      <td>75</td>\n",
              "      <td>12</td>\n",
              "      <td>10</td>\n",
              "      <td>NaN</td>\n",
              "      <td>NaN</td>\n",
              "      <td>NaN</td>\n",
              "    </tr>\n",
              "    <tr>\n",
              "      <th>489027</th>\n",
              "      <td>LEOPOLDINA</td>\n",
              "      <td>LEOPOLDINA/CATAGUASES</td>\n",
              "      <td>SUDESTE</td>\n",
              "      <td>2021-12-04</td>\n",
              "      <td>FEMININO</td>\n",
              "      <td>30 A 39 ANOS</td>\n",
              "      <td>DONA EUSEBIA</td>\n",
              "      <td>312290</td>\n",
              "      <td>RECUPERADO</td>\n",
              "      <td>NAO</td>\n",
              "      <td>NAO</td>\n",
              "      <td>BRANCA</td>\n",
              "      <td>NAO INFORMADO</td>\n",
              "      <td>ESUS</td>\n",
              "      <td>14</td>\n",
              "      <td>75</td>\n",
              "      <td>12</td>\n",
              "      <td>10</td>\n",
              "      <td>NaN</td>\n",
              "      <td>NaN</td>\n",
              "      <td>NaN</td>\n",
              "    </tr>\n",
              "  </tbody>\n",
              "</table>\n",
              "<p>1142 rows × 21 columns</p>\n",
              "</div>"
            ],
            "text/plain": [
              "                 URS                  MICRO  ... SALARIO_MEDIO_2018 IDHM_2010\n",
              "4906    POUSO ALEGRE                ITAJUBA  ...                NaN       NaN\n",
              "4909    POUSO ALEGRE                ITAJUBA  ...                NaN       NaN\n",
              "4914    POUSO ALEGRE                ITAJUBA  ...                NaN       NaN\n",
              "4915    POUSO ALEGRE                ITAJUBA  ...                NaN       NaN\n",
              "4916    POUSO ALEGRE                ITAJUBA  ...                NaN       NaN\n",
              "...              ...                    ...  ...                ...       ...\n",
              "489023    LEOPOLDINA  LEOPOLDINA/CATAGUASES  ...                NaN       NaN\n",
              "489024    LEOPOLDINA  LEOPOLDINA/CATAGUASES  ...                NaN       NaN\n",
              "489025    LEOPOLDINA  LEOPOLDINA/CATAGUASES  ...                NaN       NaN\n",
              "489026    LEOPOLDINA  LEOPOLDINA/CATAGUASES  ...                NaN       NaN\n",
              "489027    LEOPOLDINA  LEOPOLDINA/CATAGUASES  ...                NaN       NaN\n",
              "\n",
              "[1142 rows x 21 columns]"
            ]
          },
          "metadata": {
            "tags": []
          },
          "execution_count": 33
        }
      ]
    },
    {
      "cell_type": "code",
      "metadata": {
        "colab": {
          "base_uri": "https://localhost:8080/",
          "height": 111
        },
        "id": "UE7uEJtXBFXh",
        "outputId": "007737b2-0d99-4ff0-dab0-0fdc7c56f2e3"
      },
      "source": [
        "ibge_cities_mg.loc[(ibge_cities_mg['MUNICIPIO'].str.contains('DONA EU')) | (ibge_cities_mg['MUNICIPIO'].str.contains('^BRA.*OPOLIS$'))]"
      ],
      "execution_count": 34,
      "outputs": [
        {
          "output_type": "execute_result",
          "data": {
            "text/html": [
              "<div>\n",
              "<style scoped>\n",
              "    .dataframe tbody tr th:only-of-type {\n",
              "        vertical-align: middle;\n",
              "    }\n",
              "\n",
              "    .dataframe tbody tr th {\n",
              "        vertical-align: top;\n",
              "    }\n",
              "\n",
              "    .dataframe thead th {\n",
              "        text-align: right;\n",
              "    }\n",
              "</style>\n",
              "<table border=\"1\" class=\"dataframe\">\n",
              "  <thead>\n",
              "    <tr style=\"text-align: right;\">\n",
              "      <th></th>\n",
              "      <th>MUNICIPIO</th>\n",
              "      <th>POP_ESTIMADA_2020</th>\n",
              "      <th>SALARIO_MEDIO_2018</th>\n",
              "      <th>IDHM_2010</th>\n",
              "    </tr>\n",
              "  </thead>\n",
              "  <tbody>\n",
              "    <tr>\n",
              "      <th>94</th>\n",
              "      <td>BRAZOPOLIS</td>\n",
              "      <td>14410</td>\n",
              "      <td>1.7</td>\n",
              "      <td>0.692</td>\n",
              "    </tr>\n",
              "    <tr>\n",
              "      <th>256</th>\n",
              "      <td>DONA EUZEBIA</td>\n",
              "      <td>6619</td>\n",
              "      <td>1.3</td>\n",
              "      <td>0.701</td>\n",
              "    </tr>\n",
              "  </tbody>\n",
              "</table>\n",
              "</div>"
            ],
            "text/plain": [
              "        MUNICIPIO  POP_ESTIMADA_2020  SALARIO_MEDIO_2018  IDHM_2010\n",
              "94     BRAZOPOLIS              14410                 1.7      0.692\n",
              "256  DONA EUZEBIA               6619                 1.3      0.701"
            ]
          },
          "metadata": {
            "tags": []
          },
          "execution_count": 34
        }
      ]
    },
    {
      "cell_type": "markdown",
      "metadata": {
        "id": "qNBVuB-rDZK7"
      },
      "source": [
        "Nota-se que surgiram valores ausentes nas colunas que vieram do dataframe do IBGE, isso porque o nome no dataframe dos municípios de *Brazópolis* e *Dona Euzébia* estão escritos incorretamente quando comparados aos dados do IBGE.\n",
        "\n",
        "As colunas adicionadas serão removidas, os nomes corrigidos e a união executada novamente."
      ]
    },
    {
      "cell_type": "code",
      "metadata": {
        "colab": {
          "base_uri": "https://localhost:8080/"
        },
        "id": "S8_Cfx-mDXUs",
        "outputId": "29097cdd-fe23-4010-eff5-9534ea24904a"
      },
      "source": [
        "cases_evolution_mg.drop(columns=['POP_ESTIMADA_2020','SALARIO_MEDIO_2018','IDHM_2010'], axis=1, inplace=True)\n",
        "cases_evolution_mg.loc[cases_evolution_mg['MUNICIPIO'].str.contains('DONA EU'), 'MUNICIPIO'] = 'DONA EUZEBIA'\n",
        "cases_evolution_mg.loc[cases_evolution_mg['MUNICIPIO'].str.contains('^BRA.*OPOLIS$'), 'MUNICIPIO'] = 'BRAZOPOLIS'\n",
        "cases_evolution_mg = cases_evolution_mg.merge(ibge_cities_mg, on=['MUNICIPIO'], how='left')\n",
        "\n",
        "cases_evolution_mg.info()"
      ],
      "execution_count": 35,
      "outputs": [
        {
          "output_type": "stream",
          "text": [
            "<class 'pandas.core.frame.DataFrame'>\n",
            "Int64Index: 489888 entries, 0 to 489887\n",
            "Data columns (total 21 columns):\n",
            " #   Column                Non-Null Count   Dtype         \n",
            "---  ------                --------------   -----         \n",
            " 0   URS                   489888 non-null  string        \n",
            " 1   MICRO                 489888 non-null  string        \n",
            " 2   MACRO                 489888 non-null  string        \n",
            " 3   DATA_NOTIFICACAO      489888 non-null  datetime64[ns]\n",
            " 4   SEXO                  489888 non-null  string        \n",
            " 5   FAIXA_ETARIA          489888 non-null  string        \n",
            " 6   MUNICIPIO             489888 non-null  object        \n",
            " 7   CODIGO_MUNICIPIO      489888 non-null  Int64         \n",
            " 8   EVOLUCAO              489888 non-null  string        \n",
            " 9   INTERNACAO            489888 non-null  string        \n",
            " 10  UTI                   489888 non-null  string        \n",
            " 11  RACA                  489888 non-null  string        \n",
            " 12  COMORBIDADE           489888 non-null  string        \n",
            " 13  ORIGEM_DA_INFORMACAO  489888 non-null  string        \n",
            " 14  CASOS_DIA_URS         489888 non-null  int64         \n",
            " 15  CASOS_DIA_MACRO       489888 non-null  int64         \n",
            " 16  CASOS_DIA_MICRO       489888 non-null  int64         \n",
            " 17  CASOS_DIA_MUNICIPIO   489888 non-null  int64         \n",
            " 18  POP_ESTIMADA_2020     489888 non-null  int64         \n",
            " 19  SALARIO_MEDIO_2018    489888 non-null  float64       \n",
            " 20  IDHM_2010             489888 non-null  float64       \n",
            "dtypes: Int64(1), datetime64[ns](1), float64(2), int64(5), object(1), string(11)\n",
            "memory usage: 82.7+ MB\n"
          ],
          "name": "stdout"
        }
      ]
    },
    {
      "cell_type": "code",
      "metadata": {
        "colab": {
          "base_uri": "https://localhost:8080/",
          "height": 309
        },
        "id": "TfJLYJAnF3AD",
        "outputId": "8e555244-6a2f-4e32-d28d-a762f90c7a02"
      },
      "source": [
        "cases_evolution_mg.head()"
      ],
      "execution_count": 36,
      "outputs": [
        {
          "output_type": "execute_result",
          "data": {
            "text/html": [
              "<div>\n",
              "<style scoped>\n",
              "    .dataframe tbody tr th:only-of-type {\n",
              "        vertical-align: middle;\n",
              "    }\n",
              "\n",
              "    .dataframe tbody tr th {\n",
              "        vertical-align: top;\n",
              "    }\n",
              "\n",
              "    .dataframe thead th {\n",
              "        text-align: right;\n",
              "    }\n",
              "</style>\n",
              "<table border=\"1\" class=\"dataframe\">\n",
              "  <thead>\n",
              "    <tr style=\"text-align: right;\">\n",
              "      <th></th>\n",
              "      <th>URS</th>\n",
              "      <th>MICRO</th>\n",
              "      <th>MACRO</th>\n",
              "      <th>DATA_NOTIFICACAO</th>\n",
              "      <th>SEXO</th>\n",
              "      <th>FAIXA_ETARIA</th>\n",
              "      <th>MUNICIPIO</th>\n",
              "      <th>CODIGO_MUNICIPIO</th>\n",
              "      <th>EVOLUCAO</th>\n",
              "      <th>INTERNACAO</th>\n",
              "      <th>UTI</th>\n",
              "      <th>RACA</th>\n",
              "      <th>COMORBIDADE</th>\n",
              "      <th>ORIGEM_DA_INFORMACAO</th>\n",
              "      <th>CASOS_DIA_URS</th>\n",
              "      <th>CASOS_DIA_MACRO</th>\n",
              "      <th>CASOS_DIA_MICRO</th>\n",
              "      <th>CASOS_DIA_MUNICIPIO</th>\n",
              "      <th>POP_ESTIMADA_2020</th>\n",
              "      <th>SALARIO_MEDIO_2018</th>\n",
              "      <th>IDHM_2010</th>\n",
              "    </tr>\n",
              "  </thead>\n",
              "  <tbody>\n",
              "    <tr>\n",
              "      <th>0</th>\n",
              "      <td>BELO HORIZONTE</td>\n",
              "      <td>OURO PRETO</td>\n",
              "      <td>CENTRO</td>\n",
              "      <td>2020-03-06</td>\n",
              "      <td>MASCULINO</td>\n",
              "      <td>20 A 29 ANOS</td>\n",
              "      <td>MARIANA</td>\n",
              "      <td>314000</td>\n",
              "      <td>RECUPERADO</td>\n",
              "      <td>NAO</td>\n",
              "      <td>NAO</td>\n",
              "      <td>NAO INFORMADO</td>\n",
              "      <td>NAO INFORMADO</td>\n",
              "      <td>ESUS</td>\n",
              "      <td>375</td>\n",
              "      <td>451</td>\n",
              "      <td>62</td>\n",
              "      <td>33</td>\n",
              "      <td>61288</td>\n",
              "      <td>2.5</td>\n",
              "      <td>0.742</td>\n",
              "    </tr>\n",
              "    <tr>\n",
              "      <th>1</th>\n",
              "      <td>BELO HORIZONTE</td>\n",
              "      <td>BETIM</td>\n",
              "      <td>CENTRO</td>\n",
              "      <td>2020-03-06</td>\n",
              "      <td>FEMININO</td>\n",
              "      <td>30 A 39 ANOS</td>\n",
              "      <td>BETIM</td>\n",
              "      <td>310670</td>\n",
              "      <td>RECUPERADO</td>\n",
              "      <td>NAO INFORMADO</td>\n",
              "      <td>NAO INFORMADO</td>\n",
              "      <td>PARDA</td>\n",
              "      <td>NAO INFORMADO</td>\n",
              "      <td>ESUS</td>\n",
              "      <td>375</td>\n",
              "      <td>451</td>\n",
              "      <td>66</td>\n",
              "      <td>41</td>\n",
              "      <td>444784</td>\n",
              "      <td>3.4</td>\n",
              "      <td>0.749</td>\n",
              "    </tr>\n",
              "    <tr>\n",
              "      <th>2</th>\n",
              "      <td>BELO HORIZONTE</td>\n",
              "      <td>BETIM</td>\n",
              "      <td>CENTRO</td>\n",
              "      <td>2020-03-06</td>\n",
              "      <td>MASCULINO</td>\n",
              "      <td>30 A 39 ANOS</td>\n",
              "      <td>BETIM</td>\n",
              "      <td>310670</td>\n",
              "      <td>RECUPERADO</td>\n",
              "      <td>NAO INFORMADO</td>\n",
              "      <td>NAO INFORMADO</td>\n",
              "      <td>BRANCA</td>\n",
              "      <td>NAO INFORMADO</td>\n",
              "      <td>ESUS</td>\n",
              "      <td>375</td>\n",
              "      <td>451</td>\n",
              "      <td>66</td>\n",
              "      <td>41</td>\n",
              "      <td>444784</td>\n",
              "      <td>3.4</td>\n",
              "      <td>0.749</td>\n",
              "    </tr>\n",
              "    <tr>\n",
              "      <th>3</th>\n",
              "      <td>BELO HORIZONTE</td>\n",
              "      <td>BETIM</td>\n",
              "      <td>CENTRO</td>\n",
              "      <td>2020-03-06</td>\n",
              "      <td>MASCULINO</td>\n",
              "      <td>50 A 59 ANOS</td>\n",
              "      <td>BETIM</td>\n",
              "      <td>310670</td>\n",
              "      <td>RECUPERADO</td>\n",
              "      <td>NAO INFORMADO</td>\n",
              "      <td>NAO INFORMADO</td>\n",
              "      <td>PARDA</td>\n",
              "      <td>NAO INFORMADO</td>\n",
              "      <td>ESUS</td>\n",
              "      <td>375</td>\n",
              "      <td>451</td>\n",
              "      <td>66</td>\n",
              "      <td>41</td>\n",
              "      <td>444784</td>\n",
              "      <td>3.4</td>\n",
              "      <td>0.749</td>\n",
              "    </tr>\n",
              "    <tr>\n",
              "      <th>4</th>\n",
              "      <td>BELO HORIZONTE</td>\n",
              "      <td>BETIM</td>\n",
              "      <td>CENTRO</td>\n",
              "      <td>2020-03-06</td>\n",
              "      <td>MASCULINO</td>\n",
              "      <td>1 A 9 ANOS</td>\n",
              "      <td>BETIM</td>\n",
              "      <td>310670</td>\n",
              "      <td>RECUPERADO</td>\n",
              "      <td>NAO INFORMADO</td>\n",
              "      <td>NAO INFORMADO</td>\n",
              "      <td>NAO INFORMADO</td>\n",
              "      <td>NAO INFORMADO</td>\n",
              "      <td>ESUS</td>\n",
              "      <td>375</td>\n",
              "      <td>451</td>\n",
              "      <td>66</td>\n",
              "      <td>41</td>\n",
              "      <td>444784</td>\n",
              "      <td>3.4</td>\n",
              "      <td>0.749</td>\n",
              "    </tr>\n",
              "  </tbody>\n",
              "</table>\n",
              "</div>"
            ],
            "text/plain": [
              "              URS       MICRO  ... SALARIO_MEDIO_2018 IDHM_2010\n",
              "0  BELO HORIZONTE  OURO PRETO  ...                2.5     0.742\n",
              "1  BELO HORIZONTE       BETIM  ...                3.4     0.749\n",
              "2  BELO HORIZONTE       BETIM  ...                3.4     0.749\n",
              "3  BELO HORIZONTE       BETIM  ...                3.4     0.749\n",
              "4  BELO HORIZONTE       BETIM  ...                3.4     0.749\n",
              "\n",
              "[5 rows x 21 columns]"
            ]
          },
          "metadata": {
            "tags": []
          },
          "execution_count": 36
        }
      ]
    },
    {
      "cell_type": "markdown",
      "metadata": {
        "id": "1ZVrwEMOyS-Y"
      },
      "source": [
        "## Análise dos dados"
      ]
    },
    {
      "cell_type": "code",
      "metadata": {
        "id": "wb0g6ixnUy0s"
      },
      "source": [
        "# Facilita a plotagem de gráficos mais comuns\n",
        "def sns_plot(x, y, data, palette='crest', title='', xlabel='', ylabel='', xtickrot=45, kind='line', hue=None, figsize=(12,8)):\n",
        "  plt.rc(\"figure\", figsize=figsize) # tamanho padrão de plotagem\n",
        "\n",
        "  if kind == 'line':\n",
        "    g = sns.lineplot(x=x, y=y, palette=palette, hue=hue, data=data)\n",
        "  elif kind == 'bar':\n",
        "    g = sns.barplot(x=x, y=y, palette=palette, hue=hue, data=data)\n",
        "  elif kind == 'hist':\n",
        "    g = sns.histplot(x=x, y=y, palette=palette, hue=hue, data=data)\n",
        "  elif kind == 'box':\n",
        "    g = sns.boxplot(x=x, y=y, palette=palette, hue=hue, data=data)\n",
        "  else:\n",
        "    raise ValueError('Invalid kind. Suported: line, bar, hist, box')\n",
        "  \n",
        "  g.set_xlabel(xlabel)\n",
        "  g.set_ylabel(ylabel)\n",
        "  g.set_title(title, {'fontsize': 14,'fontweight' : 'bold'})\n",
        "\n",
        "  if xtickrot > 0:\n",
        "    g.set_xticklabels(g.get_xticklabels(), rotation=xtickrot, horizontalalignment='right')\n",
        "  \n",
        "  plt.plot()"
      ],
      "execution_count": 37,
      "outputs": []
    },
    {
      "cell_type": "markdown",
      "metadata": {
        "id": "5IwSU67tocTU"
      },
      "source": [
        "### Hipótese"
      ]
    },
    {
      "cell_type": "markdown",
      "metadata": {
        "id": "1BuoCo5V_E-Z"
      },
      "source": [
        "Definindo a hipótese nula (H<sub>0</sub>) e a alternativa (H<sub>1</sub>)\n",
        "\n",
        "H<sub>0</sub>: evoluir para óbito <= 6,4%\n",
        "\n",
        "H<sub>1</sub>: evoluir para óbito > 6,4%\n",
        "\n",
        "α = 5% (nível de significância)\n",
        "\n",
        "p-valor = ? (valores muito pequenos evidenciam que a  H<sub>0</sub> provavelmente é falsa, pode-se considerar p-valor pequeno quando o mesmo é menor ou igual a α)\n",
        "\n",
        "Rejeitar H<sub>0</sub> implica em aceitar H<sub>1</sub>"
      ]
    },
    {
      "cell_type": "code",
      "metadata": {
        "colab": {
          "base_uri": "https://localhost:8080/"
        },
        "id": "SGqPHCcTLCzo",
        "outputId": "20739176-24db-4f3d-e84b-d309471e7312"
      },
      "source": [
        "from statsmodels.stats.proportion import proportions_ztest\n",
        "deaths = cases_evolution_mg.query(\"EVOLUCAO == 'OBITO'\")['EVOLUCAO'].count()\n",
        "total = cases_evolution_mg['EVOLUCAO'].count()\n",
        "stat, p = proportions_ztest(deaths, total, value=0.064, alternative='larger') # alternatives: [‘two-sided’, ‘smaller’, ‘larger’]\n",
        "print('Estatística de teste: {}'.format(stat.round(2)))\n",
        "print('p-valor: {}'.format(p.round(2)))"
      ],
      "execution_count": 38,
      "outputs": [
        {
          "output_type": "stream",
          "text": [
            "Estatística de teste: -0.66\n",
            "p-valor: 0.75\n"
          ],
          "name": "stdout"
        },
        {
          "output_type": "stream",
          "text": [
            "/usr/local/lib/python3.7/dist-packages/statsmodels/tools/_testing.py:19: FutureWarning: pandas.util.testing is deprecated. Use the functions in the public API at pandas.testing instead.\n",
            "  import pandas.util.testing as tm\n"
          ],
          "name": "stderr"
        }
      ]
    },
    {
      "cell_type": "code",
      "metadata": {
        "colab": {
          "base_uri": "https://localhost:8080/"
        },
        "id": "4E4p_v5JL4zO",
        "outputId": "c58fbfc5-8755-4b87-b489-d38bc6152598"
      },
      "source": [
        "# Proporção de mortes x recuperados\n",
        "deaths/total"
      ],
      "execution_count": 39,
      "outputs": [
        {
          "output_type": "execute_result",
          "data": {
            "text/plain": [
              "0.06376967796720884"
            ]
          },
          "metadata": {
            "tags": []
          },
          "execution_count": 39
        }
      ]
    },
    {
      "cell_type": "markdown",
      "metadata": {
        "id": "900XSRpdb_mb"
      },
      "source": [
        "P-valor é maior que o nível de significância definido, portanto H<sub>0</sub> será aceita."
      ]
    },
    {
      "cell_type": "markdown",
      "metadata": {
        "id": "cdNk88zWlj4u"
      },
      "source": [
        "Avaliação de óbitos comparados à internações."
      ]
    },
    {
      "cell_type": "code",
      "metadata": {
        "colab": {
          "base_uri": "https://localhost:8080/",
          "height": 142
        },
        "id": "NBHwqc9Gv82U",
        "outputId": "8616fbb7-87a1-4221-b0e3-bb8f1e287b08"
      },
      "source": [
        "death_count = cases_evolution_mg.query(\"EVOLUCAO == 'OBITO'\").groupby(['INTERNACAO','SEXO']).count()['EVOLUCAO'].reset_index()\n",
        "death_count"
      ],
      "execution_count": 40,
      "outputs": [
        {
          "output_type": "execute_result",
          "data": {
            "text/html": [
              "<div>\n",
              "<style scoped>\n",
              "    .dataframe tbody tr th:only-of-type {\n",
              "        vertical-align: middle;\n",
              "    }\n",
              "\n",
              "    .dataframe tbody tr th {\n",
              "        vertical-align: top;\n",
              "    }\n",
              "\n",
              "    .dataframe thead th {\n",
              "        text-align: right;\n",
              "    }\n",
              "</style>\n",
              "<table border=\"1\" class=\"dataframe\">\n",
              "  <thead>\n",
              "    <tr style=\"text-align: right;\">\n",
              "      <th></th>\n",
              "      <th>INTERNACAO</th>\n",
              "      <th>SEXO</th>\n",
              "      <th>EVOLUCAO</th>\n",
              "    </tr>\n",
              "  </thead>\n",
              "  <tbody>\n",
              "    <tr>\n",
              "      <th>0</th>\n",
              "      <td>SIM</td>\n",
              "      <td>FEMININO</td>\n",
              "      <td>14134</td>\n",
              "    </tr>\n",
              "    <tr>\n",
              "      <th>1</th>\n",
              "      <td>SIM</td>\n",
              "      <td>MASCULINO</td>\n",
              "      <td>17095</td>\n",
              "    </tr>\n",
              "    <tr>\n",
              "      <th>2</th>\n",
              "      <td>SIM</td>\n",
              "      <td>NAO INFORMADO</td>\n",
              "      <td>11</td>\n",
              "    </tr>\n",
              "  </tbody>\n",
              "</table>\n",
              "</div>"
            ],
            "text/plain": [
              "  INTERNACAO           SEXO  EVOLUCAO\n",
              "0        SIM       FEMININO     14134\n",
              "1        SIM      MASCULINO     17095\n",
              "2        SIM  NAO INFORMADO        11"
            ]
          },
          "metadata": {
            "tags": []
          },
          "execution_count": 40
        }
      ]
    },
    {
      "cell_type": "code",
      "metadata": {
        "colab": {
          "base_uri": "https://localhost:8080/",
          "height": 522
        },
        "id": "TSbD5GNXmDSQ",
        "outputId": "c1cd71ba-d3e4-43b2-fda8-b8a76f6b8c14"
      },
      "source": [
        "sns_plot(data=death_count, x='INTERNACAO', y='EVOLUCAO', hue='SEXO', kind='bar', palette='Reds_r', title='Óbitos x Internações', xlabel='Óbito', ylabel='Casos', xtickrot=0)"
      ],
      "execution_count": 41,
      "outputs": [
        {
          "output_type": "display_data",
          "data": {
            "image/png": "[encoded data removed]",
            "text/plain": [
              "<Figure size 864x576 with 1 Axes>"
            ]
          },
          "metadata": {
            "tags": [],
            "needs_background": "light"
          }
        }
      ]
    },
    {
      "cell_type": "markdown",
      "metadata": {
        "id": "P46y-ev2w4ND"
      },
      "source": [
        "Curiosamente, todas as pessoas que evoluíram para óbito no dataset foram internadas, isso é um fator negativo para uso em modelo de ML posterior pois é tendencioso, ou seja, pode induzir o modelo a classificar internados como pessoas que evoluirão para óbito, removendo a capacidade de generalização.\n",
        "\n",
        "Se todos que evoluíram para óbito foram internados, será que algo semelhante acontece para os que se recuperaram?\n",
        "\n",
        "Serão verificados os recuperados comparados às internações."
      ]
    },
    {
      "cell_type": "code",
      "metadata": {
        "colab": {
          "base_uri": "https://localhost:8080/",
          "height": 297
        },
        "id": "HqOvRWAExh8W",
        "outputId": "a57af947-3d28-4dad-abcf-df633badcadb"
      },
      "source": [
        "recovered_count = cases_evolution_mg.query(\"EVOLUCAO == 'RECUPERADO'\").groupby(['INTERNACAO','SEXO']).count()['EVOLUCAO'].reset_index()\n",
        "recovered_count"
      ],
      "execution_count": 42,
      "outputs": [
        {
          "output_type": "execute_result",
          "data": {
            "text/html": [
              "<div>\n",
              "<style scoped>\n",
              "    .dataframe tbody tr th:only-of-type {\n",
              "        vertical-align: middle;\n",
              "    }\n",
              "\n",
              "    .dataframe tbody tr th {\n",
              "        vertical-align: top;\n",
              "    }\n",
              "\n",
              "    .dataframe thead th {\n",
              "        text-align: right;\n",
              "    }\n",
              "</style>\n",
              "<table border=\"1\" class=\"dataframe\">\n",
              "  <thead>\n",
              "    <tr style=\"text-align: right;\">\n",
              "      <th></th>\n",
              "      <th>INTERNACAO</th>\n",
              "      <th>SEXO</th>\n",
              "      <th>EVOLUCAO</th>\n",
              "    </tr>\n",
              "  </thead>\n",
              "  <tbody>\n",
              "    <tr>\n",
              "      <th>0</th>\n",
              "      <td>NAO</td>\n",
              "      <td>FEMININO</td>\n",
              "      <td>210903</td>\n",
              "    </tr>\n",
              "    <tr>\n",
              "      <th>1</th>\n",
              "      <td>NAO</td>\n",
              "      <td>MASCULINO</td>\n",
              "      <td>186383</td>\n",
              "    </tr>\n",
              "    <tr>\n",
              "      <th>2</th>\n",
              "      <td>NAO</td>\n",
              "      <td>NAO INFORMADO</td>\n",
              "      <td>514</td>\n",
              "    </tr>\n",
              "    <tr>\n",
              "      <th>3</th>\n",
              "      <td>NAO INFORMADO</td>\n",
              "      <td>FEMININO</td>\n",
              "      <td>3844</td>\n",
              "    </tr>\n",
              "    <tr>\n",
              "      <th>4</th>\n",
              "      <td>NAO INFORMADO</td>\n",
              "      <td>MASCULINO</td>\n",
              "      <td>3822</td>\n",
              "    </tr>\n",
              "    <tr>\n",
              "      <th>5</th>\n",
              "      <td>SIM</td>\n",
              "      <td>FEMININO</td>\n",
              "      <td>24672</td>\n",
              "    </tr>\n",
              "    <tr>\n",
              "      <th>6</th>\n",
              "      <td>SIM</td>\n",
              "      <td>MASCULINO</td>\n",
              "      <td>28473</td>\n",
              "    </tr>\n",
              "    <tr>\n",
              "      <th>7</th>\n",
              "      <td>SIM</td>\n",
              "      <td>NAO INFORMADO</td>\n",
              "      <td>37</td>\n",
              "    </tr>\n",
              "  </tbody>\n",
              "</table>\n",
              "</div>"
            ],
            "text/plain": [
              "      INTERNACAO           SEXO  EVOLUCAO\n",
              "0            NAO       FEMININO    210903\n",
              "1            NAO      MASCULINO    186383\n",
              "2            NAO  NAO INFORMADO       514\n",
              "3  NAO INFORMADO       FEMININO      3844\n",
              "4  NAO INFORMADO      MASCULINO      3822\n",
              "5            SIM       FEMININO     24672\n",
              "6            SIM      MASCULINO     28473\n",
              "7            SIM  NAO INFORMADO        37"
            ]
          },
          "metadata": {
            "tags": []
          },
          "execution_count": 42
        }
      ]
    },
    {
      "cell_type": "code",
      "metadata": {
        "colab": {
          "base_uri": "https://localhost:8080/",
          "height": 519
        },
        "id": "bJRrwdk0yOa0",
        "outputId": "e641e421-4c50-4206-e093-b63c78c5d9e8"
      },
      "source": [
        "sns_plot(data=recovered_count, x='INTERNACAO', y='EVOLUCAO', hue='SEXO', kind='bar', palette='Reds_r', title='Recuperados x Internações', xlabel='Internação', ylabel='Casos', xtickrot=0)"
      ],
      "execution_count": 43,
      "outputs": [
        {
          "output_type": "display_data",
          "data": {
            "image/png": "[encoded data removed]",
            "text/plain": [
              "<Figure size 864x576 with 1 Axes>"
            ]
          },
          "metadata": {
            "tags": [],
            "needs_background": "light"
          }
        }
      ]
    },
    {
      "cell_type": "markdown",
      "metadata": {
        "id": "Rbz6FzL6yuit"
      },
      "source": [
        "Neste caso a situação se inverte, a maior parte dos recuperados nao precisou de internação.\n",
        "\n",
        "Em ambas análises a quantidade de pessoas cujo sexo não foi informado é extremamente pequena, não gerando na plotagem a coluna."
      ]
    },
    {
      "cell_type": "code",
      "metadata": {
        "colab": {
          "base_uri": "https://localhost:8080/",
          "height": 204
        },
        "id": "Pr4hsiP8P8iz",
        "outputId": "1868f2ac-0373-4e76-d11e-8eeb422d1fb3"
      },
      "source": [
        "age_range_evolution = cases_evolution_mg.groupby(['FAIXA_ETARIA','EVOLUCAO']).count()['INTERNACAO'].reset_index().sort_values(['FAIXA_ETARIA','EVOLUCAO'], ascending=[True, False]).rename({'INTERNACAO':'CASOS'}, axis=1)\n",
        "age_range_evolution.head()"
      ],
      "execution_count": 44,
      "outputs": [
        {
          "output_type": "execute_result",
          "data": {
            "text/html": [
              "<div>\n",
              "<style scoped>\n",
              "    .dataframe tbody tr th:only-of-type {\n",
              "        vertical-align: middle;\n",
              "    }\n",
              "\n",
              "    .dataframe tbody tr th {\n",
              "        vertical-align: top;\n",
              "    }\n",
              "\n",
              "    .dataframe thead th {\n",
              "        text-align: right;\n",
              "    }\n",
              "</style>\n",
              "<table border=\"1\" class=\"dataframe\">\n",
              "  <thead>\n",
              "    <tr style=\"text-align: right;\">\n",
              "      <th></th>\n",
              "      <th>FAIXA_ETARIA</th>\n",
              "      <th>EVOLUCAO</th>\n",
              "      <th>CASOS</th>\n",
              "    </tr>\n",
              "  </thead>\n",
              "  <tbody>\n",
              "    <tr>\n",
              "      <th>1</th>\n",
              "      <td>0 A 11 MESES</td>\n",
              "      <td>RECUPERADO</td>\n",
              "      <td>2970</td>\n",
              "    </tr>\n",
              "    <tr>\n",
              "      <th>0</th>\n",
              "      <td>0 A 11 MESES</td>\n",
              "      <td>OBITO</td>\n",
              "      <td>26</td>\n",
              "    </tr>\n",
              "    <tr>\n",
              "      <th>3</th>\n",
              "      <td>1 A 9 ANOS</td>\n",
              "      <td>RECUPERADO</td>\n",
              "      <td>10940</td>\n",
              "    </tr>\n",
              "    <tr>\n",
              "      <th>2</th>\n",
              "      <td>1 A 9 ANOS</td>\n",
              "      <td>OBITO</td>\n",
              "      <td>21</td>\n",
              "    </tr>\n",
              "    <tr>\n",
              "      <th>5</th>\n",
              "      <td>10 A 19 ANOS</td>\n",
              "      <td>RECUPERADO</td>\n",
              "      <td>25485</td>\n",
              "    </tr>\n",
              "  </tbody>\n",
              "</table>\n",
              "</div>"
            ],
            "text/plain": [
              "   FAIXA_ETARIA    EVOLUCAO  CASOS\n",
              "1  0 A 11 MESES  RECUPERADO   2970\n",
              "0  0 A 11 MESES       OBITO     26\n",
              "3    1 A 9 ANOS  RECUPERADO  10940\n",
              "2    1 A 9 ANOS       OBITO     21\n",
              "5  10 A 19 ANOS  RECUPERADO  25485"
            ]
          },
          "metadata": {
            "tags": []
          },
          "execution_count": 44
        }
      ]
    },
    {
      "cell_type": "code",
      "metadata": {
        "colab": {
          "base_uri": "https://localhost:8080/",
          "height": 572
        },
        "id": "QrVxAt-C7MJK",
        "outputId": "505c6a29-0e6c-46d5-d3ea-f150a9137487"
      },
      "source": [
        "sns_plot(data=age_range_evolution, x='FAIXA_ETARIA', y='CASOS', hue='EVOLUCAO', kind='bar', palette='Reds', title='Evolução x Faixa Etária', xlabel='Faixa Etária', ylabel='Casos')"
      ],
      "execution_count": 45,
      "outputs": [
        {
          "output_type": "display_data",
          "data": {
            "image/png": "[encoded data removed]",
            "text/plain": [
              "<Figure size 864x576 with 1 Axes>"
            ]
          },
          "metadata": {
            "tags": [],
            "needs_background": "light"
          }
        }
      ]
    },
    {
      "cell_type": "code",
      "metadata": {
        "colab": {
          "base_uri": "https://localhost:8080/",
          "height": 204
        },
        "id": "EOzDwzuaQGeo",
        "outputId": "ef2b95cc-d87b-444f-a869-d5470c81b9e8"
      },
      "source": [
        "cases_by_race = cases_evolution_mg.groupby(['RACA']).count()['EVOLUCAO'].reset_index().sort_values(['EVOLUCAO'], ascending=False).rename({'EVOLUCAO':'CASOS'}, axis=1)\n",
        "cases_by_race.head()"
      ],
      "execution_count": 46,
      "outputs": [
        {
          "output_type": "execute_result",
          "data": {
            "text/html": [
              "<div>\n",
              "<style scoped>\n",
              "    .dataframe tbody tr th:only-of-type {\n",
              "        vertical-align: middle;\n",
              "    }\n",
              "\n",
              "    .dataframe tbody tr th {\n",
              "        vertical-align: top;\n",
              "    }\n",
              "\n",
              "    .dataframe thead th {\n",
              "        text-align: right;\n",
              "    }\n",
              "</style>\n",
              "<table border=\"1\" class=\"dataframe\">\n",
              "  <thead>\n",
              "    <tr style=\"text-align: right;\">\n",
              "      <th></th>\n",
              "      <th>RACA</th>\n",
              "      <th>CASOS</th>\n",
              "    </tr>\n",
              "  </thead>\n",
              "  <tbody>\n",
              "    <tr>\n",
              "      <th>1</th>\n",
              "      <td>BRANCA</td>\n",
              "      <td>182036</td>\n",
              "    </tr>\n",
              "    <tr>\n",
              "      <th>4</th>\n",
              "      <td>PARDA</td>\n",
              "      <td>175280</td>\n",
              "    </tr>\n",
              "    <tr>\n",
              "      <th>3</th>\n",
              "      <td>NAO INFORMADO</td>\n",
              "      <td>84796</td>\n",
              "    </tr>\n",
              "    <tr>\n",
              "      <th>5</th>\n",
              "      <td>PRETA</td>\n",
              "      <td>24950</td>\n",
              "    </tr>\n",
              "    <tr>\n",
              "      <th>0</th>\n",
              "      <td>AMARELA</td>\n",
              "      <td>22379</td>\n",
              "    </tr>\n",
              "  </tbody>\n",
              "</table>\n",
              "</div>"
            ],
            "text/plain": [
              "            RACA   CASOS\n",
              "1         BRANCA  182036\n",
              "4          PARDA  175280\n",
              "3  NAO INFORMADO   84796\n",
              "5          PRETA   24950\n",
              "0        AMARELA   22379"
            ]
          },
          "metadata": {
            "tags": []
          },
          "execution_count": 46
        }
      ]
    },
    {
      "cell_type": "code",
      "metadata": {
        "colab": {
          "base_uri": "https://localhost:8080/",
          "height": 584
        },
        "id": "mmuuzjOOQoT5",
        "outputId": "d2605efb-bdb4-4d8a-86eb-fe25007e3fdc"
      },
      "source": [
        "sns_plot(data=cases_by_race, x='RACA', y='CASOS', kind='bar', palette='Reds_r', title='Casos x Raça', xlabel='Raça', ylabel='Casos')"
      ],
      "execution_count": 47,
      "outputs": [
        {
          "output_type": "display_data",
          "data": {
            "image/png": "[encoded data removed]",
            "text/plain": [
              "<Figure size 864x576 with 1 Axes>"
            ]
          },
          "metadata": {
            "tags": [],
            "needs_background": "light"
          }
        }
      ]
    },
    {
      "cell_type": "code",
      "metadata": {
        "colab": {
          "base_uri": "https://localhost:8080/",
          "height": 204
        },
        "id": "FDcpWOqXYW3u",
        "outputId": "277f7104-5719-4aa9-9076-ab86e5b41089"
      },
      "source": [
        "cases_by_macro = cases_evolution_mg.groupby(['MACRO']).count()['EVOLUCAO'].reset_index().sort_values(['EVOLUCAO'], ascending=False).rename({'EVOLUCAO':'CASOS'}, axis=1)\n",
        "cases_by_macro.head()"
      ],
      "execution_count": 48,
      "outputs": [
        {
          "output_type": "execute_result",
          "data": {
            "text/html": [
              "<div>\n",
              "<style scoped>\n",
              "    .dataframe tbody tr th:only-of-type {\n",
              "        vertical-align: middle;\n",
              "    }\n",
              "\n",
              "    .dataframe tbody tr th {\n",
              "        vertical-align: top;\n",
              "    }\n",
              "\n",
              "    .dataframe thead th {\n",
              "        text-align: right;\n",
              "    }\n",
              "</style>\n",
              "<table border=\"1\" class=\"dataframe\">\n",
              "  <thead>\n",
              "    <tr style=\"text-align: right;\">\n",
              "      <th></th>\n",
              "      <th>MACRO</th>\n",
              "      <th>CASOS</th>\n",
              "    </tr>\n",
              "  </thead>\n",
              "  <tbody>\n",
              "    <tr>\n",
              "      <th>0</th>\n",
              "      <td>CENTRO</td>\n",
              "      <td>111847</td>\n",
              "    </tr>\n",
              "    <tr>\n",
              "      <th>10</th>\n",
              "      <td>SUL</td>\n",
              "      <td>78883</td>\n",
              "    </tr>\n",
              "    <tr>\n",
              "      <th>11</th>\n",
              "      <td>TRIANGULO DO NORTE</td>\n",
              "      <td>52067</td>\n",
              "    </tr>\n",
              "    <tr>\n",
              "      <th>8</th>\n",
              "      <td>OESTE</td>\n",
              "      <td>42962</td>\n",
              "    </tr>\n",
              "    <tr>\n",
              "      <th>13</th>\n",
              "      <td>VALE DO ACO</td>\n",
              "      <td>42774</td>\n",
              "    </tr>\n",
              "  </tbody>\n",
              "</table>\n",
              "</div>"
            ],
            "text/plain": [
              "                 MACRO   CASOS\n",
              "0               CENTRO  111847\n",
              "10                 SUL   78883\n",
              "11  TRIANGULO DO NORTE   52067\n",
              "8                OESTE   42962\n",
              "13         VALE DO ACO   42774"
            ]
          },
          "metadata": {
            "tags": []
          },
          "execution_count": 48
        }
      ]
    },
    {
      "cell_type": "code",
      "metadata": {
        "colab": {
          "base_uri": "https://localhost:8080/",
          "height": 605
        },
        "id": "rSEuGMxeYf9x",
        "outputId": "6e04807d-c8ec-4021-91d9-4d02c9b35958"
      },
      "source": [
        "sns_plot(data=cases_by_macro, x='MACRO', y='CASOS', kind='bar', palette='Reds_r', title='Casos x Macro Região', xlabel='Macro Região', ylabel='Casos')"
      ],
      "execution_count": 49,
      "outputs": [
        {
          "output_type": "display_data",
          "data": {
            "image/png": "[encoded data removed]",
            "text/plain": [
              "<Figure size 864x576 with 1 Axes>"
            ]
          },
          "metadata": {
            "tags": [],
            "needs_background": "light"
          }
        }
      ]
    },
    {
      "cell_type": "markdown",
      "metadata": {
        "id": "B0XpLhBsZAo-"
      },
      "source": [
        "### Correlação"
      ]
    },
    {
      "cell_type": "markdown",
      "metadata": {
        "id": "eHrKtXQ6rQ0o"
      },
      "source": [
        "Mapa da correlação de Pearson."
      ]
    },
    {
      "cell_type": "code",
      "metadata": {
        "colab": {
          "base_uri": "https://localhost:8080/",
          "height": 542
        },
        "id": "1UKH7E4YZAA_",
        "outputId": "d8fd50e6-10a6-4433-be54-5ccf688a35cf"
      },
      "source": [
        "# https://seaborn.pydata.org/examples/heat_scatter.html?highlight=corr\n",
        "corr_matrix = cases_evolution_mg.corr().stack().reset_index(name=\"correlation\")\n",
        "g = sns.relplot(\n",
        "    data=corr_matrix,\n",
        "    x=\"level_0\", y=\"level_1\", hue=\"correlation\", size=\"correlation\",\n",
        "    palette=\"vlag\", hue_norm=(-1, 1), edgecolor=\".7\",\n",
        "    height=8, sizes=(50, 500), size_norm=(-.2, .8),\n",
        ")\n",
        "g.set(xlabel=\"\", ylabel=\"\", aspect=\"equal\")\n",
        "g.despine(left=True, bottom=True)\n",
        "#g.ax.margins(.02)\n",
        "for label in g.ax.get_xticklabels():\n",
        "    label.set(rotation=45,horizontalalignment='right')"
      ],
      "execution_count": 50,
      "outputs": [
        {
          "output_type": "display_data",
          "data": {
            "image/png": "[encoded data removed]",
            "text/plain": [
              "<Figure size 649.3x576 with 1 Axes>"
            ]
          },
          "metadata": {
            "tags": [],
            "needs_background": "light"
          }
        }
      ]
    },
    {
      "cell_type": "markdown",
      "metadata": {
        "id": "H08pbcDHyieh"
      },
      "source": [
        "## Machine Learning"
      ]
    },
    {
      "cell_type": "markdown",
      "metadata": {
        "id": "HZB5KsR2xCRn"
      },
      "source": [
        "Nesta seção o objetivo é definir o melhor modelo de ML para prever recuperações e óbitos.\n",
        "\n",
        "Importação de bibliotecas."
      ]
    },
    {
      "cell_type": "code",
      "metadata": {
        "id": "bnjpYTLlCQ8x"
      },
      "source": [
        "from sklearn.model_selection import train_test_split, cross_val_score, GridSearchCV\n",
        "from sklearn.metrics import accuracy_score, confusion_matrix, classification_report\n",
        "from sklearn.preprocessing import OneHotEncoder, LabelEncoder\n",
        "from sklearn.feature_extraction import DictVectorizer\n",
        "\n",
        "# Bibliotecas de modelos\n",
        "from sklearn.naive_bayes import GaussianNB\n",
        "from sklearn.svm import SVC\n",
        "from sklearn.tree import DecisionTreeClassifier, plot_tree\n",
        "from sklearn.ensemble import RandomForestClassifier, GradientBoostingClassifier\n",
        "from sklearn.neighbors import KNeighborsClassifier\n",
        "from xgboost import XGBClassifier\n",
        "#from sklearn.linear_model import LogisticRegression\n",
        "#from sklearn.naive_bayes import GaussianNB"
      ],
      "execution_count": 51,
      "outputs": []
    },
    {
      "cell_type": "markdown",
      "metadata": {
        "id": "I9hoBmJoUmmm"
      },
      "source": [
        "### Pré processsamento para ML"
      ]
    },
    {
      "cell_type": "markdown",
      "metadata": {
        "id": "OmzxcP3nOtRl"
      },
      "source": [
        "Algumas colunas são irrelevantes para os modelos de ML, um exemplo é o aumento da dimensionalidade, ou seja, número de colunas. Portanto algumas remoções serão realizadas."
      ]
    },
    {
      "cell_type": "code",
      "metadata": {
        "colab": {
          "base_uri": "https://localhost:8080/",
          "height": 238
        },
        "id": "LZuHCga4aSky",
        "outputId": "048d6076-7773-496f-aeaa-0f3632c4212e"
      },
      "source": [
        "# Criando um DF para armazenar os códigos de municípios, municípios, URSs, macro e micro regiões para eventual uso futuro\n",
        "cols_to_drop = ['CODIGO_MUNICIPIO','MUNICIPIO','URS','MACRO','MICRO']\n",
        "mg_cities = cases_evolution_mg[cols_to_drop].sort_values('CODIGO_MUNICIPIO').drop_duplicates().reset_index(drop=True)\n",
        "mg_cities.head()"
      ],
      "execution_count": 52,
      "outputs": [
        {
          "output_type": "execute_result",
          "data": {
            "text/html": [
              "<div>\n",
              "<style scoped>\n",
              "    .dataframe tbody tr th:only-of-type {\n",
              "        vertical-align: middle;\n",
              "    }\n",
              "\n",
              "    .dataframe tbody tr th {\n",
              "        vertical-align: top;\n",
              "    }\n",
              "\n",
              "    .dataframe thead th {\n",
              "        text-align: right;\n",
              "    }\n",
              "</style>\n",
              "<table border=\"1\" class=\"dataframe\">\n",
              "  <thead>\n",
              "    <tr style=\"text-align: right;\">\n",
              "      <th></th>\n",
              "      <th>CODIGO_MUNICIPIO</th>\n",
              "      <th>MUNICIPIO</th>\n",
              "      <th>URS</th>\n",
              "      <th>MACRO</th>\n",
              "      <th>MICRO</th>\n",
              "    </tr>\n",
              "  </thead>\n",
              "  <tbody>\n",
              "    <tr>\n",
              "      <th>0</th>\n",
              "      <td>310010</td>\n",
              "      <td>ABADIA DOS DOURADOS</td>\n",
              "      <td>UBERLANDIA</td>\n",
              "      <td>TRIANGULO DO NORTE</td>\n",
              "      <td>PATROCINIO/MONTE CARMELO</td>\n",
              "    </tr>\n",
              "    <tr>\n",
              "      <th>1</th>\n",
              "      <td>310020</td>\n",
              "      <td>ABAETE</td>\n",
              "      <td>SETE LAGOAS</td>\n",
              "      <td>CENTRO</td>\n",
              "      <td>SETE LAGOAS</td>\n",
              "    </tr>\n",
              "    <tr>\n",
              "      <th>2</th>\n",
              "      <td>310030</td>\n",
              "      <td>ABRE CAMPO</td>\n",
              "      <td>MANHUACU</td>\n",
              "      <td>LESTE DO SUL</td>\n",
              "      <td>MANHUACU</td>\n",
              "    </tr>\n",
              "    <tr>\n",
              "      <th>3</th>\n",
              "      <td>310040</td>\n",
              "      <td>ACAIACA</td>\n",
              "      <td>PONTE NOVA</td>\n",
              "      <td>LESTE DO SUL</td>\n",
              "      <td>PONTE NOVA</td>\n",
              "    </tr>\n",
              "    <tr>\n",
              "      <th>4</th>\n",
              "      <td>310050</td>\n",
              "      <td>ACUCENA</td>\n",
              "      <td>CORONEL FABRICIANO</td>\n",
              "      <td>VALE DO ACO</td>\n",
              "      <td>IPATINGA</td>\n",
              "    </tr>\n",
              "  </tbody>\n",
              "</table>\n",
              "</div>"
            ],
            "text/plain": [
              "   CODIGO_MUNICIPIO  ...                     MICRO\n",
              "0            310010  ...  PATROCINIO/MONTE CARMELO\n",
              "1            310020  ...               SETE LAGOAS\n",
              "2            310030  ...                  MANHUACU\n",
              "3            310040  ...                PONTE NOVA\n",
              "4            310050  ...                  IPATINGA\n",
              "\n",
              "[5 rows x 5 columns]"
            ]
          },
          "metadata": {
            "tags": []
          },
          "execution_count": 52
        }
      ]
    },
    {
      "cell_type": "code",
      "metadata": {
        "colab": {
          "base_uri": "https://localhost:8080/"
        },
        "id": "Q4jvpTA_bj6U",
        "outputId": "edc0566c-d63f-426b-dc79-ded9df8ae49f"
      },
      "source": [
        "# Novo dataframe para ML sem algumas colunas\n",
        "ml_cases_evolution_mg = cases_evolution_mg.drop(columns=cols_to_drop)\n",
        "ml_cases_evolution_mg.drop(columns=['DATA_NOTIFICACAO'], inplace=True)\n",
        "ml_cases_evolution_mg.info()"
      ],
      "execution_count": 53,
      "outputs": [
        {
          "output_type": "stream",
          "text": [
            "<class 'pandas.core.frame.DataFrame'>\n",
            "Int64Index: 489888 entries, 0 to 489887\n",
            "Data columns (total 15 columns):\n",
            " #   Column                Non-Null Count   Dtype  \n",
            "---  ------                --------------   -----  \n",
            " 0   SEXO                  489888 non-null  string \n",
            " 1   FAIXA_ETARIA          489888 non-null  string \n",
            " 2   EVOLUCAO              489888 non-null  string \n",
            " 3   INTERNACAO            489888 non-null  string \n",
            " 4   UTI                   489888 non-null  string \n",
            " 5   RACA                  489888 non-null  string \n",
            " 6   COMORBIDADE           489888 non-null  string \n",
            " 7   ORIGEM_DA_INFORMACAO  489888 non-null  string \n",
            " 8   CASOS_DIA_URS         489888 non-null  int64  \n",
            " 9   CASOS_DIA_MACRO       489888 non-null  int64  \n",
            " 10  CASOS_DIA_MICRO       489888 non-null  int64  \n",
            " 11  CASOS_DIA_MUNICIPIO   489888 non-null  int64  \n",
            " 12  POP_ESTIMADA_2020     489888 non-null  int64  \n",
            " 13  SALARIO_MEDIO_2018    489888 non-null  float64\n",
            " 14  IDHM_2010             489888 non-null  float64\n",
            "dtypes: float64(2), int64(5), string(8)\n",
            "memory usage: 59.8 MB\n"
          ],
          "name": "stdout"
        }
      ]
    },
    {
      "cell_type": "markdown",
      "metadata": {
        "id": "y_LTNuYlUruV"
      },
      "source": [
        "Alguns modelos não trabalham com dados categóricos e precisam ser convertidos.\n",
        "\n",
        "Label encoder: transforma classes de dados categóricos em números que os representam.\n",
        "\n",
        "One-hot encoder: cada classe de dado categórico é convertida em uma nova coluna e aplica o valor 0 (zero) ou 1 (um).\n",
        "\n",
        "O One-hot encoder, quando aplicado corretamente pode melhorar os modelos, porém gera aumento de dimensionalidade (mais colunas).\n",
        "\n",
        "Dessa forma deve-se avaliar a cardinalidade, ou seja, a quantidade de registros únicos de uma coluna, por exemplo, uma coluna Sexo, que contém apenas M ou F, possui cardinalidade 2. Portanto apenas variáveis categóricas de baixa cardinalidade são candidatas a serem convertidas com o One-hot encoder, as demais usarão o Label encoder."
      ]
    },
    {
      "cell_type": "code",
      "metadata": {
        "colab": {
          "base_uri": "https://localhost:8080/",
          "height": 241
        },
        "id": "IhNeIsLcz8cY",
        "outputId": "337f9a15-79f2-4dfe-a0fd-49f4406a9cf7"
      },
      "source": [
        "# Label encoder x One-hot encoder\n",
        "categ_cols = ml_cases_evolution_mg.select_dtypes(include=['string']).columns\n",
        "\n",
        "# Colunas para one-hot encoder\n",
        "low_cardinality_cols = [col for col in categ_cols if ml_cases_evolution_mg[col].nunique() <= 3]\n",
        "low_cardinality_cols.remove('EVOLUCAO') # Variável resposta será codificada com o label encoder\n",
        "\n",
        "# Colunas para label encoder\n",
        "high_cardinality_cols = list(set(categ_cols)-set(low_cardinality_cols))\n",
        "\n",
        "# Apply one-hot encoder to each column with categorical data\n",
        "oh_encoder = OneHotEncoder(handle_unknown='ignore', sparse=False)\n",
        "oh_df = pd.DataFrame(oh_encoder.fit_transform(ml_cases_evolution_mg[low_cardinality_cols]), columns=oh_encoder.get_feature_names(low_cardinality_cols))\n",
        "oh_df.index = ml_cases_evolution_mg.index\n",
        "oh_df.head()"
      ],
      "execution_count": 54,
      "outputs": [
        {
          "output_type": "execute_result",
          "data": {
            "text/html": [
              "<div>\n",
              "<style scoped>\n",
              "    .dataframe tbody tr th:only-of-type {\n",
              "        vertical-align: middle;\n",
              "    }\n",
              "\n",
              "    .dataframe tbody tr th {\n",
              "        vertical-align: top;\n",
              "    }\n",
              "\n",
              "    .dataframe thead th {\n",
              "        text-align: right;\n",
              "    }\n",
              "</style>\n",
              "<table border=\"1\" class=\"dataframe\">\n",
              "  <thead>\n",
              "    <tr style=\"text-align: right;\">\n",
              "      <th></th>\n",
              "      <th>SEXO_FEMININO</th>\n",
              "      <th>SEXO_MASCULINO</th>\n",
              "      <th>SEXO_NAO INFORMADO</th>\n",
              "      <th>INTERNACAO_NAO</th>\n",
              "      <th>INTERNACAO_NAO INFORMADO</th>\n",
              "      <th>INTERNACAO_SIM</th>\n",
              "      <th>UTI_NAO</th>\n",
              "      <th>UTI_NAO INFORMADO</th>\n",
              "      <th>UTI_SIM</th>\n",
              "      <th>COMORBIDADE_NAO</th>\n",
              "      <th>COMORBIDADE_NAO INFORMADO</th>\n",
              "      <th>COMORBIDADE_SIM</th>\n",
              "    </tr>\n",
              "  </thead>\n",
              "  <tbody>\n",
              "    <tr>\n",
              "      <th>0</th>\n",
              "      <td>0.0</td>\n",
              "      <td>1.0</td>\n",
              "      <td>0.0</td>\n",
              "      <td>1.0</td>\n",
              "      <td>0.0</td>\n",
              "      <td>0.0</td>\n",
              "      <td>1.0</td>\n",
              "      <td>0.0</td>\n",
              "      <td>0.0</td>\n",
              "      <td>0.0</td>\n",
              "      <td>1.0</td>\n",
              "      <td>0.0</td>\n",
              "    </tr>\n",
              "    <tr>\n",
              "      <th>1</th>\n",
              "      <td>1.0</td>\n",
              "      <td>0.0</td>\n",
              "      <td>0.0</td>\n",
              "      <td>0.0</td>\n",
              "      <td>1.0</td>\n",
              "      <td>0.0</td>\n",
              "      <td>0.0</td>\n",
              "      <td>1.0</td>\n",
              "      <td>0.0</td>\n",
              "      <td>0.0</td>\n",
              "      <td>1.0</td>\n",
              "      <td>0.0</td>\n",
              "    </tr>\n",
              "    <tr>\n",
              "      <th>2</th>\n",
              "      <td>0.0</td>\n",
              "      <td>1.0</td>\n",
              "      <td>0.0</td>\n",
              "      <td>0.0</td>\n",
              "      <td>1.0</td>\n",
              "      <td>0.0</td>\n",
              "      <td>0.0</td>\n",
              "      <td>1.0</td>\n",
              "      <td>0.0</td>\n",
              "      <td>0.0</td>\n",
              "      <td>1.0</td>\n",
              "      <td>0.0</td>\n",
              "    </tr>\n",
              "    <tr>\n",
              "      <th>3</th>\n",
              "      <td>0.0</td>\n",
              "      <td>1.0</td>\n",
              "      <td>0.0</td>\n",
              "      <td>0.0</td>\n",
              "      <td>1.0</td>\n",
              "      <td>0.0</td>\n",
              "      <td>0.0</td>\n",
              "      <td>1.0</td>\n",
              "      <td>0.0</td>\n",
              "      <td>0.0</td>\n",
              "      <td>1.0</td>\n",
              "      <td>0.0</td>\n",
              "    </tr>\n",
              "    <tr>\n",
              "      <th>4</th>\n",
              "      <td>0.0</td>\n",
              "      <td>1.0</td>\n",
              "      <td>0.0</td>\n",
              "      <td>0.0</td>\n",
              "      <td>1.0</td>\n",
              "      <td>0.0</td>\n",
              "      <td>0.0</td>\n",
              "      <td>1.0</td>\n",
              "      <td>0.0</td>\n",
              "      <td>0.0</td>\n",
              "      <td>1.0</td>\n",
              "      <td>0.0</td>\n",
              "    </tr>\n",
              "  </tbody>\n",
              "</table>\n",
              "</div>"
            ],
            "text/plain": [
              "   SEXO_FEMININO  SEXO_MASCULINO  ...  COMORBIDADE_NAO INFORMADO  COMORBIDADE_SIM\n",
              "0            0.0             1.0  ...                        1.0              0.0\n",
              "1            1.0             0.0  ...                        1.0              0.0\n",
              "2            0.0             1.0  ...                        1.0              0.0\n",
              "3            0.0             1.0  ...                        1.0              0.0\n",
              "4            0.0             1.0  ...                        1.0              0.0\n",
              "\n",
              "[5 rows x 12 columns]"
            ]
          },
          "metadata": {
            "tags": []
          },
          "execution_count": 54
        }
      ]
    },
    {
      "cell_type": "code",
      "metadata": {
        "colab": {
          "base_uri": "https://localhost:8080/",
          "height": 241
        },
        "id": "bFKZ8udOUHX8",
        "outputId": "f8cae46f-65e0-4b8d-823c-61fa9831b2e3"
      },
      "source": [
        "ml_cases_evolution_mg.drop(columns=low_cardinality_cols, inplace=True)\n",
        "label_encoders = dict()\n",
        "for col in high_cardinality_cols:\n",
        "  le = LabelEncoder()\n",
        "  ml_cases_evolution_mg[col] = le.fit_transform(ml_cases_evolution_mg[col])\n",
        "  label_encoders[col] = le\n",
        "ml_cases_evolution_mg = pd.concat([ml_cases_evolution_mg,oh_df],axis=1)\n",
        "ml_cases_evolution_mg.head()"
      ],
      "execution_count": 55,
      "outputs": [
        {
          "output_type": "execute_result",
          "data": {
            "text/html": [
              "<div>\n",
              "<style scoped>\n",
              "    .dataframe tbody tr th:only-of-type {\n",
              "        vertical-align: middle;\n",
              "    }\n",
              "\n",
              "    .dataframe tbody tr th {\n",
              "        vertical-align: top;\n",
              "    }\n",
              "\n",
              "    .dataframe thead th {\n",
              "        text-align: right;\n",
              "    }\n",
              "</style>\n",
              "<table border=\"1\" class=\"dataframe\">\n",
              "  <thead>\n",
              "    <tr style=\"text-align: right;\">\n",
              "      <th></th>\n",
              "      <th>FAIXA_ETARIA</th>\n",
              "      <th>EVOLUCAO</th>\n",
              "      <th>RACA</th>\n",
              "      <th>ORIGEM_DA_INFORMACAO</th>\n",
              "      <th>CASOS_DIA_URS</th>\n",
              "      <th>CASOS_DIA_MACRO</th>\n",
              "      <th>CASOS_DIA_MICRO</th>\n",
              "      <th>CASOS_DIA_MUNICIPIO</th>\n",
              "      <th>POP_ESTIMADA_2020</th>\n",
              "      <th>SALARIO_MEDIO_2018</th>\n",
              "      <th>IDHM_2010</th>\n",
              "      <th>SEXO_FEMININO</th>\n",
              "      <th>SEXO_MASCULINO</th>\n",
              "      <th>SEXO_NAO INFORMADO</th>\n",
              "      <th>INTERNACAO_NAO</th>\n",
              "      <th>INTERNACAO_NAO INFORMADO</th>\n",
              "      <th>INTERNACAO_SIM</th>\n",
              "      <th>UTI_NAO</th>\n",
              "      <th>UTI_NAO INFORMADO</th>\n",
              "      <th>UTI_SIM</th>\n",
              "      <th>COMORBIDADE_NAO</th>\n",
              "      <th>COMORBIDADE_NAO INFORMADO</th>\n",
              "      <th>COMORBIDADE_SIM</th>\n",
              "    </tr>\n",
              "  </thead>\n",
              "  <tbody>\n",
              "    <tr>\n",
              "      <th>0</th>\n",
              "      <td>3</td>\n",
              "      <td>1</td>\n",
              "      <td>3</td>\n",
              "      <td>1</td>\n",
              "      <td>375</td>\n",
              "      <td>451</td>\n",
              "      <td>62</td>\n",
              "      <td>33</td>\n",
              "      <td>61288</td>\n",
              "      <td>2.5</td>\n",
              "      <td>0.742</td>\n",
              "      <td>0.0</td>\n",
              "      <td>1.0</td>\n",
              "      <td>0.0</td>\n",
              "      <td>1.0</td>\n",
              "      <td>0.0</td>\n",
              "      <td>0.0</td>\n",
              "      <td>1.0</td>\n",
              "      <td>0.0</td>\n",
              "      <td>0.0</td>\n",
              "      <td>0.0</td>\n",
              "      <td>1.0</td>\n",
              "      <td>0.0</td>\n",
              "    </tr>\n",
              "    <tr>\n",
              "      <th>1</th>\n",
              "      <td>4</td>\n",
              "      <td>1</td>\n",
              "      <td>4</td>\n",
              "      <td>1</td>\n",
              "      <td>375</td>\n",
              "      <td>451</td>\n",
              "      <td>66</td>\n",
              "      <td>41</td>\n",
              "      <td>444784</td>\n",
              "      <td>3.4</td>\n",
              "      <td>0.749</td>\n",
              "      <td>1.0</td>\n",
              "      <td>0.0</td>\n",
              "      <td>0.0</td>\n",
              "      <td>0.0</td>\n",
              "      <td>1.0</td>\n",
              "      <td>0.0</td>\n",
              "      <td>0.0</td>\n",
              "      <td>1.0</td>\n",
              "      <td>0.0</td>\n",
              "      <td>0.0</td>\n",
              "      <td>1.0</td>\n",
              "      <td>0.0</td>\n",
              "    </tr>\n",
              "    <tr>\n",
              "      <th>2</th>\n",
              "      <td>4</td>\n",
              "      <td>1</td>\n",
              "      <td>1</td>\n",
              "      <td>1</td>\n",
              "      <td>375</td>\n",
              "      <td>451</td>\n",
              "      <td>66</td>\n",
              "      <td>41</td>\n",
              "      <td>444784</td>\n",
              "      <td>3.4</td>\n",
              "      <td>0.749</td>\n",
              "      <td>0.0</td>\n",
              "      <td>1.0</td>\n",
              "      <td>0.0</td>\n",
              "      <td>0.0</td>\n",
              "      <td>1.0</td>\n",
              "      <td>0.0</td>\n",
              "      <td>0.0</td>\n",
              "      <td>1.0</td>\n",
              "      <td>0.0</td>\n",
              "      <td>0.0</td>\n",
              "      <td>1.0</td>\n",
              "      <td>0.0</td>\n",
              "    </tr>\n",
              "    <tr>\n",
              "      <th>3</th>\n",
              "      <td>6</td>\n",
              "      <td>1</td>\n",
              "      <td>4</td>\n",
              "      <td>1</td>\n",
              "      <td>375</td>\n",
              "      <td>451</td>\n",
              "      <td>66</td>\n",
              "      <td>41</td>\n",
              "      <td>444784</td>\n",
              "      <td>3.4</td>\n",
              "      <td>0.749</td>\n",
              "      <td>0.0</td>\n",
              "      <td>1.0</td>\n",
              "      <td>0.0</td>\n",
              "      <td>0.0</td>\n",
              "      <td>1.0</td>\n",
              "      <td>0.0</td>\n",
              "      <td>0.0</td>\n",
              "      <td>1.0</td>\n",
              "      <td>0.0</td>\n",
              "      <td>0.0</td>\n",
              "      <td>1.0</td>\n",
              "      <td>0.0</td>\n",
              "    </tr>\n",
              "    <tr>\n",
              "      <th>4</th>\n",
              "      <td>1</td>\n",
              "      <td>1</td>\n",
              "      <td>3</td>\n",
              "      <td>1</td>\n",
              "      <td>375</td>\n",
              "      <td>451</td>\n",
              "      <td>66</td>\n",
              "      <td>41</td>\n",
              "      <td>444784</td>\n",
              "      <td>3.4</td>\n",
              "      <td>0.749</td>\n",
              "      <td>0.0</td>\n",
              "      <td>1.0</td>\n",
              "      <td>0.0</td>\n",
              "      <td>0.0</td>\n",
              "      <td>1.0</td>\n",
              "      <td>0.0</td>\n",
              "      <td>0.0</td>\n",
              "      <td>1.0</td>\n",
              "      <td>0.0</td>\n",
              "      <td>0.0</td>\n",
              "      <td>1.0</td>\n",
              "      <td>0.0</td>\n",
              "    </tr>\n",
              "  </tbody>\n",
              "</table>\n",
              "</div>"
            ],
            "text/plain": [
              "   FAIXA_ETARIA  EVOLUCAO  ...  COMORBIDADE_NAO INFORMADO  COMORBIDADE_SIM\n",
              "0             3         1  ...                        1.0              0.0\n",
              "1             4         1  ...                        1.0              0.0\n",
              "2             4         1  ...                        1.0              0.0\n",
              "3             6         1  ...                        1.0              0.0\n",
              "4             1         1  ...                        1.0              0.0\n",
              "\n",
              "[5 rows x 23 columns]"
            ]
          },
          "metadata": {
            "tags": []
          },
          "execution_count": 55
        }
      ]
    },
    {
      "cell_type": "code",
      "metadata": {
        "colab": {
          "base_uri": "https://localhost:8080/"
        },
        "id": "mFePwuKcC2E0",
        "outputId": "a33f9ba1-c8fb-49a0-ebd4-88ecfdca59d5"
      },
      "source": [
        "label_encoders"
      ],
      "execution_count": 56,
      "outputs": [
        {
          "output_type": "execute_result",
          "data": {
            "text/plain": [
              "{'EVOLUCAO': LabelEncoder(),\n",
              " 'FAIXA_ETARIA': LabelEncoder(),\n",
              " 'ORIGEM_DA_INFORMACAO': LabelEncoder(),\n",
              " 'RACA': LabelEncoder()}"
            ]
          },
          "metadata": {
            "tags": []
          },
          "execution_count": 56
        }
      ]
    },
    {
      "cell_type": "code",
      "metadata": {
        "colab": {
          "base_uri": "https://localhost:8080/"
        },
        "id": "2C6lMfobJwCW",
        "outputId": "63ef3315-020b-413c-bdf5-c8c0f22a96d4"
      },
      "source": [
        "# Teste do label encoder\n",
        "label_encoders['FAIXA_ETARIA'].inverse_transform(ml_cases_evolution_mg.FAIXA_ETARIA)"
      ],
      "execution_count": 57,
      "outputs": [
        {
          "output_type": "execute_result",
          "data": {
            "text/plain": [
              "array(['20 A 29 ANOS', '30 A 39 ANOS', '30 A 39 ANOS', ...,\n",
              "       '30 A 39 ANOS', '50 A 59 ANOS', '20 A 29 ANOS'], dtype=object)"
            ]
          },
          "metadata": {
            "tags": []
          },
          "execution_count": 57
        }
      ]
    },
    {
      "cell_type": "code",
      "metadata": {
        "colab": {
          "base_uri": "https://localhost:8080/",
          "height": 665
        },
        "id": "1xJGwBk3_1PU",
        "outputId": "8239f806-14c3-4488-af1b-1ad45e9802ed"
      },
      "source": [
        "# Apenas visualizando o gráfico atual de correlação\n",
        "# https://seaborn.pydata.org/examples/heat_scatter.html?highlight=corr\n",
        "corr_matrix = ml_cases_evolution_mg.corr().stack().reset_index(name=\"correlation\")\n",
        "g = sns.relplot(\n",
        "    data=corr_matrix,\n",
        "    x=\"level_0\", y=\"level_1\", hue=\"correlation\", size=\"correlation\",\n",
        "    palette=\"vlag\", hue_norm=(-1, 1), edgecolor=\".7\",\n",
        "    height=10, sizes=(50, 300), size_norm=(-.2, .8),\n",
        ")\n",
        "g.set(xlabel=\"\", ylabel=\"\", aspect=\"equal\")\n",
        "g.despine(left=True, bottom=True)\n",
        "#g.ax.margins(.02)\n",
        "for label in g.ax.get_xticklabels():\n",
        "    label.set(rotation=45,horizontalalignment='right')"
      ],
      "execution_count": 58,
      "outputs": [
        {
          "output_type": "display_data",
          "data": {
            "image/png": "[encoded data removed]",
            "text/plain": [
              "<Figure size 793.3x720 with 1 Axes>"
            ]
          },
          "metadata": {
            "tags": [],
            "needs_background": "light"
          }
        }
      ]
    },
    {
      "cell_type": "markdown",
      "metadata": {
        "id": "qCdfCDf7u_qC"
      },
      "source": [
        "### Balanceamento"
      ]
    },
    {
      "cell_type": "markdown",
      "metadata": {
        "id": "_SehsB7TvB6r"
      },
      "source": [
        "Um dos grandes problemas de classificadores é o de amostras desbalanceadas, ou seja, uma discrepância muito grande nos itens da variável resposta.\n",
        "\n",
        "Há uma outra situação que, ao deixar em igualdade a quantidade de itens da variável resposta podemos perder capacidade de previsão, portanto é necessário ter esse *tradeoff* em mente.\n",
        "\n",
        "Como visto na seção de análise dos dados, a quantidade de **recuperados** é muito superior à de **óbitos**. Serão removidos eventuais linhas duplicadas do *dataset* e, posteriormente haverá o balanceamento."
      ]
    },
    {
      "cell_type": "code",
      "metadata": {
        "colab": {
          "base_uri": "https://localhost:8080/"
        },
        "id": "JwFcB76EdCgP",
        "outputId": "9ff08569-9bde-4d9f-ddae-0cbed220a36c"
      },
      "source": [
        "print('Formatos do dataframe\\n')\n",
        "print('Original: ' + str(ml_cases_evolution_mg.shape))\n",
        "ml_cases_evolution_mg.drop_duplicates(inplace=True)\n",
        "ml_cases_evolution_mg.reset_index(drop=True, inplace=True)\n",
        "print('Apóes duplicadas removidas: ' + str(ml_cases_evolution_mg.shape))"
      ],
      "execution_count": 59,
      "outputs": [
        {
          "output_type": "stream",
          "text": [
            "Formatos do dataframe\n",
            "\n",
            "Original: (489888, 23)\n",
            "Apóes duplicadas removidas: (375133, 23)\n"
          ],
          "name": "stdout"
        }
      ]
    },
    {
      "cell_type": "code",
      "metadata": {
        "colab": {
          "base_uri": "https://localhost:8080/"
        },
        "id": "6M_zQ8LziRqB",
        "outputId": "91b8f70c-77c3-4e84-979e-af309411d40b"
      },
      "source": [
        "# Contagem de óbitos\n",
        "# Óbito = 0 | Recuperado = 1\n",
        "ml_total_deaths = ml_cases_evolution_mg.EVOLUCAO[ml_cases_evolution_mg.EVOLUCAO == 0].count()\n",
        "ml_total_deaths"
      ],
      "execution_count": 60,
      "outputs": [
        {
          "output_type": "execute_result",
          "data": {
            "text/plain": [
              "30249"
            ]
          },
          "metadata": {
            "tags": []
          },
          "execution_count": 60
        }
      ]
    },
    {
      "cell_type": "code",
      "metadata": {
        "colab": {
          "base_uri": "https://localhost:8080/"
        },
        "id": "R_Yq1vHyh5yh",
        "outputId": "bc6439f1-32b3-4142-e3a9-4fc235264420"
      },
      "source": [
        "# Mantendo dataset não balanceado para eventual comparação\n",
        "nb_ml_cases_evolution_mg = ml_cases_evolution_mg.copy()\n",
        "# Balanceamento aleatório para óbitos e recuperados possuírem as mesmas quantidades\n",
        "ml_cases_evolution_mg = pd.concat([ml_cases_evolution_mg.query('EVOLUCAO == 1').sample(ml_total_deaths),ml_cases_evolution_mg.query('EVOLUCAO == 0')], axis=0)\n",
        "ml_cases_evolution_mg.reset_index(drop=True,inplace=True)\n",
        "print('Balanceamento aleatório - quantidade de itens')\n",
        "print(ml_cases_evolution_mg.EVOLUCAO.value_counts())"
      ],
      "execution_count": 61,
      "outputs": [
        {
          "output_type": "stream",
          "text": [
            "Balanceamento aleatório - quantidade de itens\n",
            "1    30249\n",
            "0    30249\n",
            "Name: EVOLUCAO, dtype: int64\n"
          ],
          "name": "stdout"
        }
      ]
    },
    {
      "cell_type": "code",
      "metadata": {
        "colab": {
          "base_uri": "https://localhost:8080/",
          "height": 241
        },
        "id": "a_kSMsHOg-N3",
        "outputId": "13b6008f-c1b2-4ca9-bef0-da9863a0b206"
      },
      "source": [
        "ml_cases_evolution_mg.head()"
      ],
      "execution_count": 62,
      "outputs": [
        {
          "output_type": "execute_result",
          "data": {
            "text/html": [
              "<div>\n",
              "<style scoped>\n",
              "    .dataframe tbody tr th:only-of-type {\n",
              "        vertical-align: middle;\n",
              "    }\n",
              "\n",
              "    .dataframe tbody tr th {\n",
              "        vertical-align: top;\n",
              "    }\n",
              "\n",
              "    .dataframe thead th {\n",
              "        text-align: right;\n",
              "    }\n",
              "</style>\n",
              "<table border=\"1\" class=\"dataframe\">\n",
              "  <thead>\n",
              "    <tr style=\"text-align: right;\">\n",
              "      <th></th>\n",
              "      <th>FAIXA_ETARIA</th>\n",
              "      <th>EVOLUCAO</th>\n",
              "      <th>RACA</th>\n",
              "      <th>ORIGEM_DA_INFORMACAO</th>\n",
              "      <th>CASOS_DIA_URS</th>\n",
              "      <th>CASOS_DIA_MACRO</th>\n",
              "      <th>CASOS_DIA_MICRO</th>\n",
              "      <th>CASOS_DIA_MUNICIPIO</th>\n",
              "      <th>POP_ESTIMADA_2020</th>\n",
              "      <th>SALARIO_MEDIO_2018</th>\n",
              "      <th>IDHM_2010</th>\n",
              "      <th>SEXO_FEMININO</th>\n",
              "      <th>SEXO_MASCULINO</th>\n",
              "      <th>SEXO_NAO INFORMADO</th>\n",
              "      <th>INTERNACAO_NAO</th>\n",
              "      <th>INTERNACAO_NAO INFORMADO</th>\n",
              "      <th>INTERNACAO_SIM</th>\n",
              "      <th>UTI_NAO</th>\n",
              "      <th>UTI_NAO INFORMADO</th>\n",
              "      <th>UTI_SIM</th>\n",
              "      <th>COMORBIDADE_NAO</th>\n",
              "      <th>COMORBIDADE_NAO INFORMADO</th>\n",
              "      <th>COMORBIDADE_SIM</th>\n",
              "    </tr>\n",
              "  </thead>\n",
              "  <tbody>\n",
              "    <tr>\n",
              "      <th>0</th>\n",
              "      <td>5</td>\n",
              "      <td>1</td>\n",
              "      <td>1</td>\n",
              "      <td>1</td>\n",
              "      <td>55</td>\n",
              "      <td>469</td>\n",
              "      <td>35</td>\n",
              "      <td>22</td>\n",
              "      <td>120904</td>\n",
              "      <td>2.2</td>\n",
              "      <td>0.756</td>\n",
              "      <td>0.0</td>\n",
              "      <td>1.0</td>\n",
              "      <td>0.0</td>\n",
              "      <td>1.0</td>\n",
              "      <td>0.0</td>\n",
              "      <td>0.0</td>\n",
              "      <td>1.0</td>\n",
              "      <td>0.0</td>\n",
              "      <td>0.0</td>\n",
              "      <td>0.0</td>\n",
              "      <td>1.0</td>\n",
              "      <td>0.0</td>\n",
              "    </tr>\n",
              "    <tr>\n",
              "      <th>1</th>\n",
              "      <td>4</td>\n",
              "      <td>1</td>\n",
              "      <td>1</td>\n",
              "      <td>1</td>\n",
              "      <td>77</td>\n",
              "      <td>124</td>\n",
              "      <td>50</td>\n",
              "      <td>8</td>\n",
              "      <td>21801</td>\n",
              "      <td>1.9</td>\n",
              "      <td>0.689</td>\n",
              "      <td>1.0</td>\n",
              "      <td>0.0</td>\n",
              "      <td>0.0</td>\n",
              "      <td>1.0</td>\n",
              "      <td>0.0</td>\n",
              "      <td>0.0</td>\n",
              "      <td>1.0</td>\n",
              "      <td>0.0</td>\n",
              "      <td>0.0</td>\n",
              "      <td>0.0</td>\n",
              "      <td>1.0</td>\n",
              "      <td>0.0</td>\n",
              "    </tr>\n",
              "    <tr>\n",
              "      <th>2</th>\n",
              "      <td>3</td>\n",
              "      <td>1</td>\n",
              "      <td>4</td>\n",
              "      <td>1</td>\n",
              "      <td>61</td>\n",
              "      <td>238</td>\n",
              "      <td>57</td>\n",
              "      <td>23</td>\n",
              "      <td>80494</td>\n",
              "      <td>2.6</td>\n",
              "      <td>0.761</td>\n",
              "      <td>1.0</td>\n",
              "      <td>0.0</td>\n",
              "      <td>0.0</td>\n",
              "      <td>1.0</td>\n",
              "      <td>0.0</td>\n",
              "      <td>0.0</td>\n",
              "      <td>1.0</td>\n",
              "      <td>0.0</td>\n",
              "      <td>0.0</td>\n",
              "      <td>0.0</td>\n",
              "      <td>1.0</td>\n",
              "      <td>0.0</td>\n",
              "    </tr>\n",
              "    <tr>\n",
              "      <th>3</th>\n",
              "      <td>2</td>\n",
              "      <td>1</td>\n",
              "      <td>4</td>\n",
              "      <td>1</td>\n",
              "      <td>39</td>\n",
              "      <td>63</td>\n",
              "      <td>26</td>\n",
              "      <td>4</td>\n",
              "      <td>8301</td>\n",
              "      <td>1.7</td>\n",
              "      <td>0.660</td>\n",
              "      <td>1.0</td>\n",
              "      <td>0.0</td>\n",
              "      <td>0.0</td>\n",
              "      <td>1.0</td>\n",
              "      <td>0.0</td>\n",
              "      <td>0.0</td>\n",
              "      <td>1.0</td>\n",
              "      <td>0.0</td>\n",
              "      <td>0.0</td>\n",
              "      <td>0.0</td>\n",
              "      <td>1.0</td>\n",
              "      <td>0.0</td>\n",
              "    </tr>\n",
              "    <tr>\n",
              "      <th>4</th>\n",
              "      <td>3</td>\n",
              "      <td>1</td>\n",
              "      <td>4</td>\n",
              "      <td>1</td>\n",
              "      <td>172</td>\n",
              "      <td>274</td>\n",
              "      <td>106</td>\n",
              "      <td>1</td>\n",
              "      <td>10118</td>\n",
              "      <td>1.7</td>\n",
              "      <td>0.686</td>\n",
              "      <td>0.0</td>\n",
              "      <td>1.0</td>\n",
              "      <td>0.0</td>\n",
              "      <td>1.0</td>\n",
              "      <td>0.0</td>\n",
              "      <td>0.0</td>\n",
              "      <td>1.0</td>\n",
              "      <td>0.0</td>\n",
              "      <td>0.0</td>\n",
              "      <td>0.0</td>\n",
              "      <td>1.0</td>\n",
              "      <td>0.0</td>\n",
              "    </tr>\n",
              "  </tbody>\n",
              "</table>\n",
              "</div>"
            ],
            "text/plain": [
              "   FAIXA_ETARIA  EVOLUCAO  ...  COMORBIDADE_NAO INFORMADO  COMORBIDADE_SIM\n",
              "0             5         1  ...                        1.0              0.0\n",
              "1             4         1  ...                        1.0              0.0\n",
              "2             3         1  ...                        1.0              0.0\n",
              "3             2         1  ...                        1.0              0.0\n",
              "4             3         1  ...                        1.0              0.0\n",
              "\n",
              "[5 rows x 23 columns]"
            ]
          },
          "metadata": {
            "tags": []
          },
          "execution_count": 62
        }
      ]
    },
    {
      "cell_type": "markdown",
      "metadata": {
        "id": "2oWTSaNrExLI"
      },
      "source": [
        "### Separação do treino e teste"
      ]
    },
    {
      "cell_type": "code",
      "metadata": {
        "id": "-MJDIXVpE2PT"
      },
      "source": [
        "# Criando váriáveis X e y\n",
        "X = ml_cases_evolution_mg.drop('EVOLUCAO', 1)\n",
        "y = ml_cases_evolution_mg['EVOLUCAO']\n",
        "\n",
        "# Dataframe não balanceado\n",
        "nb_X = nb_ml_cases_evolution_mg.drop('EVOLUCAO', 1)\n",
        "nb_y = nb_ml_cases_evolution_mg['EVOLUCAO']\n",
        "\n",
        "# Separando em treino e teste\n",
        "X_train, X_test, y_train, y_test = train_test_split(X, y, test_size = 0.3)\n",
        "\n",
        "# Treino e teste não balanceado\n",
        "nb_X_train, nb_X_test, nb_y_train, nb_y_test = train_test_split(nb_X, nb_y, test_size = 0.3)"
      ],
      "execution_count": 63,
      "outputs": []
    },
    {
      "cell_type": "code",
      "metadata": {
        "id": "ZlMFizBeIQ6y",
        "colab": {
          "base_uri": "https://localhost:8080/"
        },
        "outputId": "e8cd8400-da62-4a3b-f27a-bf8cdb46bf7f"
      },
      "source": [
        "print(\"Treino - X: \" + str(X_train.shape) + \" | y: \" + str(y_train.shape))\n",
        "print(\"Teste - X: \" + str(X_test.shape) + \" | y: \" + str(y_test.shape))"
      ],
      "execution_count": 64,
      "outputs": [
        {
          "output_type": "stream",
          "text": [
            "Treino - X: (42348, 22) | y: (42348,)\n",
            "Teste - X: (18150, 22) | y: (18150,)\n"
          ],
          "name": "stdout"
        }
      ]
    },
    {
      "cell_type": "markdown",
      "metadata": {
        "id": "bUwrKauXDfQD"
      },
      "source": [
        "### Modelos"
      ]
    },
    {
      "cell_type": "code",
      "metadata": {
        "id": "ID4TJDp9xvZ8"
      },
      "source": [
        "# Automatiza a execução dos modelos e obtenção dos resultados\n",
        "def run_classifier(classifier, Xtrain, Xtest, ytrain, ytest, target_labels = None):\n",
        "  results = list()\n",
        "\n",
        "  params_tree = {\n",
        "      'criterion': ['gini','entropy'],\n",
        "      'max_depth': [5, 15]\n",
        "  }\n",
        "  params_svc = {\n",
        "      'kernel': ['poly', 'rbf', 'sigmoid']\n",
        "  }\n",
        "  params_xgb = {\n",
        "      'n_estimators': [100, 150]\n",
        "  }\n",
        "  params_gbc = {\n",
        "      'n_estimators': [100, 150]\n",
        "  }\n",
        "  params_knc = {\n",
        "      'n_neighbors': [3, 5]\n",
        "  }\n",
        "\n",
        "  if type(classifier) != list:\n",
        "    classifier = [classifier]\n",
        "\n",
        "  for clf in classifier:\n",
        "    model_name = clf.__class__.__name__\n",
        "\n",
        "    if (model_name == 'DecisionTreeClassifier') | (model_name == 'RandomForestClassifier'):\n",
        "      params = params_tree\n",
        "    elif model_name == 'GaussianNB':\n",
        "      params = {}\n",
        "    elif model_name == 'SVC':\n",
        "      params = params_svc\n",
        "    elif model_name == 'XGBClassifier':\n",
        "      params = params_xgb\n",
        "    elif model_name == 'GradientBoostingClassifier':\n",
        "      params = params_gbc\n",
        "    elif model_name == 'KNeighborsClassifier':\n",
        "      params = params_knc\n",
        "    else:\n",
        "      raise Exception('Model not yet supported. Supported models: GaussianNB, DecisionTreeClassifier, RandomForestClassifier, SVC, XGBClassifier, GradientBoostingClassifier, KNeighborsClassifier.')\n",
        "    \n",
        "    grid_search = GridSearchCV(estimator=clf,param_grid=params)\n",
        "    grid_search.fit(Xtrain, ytrain)\n",
        "    predictions = grid_search.predict(Xtest)\n",
        "    accuracy = accuracy_score(ytest,predictions)\n",
        "    print(f'----------- MODELO: {model_name} -----------\\n')\n",
        "    print(f'Melhores parâmetros: {grid_search.best_params_}\\n')\n",
        "    print('Matriz de confusão:\\n',pd.DataFrame(data=confusion_matrix(ytest, predictions), index=target_labels, columns=target_labels))\n",
        "    print(f'\\nAcurácia:\\n{(accuracy*100):.2f}% ({accuracy})')\n",
        "    print('\\nRelatório de classificação:\\n',classification_report(ytest, predictions, target_names=target_labels))\n",
        "    print(f'------------------------------------------------------\\n\\n\\n')\n",
        "    result = dict()\n",
        "    result['model'] = model_name\n",
        "    result['best_params'] = grid_search.best_params_\n",
        "    result['params'] = grid_search.best_estimator_.get_params()\n",
        "    result['accuracy'] = accuracy\n",
        "    result['report'] = classification_report(ytest, predictions, target_names=target_labels, output_dict=True)\n",
        "    results.append(result)\n",
        "\n",
        "  return results"
      ],
      "execution_count": 65,
      "outputs": []
    },
    {
      "cell_type": "code",
      "metadata": {
        "id": "NyRZ28d1cRV0"
      },
      "source": [
        "# Modelos a serem usados\n",
        "model_gsn = GaussianNB()\n",
        "model_dtc = DecisionTreeClassifier()\n",
        "model_rfc = RandomForestClassifier()\n",
        "model_svm = SVC()\n",
        "model_xgb = XGBClassifier()\n",
        "model_gbc = GradientBoostingClassifier()\n",
        "model_knc = KNeighborsClassifier()"
      ],
      "execution_count": 66,
      "outputs": []
    },
    {
      "cell_type": "markdown",
      "metadata": {
        "id": "6n94lJHwnbMa"
      },
      "source": [
        "#### Execução"
      ]
    },
    {
      "cell_type": "markdown",
      "metadata": {
        "id": "YwMcE4imm97n"
      },
      "source": [
        "Comparação entre a amostra balanceada e não balanceda usando árvore de decisão com configurações padrão."
      ]
    },
    {
      "cell_type": "code",
      "metadata": {
        "id": "9PKENCa3KwRw"
      },
      "source": [
        "def decision_tree(X,y,Xt,yt):\n",
        "  dt_model = DecisionTreeClassifier()\n",
        "  dt_model.fit(X, y)\n",
        "  dt_predictions = dt_model.predict(Xt)\n",
        "  accuracy = accuracy_score(yt,dt_predictions)\n",
        "  print('Matriz de confusão:\\n',pd.DataFrame(data=confusion_matrix(yt, dt_predictions), index=['OBITO','RECUPERADO'], columns=['OBITO','RECUPERADO']))\n",
        "  print(f'\\nAcurácia:\\n{(accuracy*100):.2f}% ({accuracy})')\n",
        "  print('\\nRelatório de classificação:\\n',classification_report(yt, dt_predictions, target_names=['OBITO','RECUPERADO']))\n",
        "  #print(plot_tree(dt_model))"
      ],
      "execution_count": 67,
      "outputs": []
    },
    {
      "cell_type": "code",
      "metadata": {
        "colab": {
          "base_uri": "https://localhost:8080/"
        },
        "id": "Kg89gblcnltx",
        "outputId": "71d4b56e-41ba-4305-8793-c1af42b0ecd8"
      },
      "source": [
        "print(\"##### Não Balanceado #####\")\n",
        "decision_tree(nb_X_train,nb_y_train,nb_X_test,nb_y_test)\n",
        "print(\"\\n\\n##### Balanceado #####\")\n",
        "decision_tree(X_train,y_train,X_test,y_test)"
      ],
      "execution_count": 68,
      "outputs": [
        {
          "output_type": "stream",
          "text": [
            "##### Não Balanceado #####\n",
            "Matriz de confusão:\n",
            "             OBITO  RECUPERADO\n",
            "OBITO        5044        4044\n",
            "RECUPERADO   4311       99141\n",
            "\n",
            "Acurácia:\n",
            "92.58% (0.9257597298738226)\n",
            "\n",
            "Relatório de classificação:\n",
            "               precision    recall  f1-score   support\n",
            "\n",
            "       OBITO       0.54      0.56      0.55      9088\n",
            "  RECUPERADO       0.96      0.96      0.96    103452\n",
            "\n",
            "    accuracy                           0.93    112540\n",
            "   macro avg       0.75      0.76      0.75    112540\n",
            "weighted avg       0.93      0.93      0.93    112540\n",
            "\n",
            "\n",
            "\n",
            "##### Balanceado #####\n",
            "Matriz de confusão:\n",
            "             OBITO  RECUPERADO\n",
            "OBITO        8176        1021\n",
            "RECUPERADO    905        8048\n",
            "\n",
            "Acurácia:\n",
            "89.39% (0.8938842975206611)\n",
            "\n",
            "Relatório de classificação:\n",
            "               precision    recall  f1-score   support\n",
            "\n",
            "       OBITO       0.90      0.89      0.89      9197\n",
            "  RECUPERADO       0.89      0.90      0.89      8953\n",
            "\n",
            "    accuracy                           0.89     18150\n",
            "   macro avg       0.89      0.89      0.89     18150\n",
            "weighted avg       0.89      0.89      0.89     18150\n",
            "\n"
          ],
          "name": "stdout"
        }
      ]
    },
    {
      "cell_type": "markdown",
      "metadata": {
        "id": "Q_W97Lwsm3rC"
      },
      "source": [
        "Se for avaliado apenas a acurácia, o modelo com a amostra não balanceada poderia ser considerado o melhor, porém acurária não é tudo.\n",
        "\n",
        "Nota-se, especialmente pela precisão e f1-score, que o desempenho da amostra balanceada é melhor que da não balanceada, ou seja, houveram mais acertos em ambas classes.\n",
        "\n",
        "Agora ocorrerá a xecução de diversos classificadores com a amostra balanceada."
      ]
    },
    {
      "cell_type": "code",
      "metadata": {
        "colab": {
          "base_uri": "https://localhost:8080/"
        },
        "id": "Val3NVDs21xn",
        "outputId": "0aa86836-44d9-4a29-c94c-520398896447"
      },
      "source": [
        "models_results = run_classifier([model_gsn,model_dtc,model_rfc,model_xgb,model_gbc,model_knc],X_train,X_test,y_train,y_test,target_labels=['OBITO','RECUPERADO'])"
      ],
      "execution_count": 69,
      "outputs": [
        {
          "output_type": "stream",
          "text": [
            "----------- MODELO: GaussianNB -----------\n",
            "\n",
            "Melhores parâmetros: {}\n",
            "\n",
            "Matriz de confusão:\n",
            "             OBITO  RECUPERADO\n",
            "OBITO        2275        6922\n",
            "RECUPERADO   1133        7820\n",
            "\n",
            "Acurácia:\n",
            "55.62% (0.556198347107438)\n",
            "\n",
            "Relatório de classificação:\n",
            "               precision    recall  f1-score   support\n",
            "\n",
            "       OBITO       0.67      0.25      0.36      9197\n",
            "  RECUPERADO       0.53      0.87      0.66      8953\n",
            "\n",
            "    accuracy                           0.56     18150\n",
            "   macro avg       0.60      0.56      0.51     18150\n",
            "weighted avg       0.60      0.56      0.51     18150\n",
            "\n",
            "------------------------------------------------------\n",
            "\n",
            "\n",
            "\n",
            "----------- MODELO: DecisionTreeClassifier -----------\n",
            "\n",
            "Melhores parâmetros: {'criterion': 'gini', 'max_depth': 5}\n",
            "\n",
            "Matriz de confusão:\n",
            "             OBITO  RECUPERADO\n",
            "OBITO        9058         139\n",
            "RECUPERADO   1063        7890\n",
            "\n",
            "Acurácia:\n",
            "93.38% (0.9337741046831955)\n",
            "\n",
            "Relatório de classificação:\n",
            "               precision    recall  f1-score   support\n",
            "\n",
            "       OBITO       0.89      0.98      0.94      9197\n",
            "  RECUPERADO       0.98      0.88      0.93      8953\n",
            "\n",
            "    accuracy                           0.93     18150\n",
            "   macro avg       0.94      0.93      0.93     18150\n",
            "weighted avg       0.94      0.93      0.93     18150\n",
            "\n",
            "------------------------------------------------------\n",
            "\n",
            "\n",
            "\n",
            "----------- MODELO: RandomForestClassifier -----------\n",
            "\n",
            "Melhores parâmetros: {'criterion': 'gini', 'max_depth': 15}\n",
            "\n",
            "Matriz de confusão:\n",
            "             OBITO  RECUPERADO\n",
            "OBITO        9079         118\n",
            "RECUPERADO   1072        7881\n",
            "\n",
            "Acurácia:\n",
            "93.44% (0.934435261707989)\n",
            "\n",
            "Relatório de classificação:\n",
            "               precision    recall  f1-score   support\n",
            "\n",
            "       OBITO       0.89      0.99      0.94      9197\n",
            "  RECUPERADO       0.99      0.88      0.93      8953\n",
            "\n",
            "    accuracy                           0.93     18150\n",
            "   macro avg       0.94      0.93      0.93     18150\n",
            "weighted avg       0.94      0.93      0.93     18150\n",
            "\n",
            "------------------------------------------------------\n",
            "\n",
            "\n",
            "\n",
            "----------- MODELO: XGBClassifier -----------\n",
            "\n",
            "Melhores parâmetros: {'n_estimators': 150}\n",
            "\n",
            "Matriz de confusão:\n",
            "             OBITO  RECUPERADO\n",
            "OBITO        9082         115\n",
            "RECUPERADO   1047        7906\n",
            "\n",
            "Acurácia:\n",
            "93.60% (0.9359779614325069)\n",
            "\n",
            "Relatório de classificação:\n",
            "               precision    recall  f1-score   support\n",
            "\n",
            "       OBITO       0.90      0.99      0.94      9197\n",
            "  RECUPERADO       0.99      0.88      0.93      8953\n",
            "\n",
            "    accuracy                           0.94     18150\n",
            "   macro avg       0.94      0.94      0.94     18150\n",
            "weighted avg       0.94      0.94      0.94     18150\n",
            "\n",
            "------------------------------------------------------\n",
            "\n",
            "\n",
            "\n",
            "----------- MODELO: GradientBoostingClassifier -----------\n",
            "\n",
            "Melhores parâmetros: {'n_estimators': 150}\n",
            "\n",
            "Matriz de confusão:\n",
            "             OBITO  RECUPERADO\n",
            "OBITO        9066         131\n",
            "RECUPERADO   1025        7928\n",
            "\n",
            "Acurácia:\n",
            "93.63% (0.9363085399449036)\n",
            "\n",
            "Relatório de classificação:\n",
            "               precision    recall  f1-score   support\n",
            "\n",
            "       OBITO       0.90      0.99      0.94      9197\n",
            "  RECUPERADO       0.98      0.89      0.93      8953\n",
            "\n",
            "    accuracy                           0.94     18150\n",
            "   macro avg       0.94      0.94      0.94     18150\n",
            "weighted avg       0.94      0.94      0.94     18150\n",
            "\n",
            "------------------------------------------------------\n",
            "\n",
            "\n",
            "\n",
            "----------- MODELO: KNeighborsClassifier -----------\n",
            "\n",
            "Melhores parâmetros: {'n_neighbors': 3}\n",
            "\n",
            "Matriz de confusão:\n",
            "             OBITO  RECUPERADO\n",
            "OBITO        6452        2745\n",
            "RECUPERADO   2594        6359\n",
            "\n",
            "Acurácia:\n",
            "70.58% (0.705840220385675)\n",
            "\n",
            "Relatório de classificação:\n",
            "               precision    recall  f1-score   support\n",
            "\n",
            "       OBITO       0.71      0.70      0.71      9197\n",
            "  RECUPERADO       0.70      0.71      0.70      8953\n",
            "\n",
            "    accuracy                           0.71     18150\n",
            "   macro avg       0.71      0.71      0.71     18150\n",
            "weighted avg       0.71      0.71      0.71     18150\n",
            "\n",
            "------------------------------------------------------\n",
            "\n",
            "\n",
            "\n"
          ],
          "name": "stdout"
        }
      ]
    },
    {
      "cell_type": "markdown",
      "metadata": {
        "id": "tDXSTjHgE6X6"
      },
      "source": [
        "#### Verificação dos resultados"
      ]
    },
    {
      "cell_type": "code",
      "metadata": {
        "colab": {
          "base_uri": "https://localhost:8080/"
        },
        "id": "903jZ2byo310",
        "outputId": "f4308c86-ead0-4546-c261-cc54eb9ef257"
      },
      "source": [
        "models_results"
      ],
      "execution_count": 70,
      "outputs": [
        {
          "output_type": "execute_result",
          "data": {
            "text/plain": [
              "[{'accuracy': 0.556198347107438,\n",
              "  'best_params': {},\n",
              "  'model': 'GaussianNB',\n",
              "  'params': {'priors': None, 'var_smoothing': 1e-09},\n",
              "  'report': {'OBITO': {'f1-score': 0.3609678698928997,\n",
              "    'precision': 0.6675469483568075,\n",
              "    'recall': 0.24736327063172775,\n",
              "    'support': 9197},\n",
              "   'RECUPERADO': {'f1-score': 0.6600548638953365,\n",
              "    'precision': 0.5304571971238637,\n",
              "    'recall': 0.8734502401429688,\n",
              "    'support': 8953},\n",
              "   'accuracy': 0.556198347107438,\n",
              "   'macro avg': {'f1-score': 0.5105113668941181,\n",
              "    'precision': 0.5990020727403356,\n",
              "    'recall': 0.5604067553873483,\n",
              "    'support': 18150},\n",
              "   'weighted avg': {'f1-score': 0.5085009749785094,\n",
              "    'precision': 0.5999235575695598,\n",
              "    'recall': 0.556198347107438,\n",
              "    'support': 18150}}},\n",
              " {'accuracy': 0.9337741046831955,\n",
              "  'best_params': {'criterion': 'gini', 'max_depth': 5},\n",
              "  'model': 'DecisionTreeClassifier',\n",
              "  'params': {'ccp_alpha': 0.0,\n",
              "   'class_weight': None,\n",
              "   'criterion': 'gini',\n",
              "   'max_depth': 5,\n",
              "   'max_features': None,\n",
              "   'max_leaf_nodes': None,\n",
              "   'min_impurity_decrease': 0.0,\n",
              "   'min_impurity_split': None,\n",
              "   'min_samples_leaf': 1,\n",
              "   'min_samples_split': 2,\n",
              "   'min_weight_fraction_leaf': 0.0,\n",
              "   'presort': 'deprecated',\n",
              "   'random_state': None,\n",
              "   'splitter': 'best'},\n",
              "  'report': {'OBITO': {'f1-score': 0.9377782379128274,\n",
              "    'precision': 0.8949708526825413,\n",
              "    'recall': 0.9848863759921713,\n",
              "    'support': 9197},\n",
              "   'RECUPERADO': {'f1-score': 0.9292191732422564,\n",
              "    'precision': 0.9826877568813053,\n",
              "    'recall': 0.8812688484306936,\n",
              "    'support': 8953},\n",
              "   'accuracy': 0.9337741046831955,\n",
              "   'macro avg': {'f1-score': 0.9334987055775419,\n",
              "    'precision': 0.9388293047819233,\n",
              "    'recall': 0.9330776122114325,\n",
              "    'support': 18150},\n",
              "   'weighted avg': {'f1-score': 0.9335562375824901,\n",
              "    'precision': 0.9382396925333145,\n",
              "    'recall': 0.9337741046831955,\n",
              "    'support': 18150}}},\n",
              " {'accuracy': 0.934435261707989,\n",
              "  'best_params': {'criterion': 'gini', 'max_depth': 15},\n",
              "  'model': 'RandomForestClassifier',\n",
              "  'params': {'bootstrap': True,\n",
              "   'ccp_alpha': 0.0,\n",
              "   'class_weight': None,\n",
              "   'criterion': 'gini',\n",
              "   'max_depth': 15,\n",
              "   'max_features': 'auto',\n",
              "   'max_leaf_nodes': None,\n",
              "   'max_samples': None,\n",
              "   'min_impurity_decrease': 0.0,\n",
              "   'min_impurity_split': None,\n",
              "   'min_samples_leaf': 1,\n",
              "   'min_samples_split': 2,\n",
              "   'min_weight_fraction_leaf': 0.0,\n",
              "   'n_estimators': 100,\n",
              "   'n_jobs': None,\n",
              "   'oob_score': False,\n",
              "   'random_state': None,\n",
              "   'verbose': 0,\n",
              "   'warm_start': False},\n",
              "  'report': {'OBITO': {'f1-score': 0.9384949348769899,\n",
              "    'precision': 0.8943946409220767,\n",
              "    'recall': 0.9871697292595412,\n",
              "    'support': 9197},\n",
              "   'RECUPERADO': {'f1-score': 0.9298017932987259,\n",
              "    'precision': 0.9852481560195024,\n",
              "    'recall': 0.8802635987937004,\n",
              "    'support': 8953},\n",
              "   'accuracy': 0.934435261707989,\n",
              "   'macro avg': {'f1-score': 0.9341483640878578,\n",
              "    'precision': 0.9398213984707895,\n",
              "    'recall': 0.9337166640266208,\n",
              "    'support': 18150},\n",
              "   'weighted avg': {'f1-score': 0.9342067973260147,\n",
              "    'precision': 0.939210702666829,\n",
              "    'recall': 0.934435261707989,\n",
              "    'support': 18150}}},\n",
              " {'accuracy': 0.9359779614325069,\n",
              "  'best_params': {'n_estimators': 150},\n",
              "  'model': 'XGBClassifier',\n",
              "  'params': {'base_score': 0.5,\n",
              "   'booster': 'gbtree',\n",
              "   'colsample_bylevel': 1,\n",
              "   'colsample_bynode': 1,\n",
              "   'colsample_bytree': 1,\n",
              "   'gamma': 0,\n",
              "   'learning_rate': 0.1,\n",
              "   'max_delta_step': 0,\n",
              "   'max_depth': 3,\n",
              "   'min_child_weight': 1,\n",
              "   'missing': None,\n",
              "   'n_estimators': 150,\n",
              "   'n_jobs': 1,\n",
              "   'nthread': None,\n",
              "   'objective': 'binary:logistic',\n",
              "   'random_state': 0,\n",
              "   'reg_alpha': 0,\n",
              "   'reg_lambda': 1,\n",
              "   'scale_pos_weight': 1,\n",
              "   'seed': None,\n",
              "   'silent': None,\n",
              "   'subsample': 1,\n",
              "   'verbosity': 1},\n",
              "  'report': {'OBITO': {'f1-score': 0.9398737452137018,\n",
              "    'precision': 0.8966334287688814,\n",
              "    'recall': 0.9874959225834511,\n",
              "    'support': 9197},\n",
              "   'RECUPERADO': {'f1-score': 0.9315423589018499,\n",
              "    'precision': 0.9856626355815983,\n",
              "    'recall': 0.8830559588964593,\n",
              "    'support': 8953},\n",
              "   'accuracy': 0.9359779614325069,\n",
              "   'macro avg': {'f1-score': 0.9357080520577759,\n",
              "    'precision': 0.9411480321752399,\n",
              "    'recall': 0.9352759407399551,\n",
              "    'support': 18150},\n",
              "   'weighted avg': {'f1-score': 0.9357640536627371,\n",
              "    'precision': 0.9405495989393639,\n",
              "    'recall': 0.9359779614325069,\n",
              "    'support': 18150}}},\n",
              " {'accuracy': 0.9363085399449036,\n",
              "  'best_params': {'n_estimators': 150},\n",
              "  'model': 'GradientBoostingClassifier',\n",
              "  'params': {'ccp_alpha': 0.0,\n",
              "   'criterion': 'friedman_mse',\n",
              "   'init': None,\n",
              "   'learning_rate': 0.1,\n",
              "   'loss': 'deviance',\n",
              "   'max_depth': 3,\n",
              "   'max_features': None,\n",
              "   'max_leaf_nodes': None,\n",
              "   'min_impurity_decrease': 0.0,\n",
              "   'min_impurity_split': None,\n",
              "   'min_samples_leaf': 1,\n",
              "   'min_samples_split': 2,\n",
              "   'min_weight_fraction_leaf': 0.0,\n",
              "   'n_estimators': 150,\n",
              "   'n_iter_no_change': None,\n",
              "   'presort': 'deprecated',\n",
              "   'random_state': None,\n",
              "   'subsample': 1.0,\n",
              "   'tol': 0.0001,\n",
              "   'validation_fraction': 0.1,\n",
              "   'verbose': 0,\n",
              "   'warm_start': False},\n",
              "  'report': {'OBITO': {'f1-score': 0.9400663625051846,\n",
              "    'precision': 0.8984243385194728,\n",
              "    'recall': 0.9857562248559313,\n",
              "    'support': 9197},\n",
              "   'RECUPERADO': {'f1-score': 0.9320479661415472,\n",
              "    'precision': 0.9837448814989452,\n",
              "    'recall': 0.8855132357868871,\n",
              "    'support': 8953},\n",
              "   'accuracy': 0.9363085399449036,\n",
              "   'macro avg': {'f1-score': 0.9360571643233659,\n",
              "    'precision': 0.941084610009209,\n",
              "    'recall': 0.9356347303214092,\n",
              "    'support': 18150},\n",
              "   'weighted avg': {'f1-score': 0.9361110620840469,\n",
              "    'precision': 0.9405111055329834,\n",
              "    'recall': 0.9363085399449036,\n",
              "    'support': 18150}}},\n",
              " {'accuracy': 0.705840220385675,\n",
              "  'best_params': {'n_neighbors': 3},\n",
              "  'model': 'KNeighborsClassifier',\n",
              "  'params': {'algorithm': 'auto',\n",
              "   'leaf_size': 30,\n",
              "   'metric': 'minkowski',\n",
              "   'metric_params': None,\n",
              "   'n_jobs': None,\n",
              "   'n_neighbors': 3,\n",
              "   'p': 2,\n",
              "   'weights': 'uniform'},\n",
              "  'report': {'OBITO': {'f1-score': 0.7073398015677246,\n",
              "    'precision': 0.7132434225071855,\n",
              "    'recall': 0.7015331086223768,\n",
              "    'support': 9197},\n",
              "   'RECUPERADO': {'f1-score': 0.7043251924461428,\n",
              "    'precision': 0.6984841827768014,\n",
              "    'recall': 0.7102647157377415,\n",
              "    'support': 8953},\n",
              "   'accuracy': 0.705840220385675,\n",
              "   'macro avg': {'f1-score': 0.7058324970069336,\n",
              "    'precision': 0.7058638026419934,\n",
              "    'recall': 0.7058989121800592,\n",
              "    'support': 18150},\n",
              "   'weighted avg': {'f1-score': 0.7058527604952439,\n",
              "    'precision': 0.7059630107547817,\n",
              "    'recall': 0.705840220385675,\n",
              "    'support': 18150}}}]"
            ]
          },
          "metadata": {
            "tags": []
          },
          "execution_count": 70
        }
      ]
    },
    {
      "cell_type": "code",
      "metadata": {
        "colab": {
          "base_uri": "https://localhost:8080/"
        },
        "id": "R092YfrVpYmV",
        "outputId": "728efef9-1b8d-41ab-eea1-57b78a3c5d05"
      },
      "source": [
        "print('##### Acurácias #####')\n",
        "for model_result in models_results:\n",
        "  print(f\"{model_result['model']}: {(model_result['accuracy']*100):.2f}%\")"
      ],
      "execution_count": 71,
      "outputs": [
        {
          "output_type": "stream",
          "text": [
            "##### Acurácias #####\n",
            "GaussianNB: 55.62%\n",
            "DecisionTreeClassifier: 93.38%\n",
            "RandomForestClassifier: 93.44%\n",
            "XGBClassifier: 93.60%\n",
            "GradientBoostingClassifier: 93.63%\n",
            "KNeighborsClassifier: 70.58%\n"
          ],
          "name": "stdout"
        }
      ]
    },
    {
      "cell_type": "markdown",
      "metadata": {
        "id": "pv7BPAZYrHEV"
      },
      "source": [
        "## Apresentação dos resultados"
      ]
    },
    {
      "cell_type": "markdown",
      "metadata": {
        "id": "MadIsly8JOsJ"
      },
      "source": [
        "Convertendo resultados para *Dataframe*."
      ]
    },
    {
      "cell_type": "code",
      "metadata": {
        "colab": {
          "base_uri": "https://localhost:8080/",
          "height": 289
        },
        "id": "SAj1y0HUFMZ3",
        "outputId": "399cea57-0510-4c93-e955-7a15916e7665"
      },
      "source": [
        "rows = list()\n",
        "for model_result in models_results:\n",
        "  item = list()\n",
        "  item.append(model_result['model'])\n",
        "  item.append(model_result['accuracy'])\n",
        "  item.append(model_result['report']['OBITO']['f1-score'])\n",
        "  item.append(model_result['report']['OBITO']['precision'])\n",
        "  item.append(model_result['report']['OBITO']['recall'])\n",
        "  item.append(model_result['report']['OBITO']['support'])\n",
        "  item.append(model_result['report']['RECUPERADO']['f1-score'])\n",
        "  item.append(model_result['report']['RECUPERADO']['precision'])\n",
        "  item.append(model_result['report']['RECUPERADO']['recall'])\n",
        "  item.append(model_result['report']['RECUPERADO']['support'])\n",
        "  rows.append(item)\n",
        "\n",
        "df_models_results = pd.DataFrame(rows, columns=['modelo','acurácia','f1-score óbito','precisão óbito','revocação óbito','suporte óbito',\n",
        "                                                'f1-score recuperado','precisão recuperado','revocação recuperado','suporte recuperado'])\n",
        "df_models_results"
      ],
      "execution_count": 72,
      "outputs": [
        {
          "output_type": "execute_result",
          "data": {
            "text/html": [
              "<div>\n",
              "<style scoped>\n",
              "    .dataframe tbody tr th:only-of-type {\n",
              "        vertical-align: middle;\n",
              "    }\n",
              "\n",
              "    .dataframe tbody tr th {\n",
              "        vertical-align: top;\n",
              "    }\n",
              "\n",
              "    .dataframe thead th {\n",
              "        text-align: right;\n",
              "    }\n",
              "</style>\n",
              "<table border=\"1\" class=\"dataframe\">\n",
              "  <thead>\n",
              "    <tr style=\"text-align: right;\">\n",
              "      <th></th>\n",
              "      <th>modelo</th>\n",
              "      <th>acurácia</th>\n",
              "      <th>f1-score óbito</th>\n",
              "      <th>precisão óbito</th>\n",
              "      <th>revocação óbito</th>\n",
              "      <th>suporte óbito</th>\n",
              "      <th>f1-score recuperado</th>\n",
              "      <th>precisão recuperado</th>\n",
              "      <th>revocação recuperado</th>\n",
              "      <th>suporte recuperado</th>\n",
              "    </tr>\n",
              "  </thead>\n",
              "  <tbody>\n",
              "    <tr>\n",
              "      <th>0</th>\n",
              "      <td>GaussianNB</td>\n",
              "      <td>0.556198</td>\n",
              "      <td>0.360968</td>\n",
              "      <td>0.667547</td>\n",
              "      <td>0.247363</td>\n",
              "      <td>9197</td>\n",
              "      <td>0.660055</td>\n",
              "      <td>0.530457</td>\n",
              "      <td>0.873450</td>\n",
              "      <td>8953</td>\n",
              "    </tr>\n",
              "    <tr>\n",
              "      <th>1</th>\n",
              "      <td>DecisionTreeClassifier</td>\n",
              "      <td>0.933774</td>\n",
              "      <td>0.937778</td>\n",
              "      <td>0.894971</td>\n",
              "      <td>0.984886</td>\n",
              "      <td>9197</td>\n",
              "      <td>0.929219</td>\n",
              "      <td>0.982688</td>\n",
              "      <td>0.881269</td>\n",
              "      <td>8953</td>\n",
              "    </tr>\n",
              "    <tr>\n",
              "      <th>2</th>\n",
              "      <td>RandomForestClassifier</td>\n",
              "      <td>0.934435</td>\n",
              "      <td>0.938495</td>\n",
              "      <td>0.894395</td>\n",
              "      <td>0.987170</td>\n",
              "      <td>9197</td>\n",
              "      <td>0.929802</td>\n",
              "      <td>0.985248</td>\n",
              "      <td>0.880264</td>\n",
              "      <td>8953</td>\n",
              "    </tr>\n",
              "    <tr>\n",
              "      <th>3</th>\n",
              "      <td>XGBClassifier</td>\n",
              "      <td>0.935978</td>\n",
              "      <td>0.939874</td>\n",
              "      <td>0.896633</td>\n",
              "      <td>0.987496</td>\n",
              "      <td>9197</td>\n",
              "      <td>0.931542</td>\n",
              "      <td>0.985663</td>\n",
              "      <td>0.883056</td>\n",
              "      <td>8953</td>\n",
              "    </tr>\n",
              "    <tr>\n",
              "      <th>4</th>\n",
              "      <td>GradientBoostingClassifier</td>\n",
              "      <td>0.936309</td>\n",
              "      <td>0.940066</td>\n",
              "      <td>0.898424</td>\n",
              "      <td>0.985756</td>\n",
              "      <td>9197</td>\n",
              "      <td>0.932048</td>\n",
              "      <td>0.983745</td>\n",
              "      <td>0.885513</td>\n",
              "      <td>8953</td>\n",
              "    </tr>\n",
              "    <tr>\n",
              "      <th>5</th>\n",
              "      <td>KNeighborsClassifier</td>\n",
              "      <td>0.705840</td>\n",
              "      <td>0.707340</td>\n",
              "      <td>0.713243</td>\n",
              "      <td>0.701533</td>\n",
              "      <td>9197</td>\n",
              "      <td>0.704325</td>\n",
              "      <td>0.698484</td>\n",
              "      <td>0.710265</td>\n",
              "      <td>8953</td>\n",
              "    </tr>\n",
              "  </tbody>\n",
              "</table>\n",
              "</div>"
            ],
            "text/plain": [
              "                       modelo  ...  suporte recuperado\n",
              "0                  GaussianNB  ...                8953\n",
              "1      DecisionTreeClassifier  ...                8953\n",
              "2      RandomForestClassifier  ...                8953\n",
              "3               XGBClassifier  ...                8953\n",
              "4  GradientBoostingClassifier  ...                8953\n",
              "5        KNeighborsClassifier  ...                8953\n",
              "\n",
              "[6 rows x 10 columns]"
            ]
          },
          "metadata": {
            "tags": []
          },
          "execution_count": 72
        }
      ]
    },
    {
      "cell_type": "markdown",
      "metadata": {
        "id": "YvECyjFTJUuZ"
      },
      "source": [
        "### Gráficos"
      ]
    },
    {
      "cell_type": "code",
      "metadata": {
        "colab": {
          "base_uri": "https://localhost:8080/",
          "height": 620
        },
        "id": "Zh8CYWIWNPzj",
        "outputId": "5babb361-4df8-4af5-8e20-22b84b14f809"
      },
      "source": [
        "sns_plot(x='modelo', y='acurácia', palette='crest', data=df_models_results.sort_values('acurácia', ascending=False), title='Acurácia dos modelos', xlabel='Modelo', ylabel='Acurácia', kind='bar')"
      ],
      "execution_count": 73,
      "outputs": [
        {
          "output_type": "display_data",
          "data": {
            "image/png": "[encoded data removed]",
            "text/plain": [
              "<Figure size 864x576 with 1 Axes>"
            ]
          },
          "metadata": {
            "tags": [],
            "needs_background": "light"
          }
        }
      ]
    },
    {
      "cell_type": "code",
      "metadata": {
        "colab": {
          "base_uri": "https://localhost:8080/",
          "height": 620
        },
        "id": "J9mI05jpsoCm",
        "outputId": "d573938e-87d0-4061-908a-13d527a5c523"
      },
      "source": [
        "sns_plot(x='modelo', y='f1-score óbito', palette='crest', data=df_models_results.sort_values('f1-score óbito', ascending=False), title='f1-score óbito dos modelos', xlabel='Modelo', ylabel='f1-score', kind='bar')"
      ],
      "execution_count": 74,
      "outputs": [
        {
          "output_type": "display_data",
          "data": {
            "image/png": "[encoded data removed]",
            "text/plain": [
              "<Figure size 864x576 with 1 Axes>"
            ]
          },
          "metadata": {
            "tags": [],
            "needs_background": "light"
          }
        }
      ]
    },
    {
      "cell_type": "code",
      "metadata": {
        "colab": {
          "base_uri": "https://localhost:8080/",
          "height": 620
        },
        "id": "IAVr2_4-twLB",
        "outputId": "2fccedf2-387a-4235-fca2-5811c585a96f"
      },
      "source": [
        "sns_plot(x='modelo', y='f1-score recuperado', palette='crest', data=df_models_results.sort_values('f1-score recuperado', ascending=False), title='f1-score recuperado dos modelos', xlabel='Modelo', ylabel='f1-score', kind='bar')"
      ],
      "execution_count": 75,
      "outputs": [
        {
          "output_type": "display_data",
          "data": {
            "image/png": "[encoded data removed]",
            "text/plain": [
              "<Figure size 864x576 with 1 Axes>"
            ]
          },
          "metadata": {
            "tags": [],
            "needs_background": "light"
          }
        }
      ]
    },
    {
      "cell_type": "code",
      "metadata": {
        "colab": {
          "base_uri": "https://localhost:8080/",
          "height": 620
        },
        "id": "LUqgic5Tt69s",
        "outputId": "46a656d7-1fc5-49e6-d135-e63528fc4e8a"
      },
      "source": [
        "sns_plot(x='modelo', y='precisão óbito', palette='crest', data=df_models_results.sort_values('precisão óbito', ascending=False), title='Precisão óbito dos modelos', xlabel='Modelo', ylabel='Precisão', kind='bar')"
      ],
      "execution_count": 76,
      "outputs": [
        {
          "output_type": "display_data",
          "data": {
            "image/png": "[encoded data removed]",
            "text/plain": [
              "<Figure size 864x576 with 1 Axes>"
            ]
          },
          "metadata": {
            "tags": [],
            "needs_background": "light"
          }
        }
      ]
    },
    {
      "cell_type": "code",
      "metadata": {
        "colab": {
          "base_uri": "https://localhost:8080/",
          "height": 620
        },
        "id": "-NInxdyKuM7m",
        "outputId": "e43ba44c-47e3-4555-c67d-3c5bddb03c0a"
      },
      "source": [
        "sns_plot(x='modelo', y='precisão recuperado', palette='crest', data=df_models_results.sort_values('precisão recuperado', ascending=False), title='Precisão recuperado dos modelos', xlabel='Modelo', ylabel='Precisão', kind='bar')"
      ],
      "execution_count": 77,
      "outputs": [
        {
          "output_type": "display_data",
          "data": {
            "image/png": "[encoded data removed]",
            "text/plain": [
              "<Figure size 864x576 with 1 Axes>"
            ]
          },
          "metadata": {
            "tags": [],
            "needs_background": "light"
          }
        }
      ]
    },
    {
      "cell_type": "markdown",
      "metadata": {
        "id": "4OHb3IMfuiVq"
      },
      "source": [
        "Temos um vencedor!\n",
        "\n",
        "O modelo que apresentou melhor desempenho, baseado na avaliação dos resultados, em especial f1-score foi o **GradientBostClassifier**, seguido de perto pelo **XGBClassifier** e em terceiro lugar o **RandomForestClassifier**.\n",
        "\n",
        "Ranking:\n",
        "\n",
        "1.   GradientBostClassifier\n",
        "2.   XGBClassifier\n",
        "3.   RandomForestClassifier\n",
        "\n"
      ]
    },
    {
      "cell_type": "code",
      "metadata": {
        "colab": {
          "base_uri": "https://localhost:8080/",
          "height": 289
        },
        "id": "hwI3jE6duhFW",
        "outputId": "a1fa9484-aa52-44fe-bedc-c668b84cfbce"
      },
      "source": [
        "df_models_results.sort_values(['f1-score óbito','f1-score recuperado'], ascending=[False,False]).reset_index(drop=True)"
      ],
      "execution_count": 78,
      "outputs": [
        {
          "output_type": "execute_result",
          "data": {
            "text/html": [
              "<div>\n",
              "<style scoped>\n",
              "    .dataframe tbody tr th:only-of-type {\n",
              "        vertical-align: middle;\n",
              "    }\n",
              "\n",
              "    .dataframe tbody tr th {\n",
              "        vertical-align: top;\n",
              "    }\n",
              "\n",
              "    .dataframe thead th {\n",
              "        text-align: right;\n",
              "    }\n",
              "</style>\n",
              "<table border=\"1\" class=\"dataframe\">\n",
              "  <thead>\n",
              "    <tr style=\"text-align: right;\">\n",
              "      <th></th>\n",
              "      <th>modelo</th>\n",
              "      <th>acurácia</th>\n",
              "      <th>f1-score óbito</th>\n",
              "      <th>precisão óbito</th>\n",
              "      <th>revocação óbito</th>\n",
              "      <th>suporte óbito</th>\n",
              "      <th>f1-score recuperado</th>\n",
              "      <th>precisão recuperado</th>\n",
              "      <th>revocação recuperado</th>\n",
              "      <th>suporte recuperado</th>\n",
              "    </tr>\n",
              "  </thead>\n",
              "  <tbody>\n",
              "    <tr>\n",
              "      <th>0</th>\n",
              "      <td>GradientBoostingClassifier</td>\n",
              "      <td>0.936309</td>\n",
              "      <td>0.940066</td>\n",
              "      <td>0.898424</td>\n",
              "      <td>0.985756</td>\n",
              "      <td>9197</td>\n",
              "      <td>0.932048</td>\n",
              "      <td>0.983745</td>\n",
              "      <td>0.885513</td>\n",
              "      <td>8953</td>\n",
              "    </tr>\n",
              "    <tr>\n",
              "      <th>1</th>\n",
              "      <td>XGBClassifier</td>\n",
              "      <td>0.935978</td>\n",
              "      <td>0.939874</td>\n",
              "      <td>0.896633</td>\n",
              "      <td>0.987496</td>\n",
              "      <td>9197</td>\n",
              "      <td>0.931542</td>\n",
              "      <td>0.985663</td>\n",
              "      <td>0.883056</td>\n",
              "      <td>8953</td>\n",
              "    </tr>\n",
              "    <tr>\n",
              "      <th>2</th>\n",
              "      <td>RandomForestClassifier</td>\n",
              "      <td>0.934435</td>\n",
              "      <td>0.938495</td>\n",
              "      <td>0.894395</td>\n",
              "      <td>0.987170</td>\n",
              "      <td>9197</td>\n",
              "      <td>0.929802</td>\n",
              "      <td>0.985248</td>\n",
              "      <td>0.880264</td>\n",
              "      <td>8953</td>\n",
              "    </tr>\n",
              "    <tr>\n",
              "      <th>3</th>\n",
              "      <td>DecisionTreeClassifier</td>\n",
              "      <td>0.933774</td>\n",
              "      <td>0.937778</td>\n",
              "      <td>0.894971</td>\n",
              "      <td>0.984886</td>\n",
              "      <td>9197</td>\n",
              "      <td>0.929219</td>\n",
              "      <td>0.982688</td>\n",
              "      <td>0.881269</td>\n",
              "      <td>8953</td>\n",
              "    </tr>\n",
              "    <tr>\n",
              "      <th>4</th>\n",
              "      <td>KNeighborsClassifier</td>\n",
              "      <td>0.705840</td>\n",
              "      <td>0.707340</td>\n",
              "      <td>0.713243</td>\n",
              "      <td>0.701533</td>\n",
              "      <td>9197</td>\n",
              "      <td>0.704325</td>\n",
              "      <td>0.698484</td>\n",
              "      <td>0.710265</td>\n",
              "      <td>8953</td>\n",
              "    </tr>\n",
              "    <tr>\n",
              "      <th>5</th>\n",
              "      <td>GaussianNB</td>\n",
              "      <td>0.556198</td>\n",
              "      <td>0.360968</td>\n",
              "      <td>0.667547</td>\n",
              "      <td>0.247363</td>\n",
              "      <td>9197</td>\n",
              "      <td>0.660055</td>\n",
              "      <td>0.530457</td>\n",
              "      <td>0.873450</td>\n",
              "      <td>8953</td>\n",
              "    </tr>\n",
              "  </tbody>\n",
              "</table>\n",
              "</div>"
            ],
            "text/plain": [
              "                       modelo  ...  suporte recuperado\n",
              "0  GradientBoostingClassifier  ...                8953\n",
              "1               XGBClassifier  ...                8953\n",
              "2      RandomForestClassifier  ...                8953\n",
              "3      DecisionTreeClassifier  ...                8953\n",
              "4        KNeighborsClassifier  ...                8953\n",
              "5                  GaussianNB  ...                8953\n",
              "\n",
              "[6 rows x 10 columns]"
            ]
          },
          "metadata": {
            "tags": []
          },
          "execution_count": 78
        }
      ]
    }
  ]
}